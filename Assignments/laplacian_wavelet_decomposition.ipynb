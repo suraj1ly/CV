{
 "cells": [
  {
   "cell_type": "code",
   "execution_count": 176,
   "metadata": {},
   "outputs": [],
   "source": [
    "import numpy as np\n",
    "import cv2\n",
    "import random\n",
    "import math\n",
    "import copy\n"
   ]
  },
  {
   "cell_type": "code",
   "execution_count": 177,
   "metadata": {},
   "outputs": [],
   "source": [
    "import pywt"
   ]
  },
  {
   "cell_type": "code",
   "execution_count": null,
   "metadata": {},
   "outputs": [],
   "source": []
  },
  {
   "cell_type": "code",
   "execution_count": 178,
   "metadata": {},
   "outputs": [],
   "source": [
    "def gaussian_func(x,y,std):\n",
    "    value=(-1)*(x**2-y**2)/float(2*(std**2))\n",
    "    return math.exp(value)/float((2*math.pi*(std**2)))\n",
    "\n",
    "    "
   ]
  },
  {
   "cell_type": "code",
   "execution_count": 179,
   "metadata": {},
   "outputs": [],
   "source": [
    "def gaussian_filter(image,kernel_func,i,j):\n",
    "    len1=len(kernel_func)\n",
    "    len2=len1\n",
    "    len1=int(len1/2)\n",
    "    filter_space=[]\n",
    "    for k in range((i-len1),(i+len1+1)):\n",
    "        temp=[]\n",
    "        for l in range((j-len1),(j+len1+1)):\n",
    "            temp.append(image[k][l])\n",
    "        filter_space.append(temp)\n",
    "    \n",
    "    final_array=(np.array(filter_space).reshape(len2,len2))*(np.array(kernel_func).reshape(len2,len2))\n",
    "    return np.sum(final_array)"
   ]
  },
  {
   "cell_type": "code",
   "execution_count": 180,
   "metadata": {},
   "outputs": [],
   "source": [
    "def remove_padding(image,size):\n",
    "    len1=len(image)\n",
    "    len2=len(image[0])\n",
    "    size=int(size/2)\n",
    "    for i in range(size):\n",
    "        del image[0]\n",
    "        \n",
    "    for i in range(size):\n",
    "        del image[len1-2*size]\n",
    "    \n",
    "    \n",
    "    for i in range(len(image)):\n",
    "        for j in range(size):\n",
    "            del image[i][0]\n",
    "        \n",
    "        for j in range(size):\n",
    "            del image[i][len2-2*size]\n",
    "    return image\n",
    "    \n"
   ]
  },
  {
   "cell_type": "code",
   "execution_count": 181,
   "metadata": {},
   "outputs": [],
   "source": [
    "def padding(image,size):\n",
    "    size=int(size/2)\n",
    "    len1,len2=image.shape\n",
    "    pad=[]\n",
    "    for i in range(0,(len1+2*size)):\n",
    "        temp=[]\n",
    "        for j in range(0,(len2+2*size)):\n",
    "            if i<size or j<size  or j>=(len2+size) or i>=(len1+size):\n",
    "                temp.append(0)\n",
    "            else:\n",
    "                temp.append(image[i-size][j-size])\n",
    "        pad.append(temp)\n",
    "    return pad\n",
    "    pass"
   ]
  },
  {
   "cell_type": "code",
   "execution_count": null,
   "metadata": {},
   "outputs": [],
   "source": []
  },
  {
   "cell_type": "code",
   "execution_count": 182,
   "metadata": {},
   "outputs": [],
   "source": [
    "# Load an color image \n",
    "img = cv2.imread('image_3.png',0)\n",
    "cv2.imshow('Main Image ',img)\n",
    "cv2.waitKey(0)\n",
    "cv2.destroyAllWindows()"
   ]
  },
  {
   "cell_type": "code",
   "execution_count": 183,
   "metadata": {},
   "outputs": [],
   "source": [
    "#Q6\n",
    "#1. Add salt pepper noise as 10%\n",
    "h=np.array(img[::])\n",
    "k=h.shape\n",
    "image_main=img[:]\n",
    "image_main1=copy.deepcopy(image_main)\n",
    "size_image=len(image_main)*len(image_main[0])\n",
    "iteration1=int(size_image/10)\n",
    "for i in range(iteration1):\n",
    "    choice1=random.randint(0,(size_image-1))\n",
    "    choice2=random.randint(0,1)\n",
    "    index1=int(choice1/len(image_main[0]))\n",
    "    index2=choice1%len(image_main[0])\n",
    "    #0 means black \n",
    "    #1 means white\n",
    "    if choice2==0:\n",
    "        image_main[index1][index2]=0\n",
    "    else:\n",
    "        image_main[index1][index2]=255 \n",
    "b=np.array(image_main)"
   ]
  },
  {
   "cell_type": "code",
   "execution_count": 184,
   "metadata": {},
   "outputs": [],
   "source": [
    "cv2.imwrite('aftersaltpepper_6_1.png', b/np.max(b)*255)\n",
    "cv2.imshow('After Salt Pepper Noise 10%_6',b/np.max(b))\n",
    "cv2.waitKey(0)\n",
    "cv2.destroyAllWindows()"
   ]
  },
  {
   "cell_type": "code",
   "execution_count": 185,
   "metadata": {},
   "outputs": [],
   "source": [
    "laplacian_res = cv2.Laplacian(image_main1,cv2.CV_64F)"
   ]
  },
  {
   "cell_type": "code",
   "execution_count": 186,
   "metadata": {},
   "outputs": [],
   "source": [
    "cv2.imwrite('laplacian_filtered_output.png', laplacian_res/np.max(laplacian_res)*255)\n",
    "cv2.imshow('Laplacian Filtered Output_6',laplacian_res/np.max(laplacian_res))\n",
    "cv2.waitKey(0)\n",
    "cv2.destroyAllWindows()\n",
    "resultant=laplacian_res+b\n"
   ]
  },
  {
   "cell_type": "code",
   "execution_count": 187,
   "metadata": {},
   "outputs": [],
   "source": [
    "cv2.imwrite('laplacian_filtered_output_withsaltpepper.png', resultant/np.max(resultant)*255)\n",
    "cv2.imshow('Laplacian Filtered Output With Salt Pepper_6',resultant/np.max(resultant))\n",
    "cv2.waitKey(0)\n",
    "cv2.destroyAllWindows()"
   ]
  },
  {
   "cell_type": "code",
   "execution_count": null,
   "metadata": {},
   "outputs": [],
   "source": []
  },
  {
   "cell_type": "code",
   "execution_count": null,
   "metadata": {},
   "outputs": [],
   "source": []
  },
  {
   "cell_type": "code",
   "execution_count": null,
   "metadata": {},
   "outputs": [],
   "source": []
  },
  {
   "cell_type": "code",
   "execution_count": 188,
   "metadata": {},
   "outputs": [],
   "source": [
    "#Remove these comments \n",
    "\n",
    "#stackoverflow\n",
    "# Haar Wavelet Decomposition\n",
    "sigma=np.std(resultant)\n",
    "length1,length2=resultant.shape\n",
    "\n",
    "constant1=sigma*math.sqrt(2*math.log(length1*length2))\n",
    "haar_res1=pywt.dwt2(resultant,'haar')\n",
    "ll1,(lh1,hl1,hh1)=haar_res1\n",
    "cv2.imwrite('ll1.png',(ll1/np.max(ll1)*255))\n",
    "cv2.imshow('After Completion of Q 6  ',ll1/np.max(ll1))\n",
    "cv2.waitKey(0)\n",
    "cv2.imwrite('lh1.png',(lh1/np.max(lh1)*255))\n",
    "cv2.imshow('After Completion of Q 6  ',lh1/np.max(lh1))\n",
    "cv2.waitKey(0)\n",
    "cv2.imwrite('hl1.png',(hl1/np.max(hl1)*255))\n",
    "cv2.imshow('After Completion of Q 6  ',hl1/np.max(hl1))\n",
    "cv2.waitKey(0)\n",
    "cv2.imwrite('hh1.png',(hh1/np.max(hh1)*255))\n",
    "cv2.imshow('hh1 Completion of Q 6  ',hh1/np.max(hh1))\n",
    "cv2.waitKey(0)\n",
    "haar_res2=pywt.dwt2(ll1,'haar')\n",
    "ll2,(lh2,hl2,hh2)=haar_res2\n",
    "\n",
    "hh_new2=pywt.threshold(hh2,constant1,'hard')\n",
    "coeffs1=ll2,(lh2,hl2,hh_new2)\n",
    "ll_new1=pywt.idwt2(coeffs1, 'haar')\n",
    "# ll_new1=ll2,(lh2,hl2,hh_new2)\n",
    "hh_new1=pywt.threshold(hh1,constant1,'hard')\n",
    "coeffs2=ll_new1,(lh1,hl1,hh_new1)\n",
    "coeffs3=pywt.idwt2(coeffs1, 'haar')\n",
    "cv2.imwrite('after_removal_noise_smoothing.png',(coeffs3/np.max(coeffs3)*255))\n",
    "cv2.imshow('After Completion of Q 6  ',coeffs3/np.max(coeffs3))\n",
    "cv2.waitKey(0)\n",
    "cv2.destroyAllWindows()\n",
    "# ca2=np.uint8(ca)\n",
    "# ch2=np.uint8(ch)\n",
    "# cv2=np.uint8(cv)\n",
    "# cd2=np.uint8(cd)\n",
    "\n",
    "\n",
    "# haar_res=ca2,(ch2,cv2,cd2)\n",
    "# origin=pywt.idwt2(haar_res,'haar')\n",
    "# cv2.imshow('Haar Resultant',np.array(origin))\n",
    "# cv2.waitKey(0)\n",
    "# cv2.destroyAllWindows()"
   ]
  },
  {
   "cell_type": "code",
   "execution_count": 189,
   "metadata": {},
   "outputs": [],
   "source": [
    "#If needed remove it\n",
    "\n",
    "# #To remove the high frequency signals and to make smooth in spatial domain, used gaussian filter\n",
    "# #5*5 gaussian filter \n",
    "# #Q6 for Gaussian filter \n",
    "# image_main=copy.deepcopy(resultant)\n",
    "# #5*5 gaussian filter \n",
    "# kernel=5\n",
    "# kernel_space=[]\n",
    "# for i in range(kernel):\n",
    "#     temp=[]\n",
    "#     for j in range(kernel):\n",
    "#         temp.append(gaussian_func((i-2),(j-2),1))\n",
    "#     kernel_space.append(temp)\n",
    "# # print(kernel_space)\n",
    "# kernel_space/=np.sum(kernel_space)\n",
    "# pad1=[]\n",
    "# pad1=padding(image_main,5)\n",
    "# pad2=copy.deepcopy(pad1)\n",
    "# # cv2.imshow('dskjgif',np.array(pad1)/255)\n",
    "# for i in range(2,(len(pad1)-2)):\n",
    "#     for j in range(2,(len(pad1[i])-2)):\n",
    "#         pad1[i][j]=gaussian_filter(pad1,list(kernel_space),i,j)\n",
    "# pad1=remove_padding(pad1,5)\n",
    "# b=np.array(pad1)\n",
    "# cv2.imwrite('gaussian_smooth_for_highfrequency_6_5*5.png',(b))\n",
    "# cv2.imshow('Gaussian Filter 5*5  for Removing High frequency and Smoothing ',b/np.max(b))\n",
    "# cv2.waitKey(0)\n",
    "# cv2.destroyAllWindows()"
   ]
  },
  {
   "cell_type": "code",
   "execution_count": null,
   "metadata": {},
   "outputs": [],
   "source": []
  }
 ],
 "metadata": {
  "kernelspec": {
   "display_name": "Python 3",
   "language": "python",
   "name": "python3"
  },
  "language_info": {
   "codemirror_mode": {
    "name": "ipython",
    "version": 3
   },
   "file_extension": ".py",
   "mimetype": "text/x-python",
   "name": "python",
   "nbconvert_exporter": "python",
   "pygments_lexer": "ipython3",
   "version": "3.7.1"
  }
 },
 "nbformat": 4,
 "nbformat_minor": 2
}
