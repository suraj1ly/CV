{
 "cells": [
  {
   "cell_type": "code",
   "execution_count": 65,
   "metadata": {},
   "outputs": [],
   "source": [
    "import numpy as np\n",
    "import cv2"
   ]
  },
  {
   "cell_type": "code",
   "execution_count": 66,
   "metadata": {},
   "outputs": [],
   "source": [
    "# import matplotlib.pyplot as plt\n"
   ]
  },
  {
   "cell_type": "code",
   "execution_count": 67,
   "metadata": {},
   "outputs": [],
   "source": [
    "def remove_padding(image,size):\n",
    "    len1=len(image)\n",
    "    len2=len(image[0])\n",
    "    size=int(size/2)\n",
    "    for i in range(size):\n",
    "        del image[0]\n",
    "        \n",
    "    for i in range(size):\n",
    "        del image[len1-2*size]\n",
    "    \n",
    "    \n",
    "    for i in range(len(image)):\n",
    "        for j in range(size):\n",
    "            del image[i][0]\n",
    "        \n",
    "        for j in range(size):\n",
    "            del image[i][len2-2*size]\n",
    "    return image\n",
    "    \n"
   ]
  },
  {
   "cell_type": "code",
   "execution_count": 68,
   "metadata": {},
   "outputs": [],
   "source": [
    "def padding(image,size):\n",
    "    size=int(size/2)\n",
    "    len1,len2=image.shape\n",
    "    pad=[]\n",
    "    for i in range(0,(len1+2*size)):\n",
    "        temp=[]\n",
    "        for j in range(0,(len2+2*size)):\n",
    "            if i<size or j<size  or j>=(len2+size) or i>=(len1+size):\n",
    "                temp.append(0)\n",
    "            else:\n",
    "                temp.append(image[i-size][j-size])\n",
    "        pad.append(temp)\n",
    "    return pad\n",
    "    pass"
   ]
  },
  {
   "cell_type": "code",
   "execution_count": 90,
   "metadata": {},
   "outputs": [],
   "source": [
    "def summing(image):\n",
    "    length1=len(image)\n",
    "    length2=len(image[0])\n",
    "    counter=0\n",
    "    for i in range(length1):\n",
    "        for j in range(length2):\n",
    "            counter=counter+image[i][j]\n",
    "    return counter\n",
    "    "
   ]
  },
  {
   "cell_type": "code",
   "execution_count": 69,
   "metadata": {},
   "outputs": [],
   "source": [
    "def average_filter(image,kernel_func,i,j):\n",
    "    len1=len(kernel_func)\n",
    "    len2=len1\n",
    "    len1=int(len1/2)\n",
    "    filter_space=[]\n",
    "    for k in range((i-len1),(i+len1+1)):\n",
    "        temp=[]\n",
    "        for l in range((j-len1),(j+len1+1)):\n",
    "            temp.append(image[k][l])\n",
    "        filter_space.append(temp)\n",
    "    final_array=np.array(filter_space).reshape(len2,len2)*np.array(kernel_func).reshape(len2,len2)\n",
    "    \n",
    "    return summing(final_array)"
   ]
  },
  {
   "cell_type": "code",
   "execution_count": 70,
   "metadata": {},
   "outputs": [],
   "source": [
    "# Load an color image \n",
    "img = cv2.imread('image_1.jpg',1)\n",
    "cv2.imshow('Main Image ',img)\n",
    "cv2.waitKey(0)\n",
    "cv2.destroyAllWindows()"
   ]
  },
  {
   "cell_type": "code",
   "execution_count": 71,
   "metadata": {},
   "outputs": [],
   "source": [
    "size_local=255"
   ]
  },
  {
   "cell_type": "code",
   "execution_count": 72,
   "metadata": {},
   "outputs": [],
   "source": [
    "#Q1\n",
    "#For 3*3 kernel\n",
    "kernel=np.ones((3,3))/9\n",
    "h=np.array(img[::])\n",
    "k=h.shape\n",
    "layer1=img[:,:,0]\n",
    "layer2=img[:,:,1]\n",
    "layer3=img[:,:,2]\n",
    "len3=len(layer1)\n",
    "len4=len(layer1[0])"
   ]
  },
  {
   "cell_type": "code",
   "execution_count": 73,
   "metadata": {},
   "outputs": [],
   "source": [
    "pad1=[]\n",
    "pad1=padding(layer1,3)\n",
    "pad2=[]\n",
    "pad2=padding(layer2,3)\n",
    "pad3=[]\n",
    "pad3=padding(layer3,3)"
   ]
  },
  {
   "cell_type": "code",
   "execution_count": 74,
   "metadata": {},
   "outputs": [],
   "source": [
    "for i in range(1,(len(pad1)-1)):\n",
    "    for j in range(1,(len(pad1[i])-1)):\n",
    "        pad1[i][j]=average_filter(pad1,list(kernel),i,j)\n",
    "for i in range(1,(len(pad2)-1)):\n",
    "    for j in range(1,(len(pad2[i])-1)):\n",
    "        pad2[i][j]=average_filter(pad2,list(kernel),i,j)\n",
    "for i in range(1,(len(pad3)-1)):\n",
    "    for j in range(1,(len(pad3[i])-1)):\n",
    "        pad3[i][j]=average_filter(pad3,list(kernel),i,j)\n",
    "                "
   ]
  },
  {
   "cell_type": "code",
   "execution_count": 75,
   "metadata": {},
   "outputs": [],
   "source": [
    "pad1=remove_padding(pad1,3)\n",
    "pad2=remove_padding(pad2,3)\n",
    "pad3=remove_padding(pad3,3)\n",
    "b=np.array\n",
    "b = np.zeros([len3,len4,3])\n",
    "b[:,:,0] = np.array(pad1)\n",
    "b[:,:,1] = np.array(pad2)\n",
    "b[:,:,2] = np.array(pad3)"
   ]
  },
  {
   "cell_type": "code",
   "execution_count": 76,
   "metadata": {},
   "outputs": [],
   "source": [
    "cv2.imwrite('color_img_averagefilter3_3.jpg', (b/np.max(b)*size_local))\n",
    "cv2.imshow('After average 3*3 filter ',b/np.max(b))\n",
    "cv2.waitKey(0)\n",
    "cv2.destroyAllWindows()"
   ]
  },
  {
   "cell_type": "code",
   "execution_count": 77,
   "metadata": {},
   "outputs": [],
   "source": [
    "#Q1\n",
    "#For 5*5 kernel\n",
    "del kernel\n",
    "kernel=np.ones((5,5))/25\n",
    "h=np.array(img[::])\n",
    "k=h.shape\n",
    "layer1=img[:,:,0]\n",
    "layer2=img[:,:,1]\n",
    "layer3=img[:,:,2]\n"
   ]
  },
  {
   "cell_type": "code",
   "execution_count": 78,
   "metadata": {},
   "outputs": [],
   "source": [
    "pad1=[]\n",
    "pad1=padding(layer1,5)\n",
    "pad2=[]\n",
    "pad2=padding(layer2,5)\n",
    "pad3=[]\n",
    "pad3=padding(layer3,5)"
   ]
  },
  {
   "cell_type": "code",
   "execution_count": 79,
   "metadata": {},
   "outputs": [],
   "source": [
    "for i in range(2,(len(pad1)-2)):\n",
    "    for j in range(2,(len(pad1[i])-2)):\n",
    "        pad1[i][j]=average_filter(pad1,list(kernel),i,j)\n",
    "for i in range(2,(len(pad2)-2)):\n",
    "    for j in range(2,(len(pad2[i])-2)):\n",
    "        pad2[i][j]=average_filter(pad2,list(kernel),i,j)\n",
    "for i in range(2,(len(pad3)-2)):\n",
    "    for j in range(2,(len(pad3[i])-2)):\n",
    "        pad3[i][j]=average_filter(pad3,list(kernel),i,j)\n",
    "              "
   ]
  },
  {
   "cell_type": "code",
   "execution_count": 80,
   "metadata": {},
   "outputs": [],
   "source": [
    "pad1=remove_padding(pad1,5)\n",
    "pad2=remove_padding(pad2,5)\n",
    "pad3=remove_padding(pad3,5)"
   ]
  },
  {
   "cell_type": "code",
   "execution_count": 81,
   "metadata": {},
   "outputs": [],
   "source": [
    "del b\n",
    "b=np.array\n",
    "b = np.zeros([len3,len4,3])\n",
    "b[:,:,0] = np.array(pad1)\n",
    "b[:,:,1] = np.array(pad2)\n",
    "b[:,:,2] = np.array(pad3)"
   ]
  },
  {
   "cell_type": "code",
   "execution_count": 82,
   "metadata": {},
   "outputs": [],
   "source": [
    "cv2.imwrite('color_img_averagefilter5_5.jpg', (b/np.max(b)*size_local))\n",
    "cv2.imshow('Image 5*5 average filter',b/np.max(b))\n",
    "cv2.waitKey(0)\n",
    "cv2.destroyAllWindows()"
   ]
  },
  {
   "cell_type": "code",
   "execution_count": null,
   "metadata": {},
   "outputs": [],
   "source": []
  },
  {
   "cell_type": "code",
   "execution_count": 83,
   "metadata": {},
   "outputs": [],
   "source": [
    "#Q1 Average 11*11Filter \n",
    "del kernel\n",
    "kernel=np.ones((11,11))/121\n",
    "h=np.array(img[::])\n",
    "k=h.shape\n",
    "layer1=img[:,:,0]\n",
    "layer2=img[:,:,1]\n",
    "layer3=img[:,:,2]\n",
    "pad1=[]\n",
    "pad1=padding(layer1,11)\n",
    "pad2=[]\n",
    "pad2=padding(layer2,11)\n",
    "pad3=[]\n",
    "pad3=padding(layer3,11)"
   ]
  },
  {
   "cell_type": "code",
   "execution_count": 84,
   "metadata": {},
   "outputs": [],
   "source": [
    "for i in range(5,(len(pad1)-5)):\n",
    "    for j in range(5,(len(pad1[i])-5)):\n",
    "        pad1[i][j]=average_filter(pad1,list(kernel),i,j)\n",
    "for i in range(5,(len(pad2)-5)):\n",
    "    for j in range(5,(len(pad2[i])-5)):\n",
    "        pad2[i][j]=average_filter(pad2,list(kernel),i,j)\n",
    "for i in range(5,(len(pad3)-5)):\n",
    "    for j in range(5,(len(pad3[i])-5)):\n",
    "        pad3[i][j]=average_filter(pad3,list(kernel),i,j)\n",
    "pad1=remove_padding(pad1,11)\n",
    "pad2=remove_padding(pad2,11)\n",
    "pad3=remove_padding(pad3,11)      \n",
    "del b\n",
    "b=np.array\n",
    "b = np.zeros([len3,len4,3])\n",
    "b[:,:,0] = np.array(pad1)\n",
    "b[:,:,1] = np.array(pad2)\n",
    "b[:,:,2] = np.array(pad3)"
   ]
  },
  {
   "cell_type": "code",
   "execution_count": 85,
   "metadata": {},
   "outputs": [],
   "source": [
    "cv2.imwrite('color_img_averagefilter11_11.jpg', (b/np.max(b)*size_local))\n",
    "cv2.imshow('Image 11*11 average filter',b/np.max(b))\n",
    "cv2.waitKey(0)\n",
    "cv2.destroyAllWindows()"
   ]
  },
  {
   "cell_type": "code",
   "execution_count": 86,
   "metadata": {},
   "outputs": [],
   "source": [
    "#Q1 Average 15*15Filter \n",
    "kernel=np.ones((15,15))/225\n",
    "h=np.array(img[::])\n",
    "k=h.shape\n",
    "layer1=img[:,:,0]\n",
    "layer2=img[:,:,1]\n",
    "layer3=img[:,:,2]\n",
    "pad1=[]\n",
    "pad1=padding(layer1,15)\n",
    "pad2=[]\n",
    "pad2=padding(layer2,15)\n",
    "pad3=[]\n",
    "pad3=padding(layer3,15)"
   ]
  },
  {
   "cell_type": "code",
   "execution_count": 87,
   "metadata": {},
   "outputs": [],
   "source": [
    "for i in range(7,(len(pad1)-7)):\n",
    "    for j in range(7,(len(pad1[i])-7)):\n",
    "        pad1[i][j]=average_filter(pad1,list(kernel),i,j)\n",
    "for i in range(7,(len(pad2)-7)):\n",
    "    for j in range(7,(len(pad2[i])-7)):\n",
    "        pad2[i][j]=average_filter(pad2,list(kernel),i,j)\n",
    "for i in range(7,(len(pad3)-7)):\n",
    "    for j in range(7,(len(pad3[i])-7)):\n",
    "        pad3[i][j]=average_filter(pad3,list(kernel),i,j)\n",
    "pad1=remove_padding(pad1,15)\n",
    "pad2=remove_padding(pad2,15)\n",
    "pad3=remove_padding(pad3,15)       \n",
    "del b\n",
    "b=np.array\n",
    "b = np.zeros([len3,len4,3])\n",
    "b[:,:,0] = np.array(pad1)\n",
    "b[:,:,1] = np.array(pad2)\n",
    "b[:,:,2] = np.array(pad3)"
   ]
  },
  {
   "cell_type": "code",
   "execution_count": 88,
   "metadata": {},
   "outputs": [],
   "source": [
    "cv2.imwrite('color_img_averagefilter15_15.jpg', (b/np.max(b)*size_local))\n",
    "cv2.imshow('Image 15*15 average filter',b/np.max(b))\n",
    "cv2.waitKey(0)\n",
    "cv2.destroyAllWindows()"
   ]
  },
  {
   "cell_type": "code",
   "execution_count": null,
   "metadata": {},
   "outputs": [],
   "source": []
  }
 ],
 "metadata": {
  "kernelspec": {
   "display_name": "Python 3",
   "language": "python",
   "name": "python3"
  },
  "language_info": {
   "codemirror_mode": {
    "name": "ipython",
    "version": 3
   },
   "file_extension": ".py",
   "mimetype": "text/x-python",
   "name": "python",
   "nbconvert_exporter": "python",
   "pygments_lexer": "ipython3",
   "version": "3.7.1"
  }
 },
 "nbformat": 4,
 "nbformat_minor": 2
}
