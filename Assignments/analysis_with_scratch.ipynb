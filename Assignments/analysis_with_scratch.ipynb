{
 "cells": [
  {
   "cell_type": "code",
   "execution_count": 23,
   "metadata": {},
   "outputs": [],
   "source": [
    "import numpy as np\n",
    "import cv2\n",
    "import random\n",
    "import math\n",
    "import copy"
   ]
  },
  {
   "cell_type": "code",
   "execution_count": 24,
   "metadata": {},
   "outputs": [],
   "source": [
    "def summing(image):\n",
    "    length1=len(image)\n",
    "    length2=len(image[0])\n",
    "    counter=0\n",
    "    for i in range(length1):\n",
    "        for j in range(length2):\n",
    "            counter=counter+image[i][j]\n",
    "    return counter\n",
    "    "
   ]
  },
  {
   "cell_type": "code",
   "execution_count": 25,
   "metadata": {},
   "outputs": [],
   "source": [
    "def remove_padding(image,size):\n",
    "    len1=len(image)\n",
    "    len2=len(image[0])\n",
    "    size=int(size/2)\n",
    "    for i in range(size):\n",
    "        del image[0]\n",
    "        \n",
    "    for i in range(size):\n",
    "        del image[len1-2*size]\n",
    "\n",
    "    for i in range(len(image)):\n",
    "        for j in range(size):\n",
    "            del image[i][0]\n",
    "        \n",
    "        for j in range(size):\n",
    "            del image[i][len2-2*size]\n",
    "    return image\n",
    "    \n"
   ]
  },
  {
   "cell_type": "code",
   "execution_count": 26,
   "metadata": {},
   "outputs": [],
   "source": [
    "def median_calculate(image):\n",
    "    length1=len(image)\n",
    "    length2=len(image[0])\n",
    "    temp=[]\n",
    "    median_value=0\n",
    "    for i in range(length1):\n",
    "        for j in range(length2):\n",
    "            temp.append(image[i][j])\n",
    "    temp.sort()\n",
    "    l1=len(temp)\n",
    "    if len(temp)%2==0:\n",
    "        median_value=(temp[int(l1/2)]+temp[int(l1/2)-1])/float(2)\n",
    "        pass\n",
    "    else:\n",
    "        median_value=temp[int(l1/2)]\n",
    "        pass\n",
    "    return median_value\n",
    "            "
   ]
  },
  {
   "cell_type": "code",
   "execution_count": 27,
   "metadata": {},
   "outputs": [],
   "source": [
    "def median_filter(image,len_kernel,i,j):\n",
    "    len1=int(len_kernel/2)\n",
    "    filter_space=[]\n",
    "    for k in range((i-len1),(i+len1+1)):\n",
    "        temp=[]\n",
    "        for l in range((j-len1),(j+len1+1)):\n",
    "            temp.append(image[k][l])\n",
    "        filter_space.append(temp)\n",
    "    median_value1=median_calculate(filter_space)\n",
    "    return median_value1"
   ]
  },
  {
   "cell_type": "code",
   "execution_count": null,
   "metadata": {},
   "outputs": [],
   "source": []
  },
  {
   "cell_type": "code",
   "execution_count": 28,
   "metadata": {},
   "outputs": [],
   "source": [
    "def padding(image,size):\n",
    "    size=int(size/2)\n",
    "    len1,len2=image.shape\n",
    "    pad=[]\n",
    "    for i in range(0,(len1+2*size)):\n",
    "        temp=[]\n",
    "        for j in range(0,(len2+2*size)):\n",
    "            if i<size or j<size  or j>=(len2+size) or i>=(len1+size):\n",
    "                temp.append(0)\n",
    "            else:\n",
    "                temp.append(image[i-size][j-size])\n",
    "        pad.append(temp)\n",
    "    return pad\n",
    "    pass"
   ]
  },
  {
   "cell_type": "code",
   "execution_count": 29,
   "metadata": {},
   "outputs": [],
   "source": [
    "def average_filter(image,kernel_func,i,j):\n",
    "    len1=len(kernel_func)\n",
    "    len2=len1\n",
    "    len1=int(len1/2)\n",
    "    filter_space=[]\n",
    "    final_array=[]\n",
    "    for k in range((i-len1),(i+len1+1)):\n",
    "        temp=[]\n",
    "        for l in range((j-len1),(j+len1+1)):\n",
    "            temp.append(image[k][l])\n",
    "        filter_space.append(temp)\n",
    "    final_array=np.array(filter_space).reshape(len2,len2)*np.array(kernel_func).reshape(len2,len2)\n",
    "    return summing(final_array)"
   ]
  },
  {
   "cell_type": "code",
   "execution_count": 76,
   "metadata": {},
   "outputs": [],
   "source": [
    "def gaussian_func(x,y,std):\n",
    "    value=(-1)*(np.power(x,2)+np.power(y,2))/float(2*np.power(std,2))\n",
    "    return np.exp(value)/float((2*math.pi*np.power(std,2)))\n",
    "\n",
    "    "
   ]
  },
  {
   "cell_type": "code",
   "execution_count": null,
   "metadata": {},
   "outputs": [],
   "source": []
  },
  {
   "cell_type": "code",
   "execution_count": 69,
   "metadata": {},
   "outputs": [],
   "source": [
    "def gaussian_filter(image,kernel_func,i,j):\n",
    "    len1=len(kernel_func)\n",
    "    len2=len1\n",
    "    len1=int(len1/2)\n",
    "    filter_space=[]\n",
    "    for k in range((i-len1),(i+len1+1)):\n",
    "        temp=[]\n",
    "        for l in range((j-len1),(j+len1+1)):\n",
    "            temp.append(image[k][l])\n",
    "        filter_space.append(temp)\n",
    "    \n",
    "    final_array=(np.array(filter_space).reshape(len2,len2))*(np.array(kernel_func).reshape(len2,len2))\n",
    "    return summing(final_array)"
   ]
  },
  {
   "cell_type": "code",
   "execution_count": 32,
   "metadata": {},
   "outputs": [],
   "source": [
    "size_local=255"
   ]
  },
  {
   "cell_type": "code",
   "execution_count": 11,
   "metadata": {},
   "outputs": [],
   "source": [
    "#Q1 Analysis\n",
    "\n",
    "# Load an color image \n",
    "img = cv2.imread('image_1.jpg',0)\n",
    "cv2.imshow('Main Image ',img)\n",
    "cv2.waitKey(0)\n",
    "cv2.destroyAllWindows()\n",
    "image_main=copy.deepcopy(img)"
   ]
  },
  {
   "cell_type": "code",
   "execution_count": 12,
   "metadata": {},
   "outputs": [],
   "source": [
    "kernel=np.ones((11,11))/121\n",
    "h=np.array(img[::])\n",
    "k=h.shape\n",
    "layer1=copy.deepcopy(img)\n",
    "pad1=[]\n",
    "pad1=padding(layer1,11)\n",
    "pad2=copy.deepcopy(pad1)\n",
    "for i in range(5,(len(pad1)-5)):\n",
    "    for j in range(5,(len(pad1[i])-5)):\n",
    "        pad1[i][j]=average_filter(pad2,list(kernel),i,j)\n",
    "pad1=remove_padding(pad1,11)\n",
    "b = np.array(pad1)\n",
    "cv2.imwrite('first_analysis_ori.jpg', (img/np.max(img)*size_local))\n",
    "cv2.imshow('Frst Ori 11*11 filter ',img/np.max(img))\n",
    "cv2.waitKey(0)\n",
    "cv2.destroyAllWindows()\n",
    "cv2.imwrite('grayscale_averagefilter11_11.jpg', (b/np.max(b)*size_local))\n",
    "cv2.imshow('After average 11*11 filter ',b/np.max(b))\n",
    "cv2.waitKey(0)\n",
    "cv2.destroyAllWindows()"
   ]
  },
  {
   "cell_type": "code",
   "execution_count": 13,
   "metadata": {},
   "outputs": [],
   "source": [
    "blur = cv2.blur(image_main,(11,11))\n",
    "cv2.imwrite('builtin_grayscale_averagefilter11_11.jpg', (blur/np.max(blur)*size_local))\n",
    "cv2.imshow('After average 11*11 filter ',blur/np.max(blur))\n",
    "cv2.waitKey(0)\n",
    "cv2.destroyAllWindows()"
   ]
  },
  {
   "cell_type": "code",
   "execution_count": 16,
   "metadata": {},
   "outputs": [],
   "source": [
    "resultant=np.diff(b-blur)\n",
    "cv2.imwrite('A_Bfor_averagefilter.jpg', (resultant/np.max(resultant)*size_local))\n",
    "cv2.imshow('Average 11*11 filter builtin and implemented Filter',resultant/np.max(resultant))\n",
    "cv2.waitKey(0)\n",
    "cv2.destroyAllWindows()"
   ]
  },
  {
   "cell_type": "code",
   "execution_count": null,
   "metadata": {},
   "outputs": [],
   "source": []
  },
  {
   "cell_type": "code",
   "execution_count": 116,
   "metadata": {},
   "outputs": [],
   "source": [
    "#Q2 Analysis\n",
    "#(i) For 10% Salt Pepper Noise\n",
    "# Load an color image \n",
    "img = cv2.imread('image_2.png',0)\n",
    "cv2.imshow('Main Image ',img)\n",
    "cv2.waitKey(0)\n",
    "cv2.destroyAllWindows()\n",
    "h=np.array(img[::])\n",
    "k=h.shape\n",
    "image_main=img[:]\n",
    "image1=copy.deepcopy(image_main)\n",
    "size_image=len(image_main)*len(image_main[0])\n",
    "iteration1=int(size_image/10)\n",
    "for i in range(iteration1):\n",
    "    choice1=random.randint(0,(size_image-1))\n",
    "    choice2=random.randint(0,1)\n",
    "    index1=int(choice1/len(image_main[0]))\n",
    "    index2=choice1%len(image_main[0])\n",
    "    #0 means black \n",
    "    #1 means white\n",
    "    if choice2==0:\n",
    "        image_main[index1][index2]=0\n",
    "    else:\n",
    "        image_main[index1][index2]=255 \n",
    "b=np.array(image_main)"
   ]
  },
  {
   "cell_type": "code",
   "execution_count": 117,
   "metadata": {},
   "outputs": [],
   "source": [
    "#2 Salt pepper noise by 10%  with kernel 11*11\n",
    "pad1=[]\n",
    "kernel=11\n",
    "pad1=padding(image_main,11)\n",
    "pad2=copy.deepcopy(pad1)\n",
    "for i in range(5,(len(pad1)-5)):\n",
    "    for j in range(5,(len(pad1[i])-5)):\n",
    "        pad1[i][j]=median_filter(pad2,kernel,i,j)\n",
    "pad1=remove_padding(pad1,11)\n",
    "##\n",
    "b[:]=np.array(pad1)\n",
    "# cv2.imwrite('aftersaltpepper6.png', (b/np.max(b)*size_local))\n",
    "# cv2.imshow('After Salt Pepper Noise10% 11*11   ',b/np.max(b))\n",
    "# cv2.waitKey(0)\n",
    "# cv2.destroyAllWindows()"
   ]
  },
  {
   "cell_type": "code",
   "execution_count": 118,
   "metadata": {},
   "outputs": [],
   "source": [
    "cv2.imwrite('second_analysis_ori.jpg', (img/np.max(img)*size_local))\n",
    "cv2.imshow('Second Ori 11*11 filter ',img/np.max(img))\n",
    "cv2.waitKey(0)\n",
    "cv2.destroyAllWindows()\n",
    "cv2.imwrite('self_implemented_1.jpg', (b/np.max(b)*size_local))\n",
    "cv2.imshow('Second Ori 11*11 filter ',b/np.max(b))\n",
    "cv2.waitKey(0)\n",
    "cv2.destroyAllWindows()"
   ]
  },
  {
   "cell_type": "code",
   "execution_count": 119,
   "metadata": {},
   "outputs": [],
   "source": [
    "median = cv2.medianBlur(image_main,11)\n",
    "cv2.imwrite('builtin_grayscale_10per_median_filter11_11.jpg', (median/np.max(median)*size_local))\n",
    "cv2.imshow('After Median 11*11 filter ',median/np.max(median))\n",
    "cv2.waitKey(0)\n",
    "cv2.destroyAllWindows()"
   ]
  },
  {
   "cell_type": "code",
   "execution_count": 120,
   "metadata": {},
   "outputs": [],
   "source": [
    "resultant=b-median\n",
    "cv2.imwrite('A_Bfor_medianfilterfor10_filter.jpg', (resultant/np.max(resultant)*size_local))\n",
    "cv2.imshow('Median Filter  11*11 filter builtin and implemented Filter',resultant/np.max(resultant))\n",
    "cv2.waitKey(0)\n",
    "cv2.destroyAllWindows()\n"
   ]
  },
  {
   "cell_type": "code",
   "execution_count": 121,
   "metadata": {},
   "outputs": [
    {
     "ename": "KeyboardInterrupt",
     "evalue": "",
     "output_type": "error",
     "traceback": [
      "\u001b[1;31m---------------------------------------------------------------------------\u001b[0m",
      "\u001b[1;31mKeyboardInterrupt\u001b[0m                         Traceback (most recent call last)",
      "\u001b[1;32m<ipython-input-121-8dedc9671f63>\u001b[0m in \u001b[0;36m<module>\u001b[1;34m\u001b[0m\n\u001b[0;32m      4\u001b[0m \u001b[0mimg\u001b[0m \u001b[1;33m=\u001b[0m \u001b[0mcv2\u001b[0m\u001b[1;33m.\u001b[0m\u001b[0mimread\u001b[0m\u001b[1;33m(\u001b[0m\u001b[1;34m'image_2.png'\u001b[0m\u001b[1;33m,\u001b[0m\u001b[1;36m0\u001b[0m\u001b[1;33m)\u001b[0m\u001b[1;33m\u001b[0m\u001b[1;33m\u001b[0m\u001b[0m\n\u001b[0;32m      5\u001b[0m \u001b[0mcv2\u001b[0m\u001b[1;33m.\u001b[0m\u001b[0mimshow\u001b[0m\u001b[1;33m(\u001b[0m\u001b[1;34m'Main Image '\u001b[0m\u001b[1;33m,\u001b[0m\u001b[0mimg\u001b[0m\u001b[1;33m)\u001b[0m\u001b[1;33m\u001b[0m\u001b[1;33m\u001b[0m\u001b[0m\n\u001b[1;32m----> 6\u001b[1;33m \u001b[0mcv2\u001b[0m\u001b[1;33m.\u001b[0m\u001b[0mwaitKey\u001b[0m\u001b[1;33m(\u001b[0m\u001b[1;36m0\u001b[0m\u001b[1;33m)\u001b[0m\u001b[1;33m\u001b[0m\u001b[1;33m\u001b[0m\u001b[0m\n\u001b[0m\u001b[0;32m      7\u001b[0m \u001b[0mcv2\u001b[0m\u001b[1;33m.\u001b[0m\u001b[0mdestroyAllWindows\u001b[0m\u001b[1;33m(\u001b[0m\u001b[1;33m)\u001b[0m\u001b[1;33m\u001b[0m\u001b[1;33m\u001b[0m\u001b[0m\n\u001b[0;32m      8\u001b[0m \u001b[0mh\u001b[0m\u001b[1;33m=\u001b[0m\u001b[0mnp\u001b[0m\u001b[1;33m.\u001b[0m\u001b[0marray\u001b[0m\u001b[1;33m(\u001b[0m\u001b[0mimg\u001b[0m\u001b[1;33m[\u001b[0m\u001b[1;33m:\u001b[0m\u001b[1;33m:\u001b[0m\u001b[1;33m]\u001b[0m\u001b[1;33m)\u001b[0m\u001b[1;33m\u001b[0m\u001b[1;33m\u001b[0m\u001b[0m\n",
      "\u001b[1;31mKeyboardInterrupt\u001b[0m: "
     ]
    }
   ],
   "source": [
    "#Q2 Analysis\n",
    "#(i) For 20% Salt Pepper Noise\n",
    "# Load an color image \n",
    "img = cv2.imread('image_2.png',0)\n",
    "cv2.imshow('Main Image ',img)\n",
    "cv2.waitKey(0)\n",
    "cv2.destroyAllWindows()\n",
    "h=np.array(img[::])\n",
    "k=h.shape\n",
    "image_main=img[:]\n",
    "size_image=len(image_main)*len(image_main[0])\n",
    "iteration2=int(size_image/5)\n",
    "for i in range(iteration2):\n",
    "    choice1=random.randint(0,(size_image-1))\n",
    "    choice2=random.randint(0,1)\n",
    "    index1=int(choice1/len(image_main[0]))\n",
    "    index2=choice1%len(image_main[0])\n",
    "    #0 means black \n",
    "    #1 means white\n",
    "    if choice2==0:\n",
    "        image_main[index1][index2]=0\n",
    "    else:\n",
    "        image_main[index1][index2]=255 \n",
    "b=np.array(image_main)"
   ]
  },
  {
   "cell_type": "code",
   "execution_count": 122,
   "metadata": {},
   "outputs": [],
   "source": [
    "#2 Salt pepper noise by 20%  with kernel 11*11\n",
    "pad1=[]\n",
    "kernel=11\n",
    "pad1=padding(image_main,11)\n",
    "pad2=copy.deepcopy(pad1)\n",
    "for i in range(5,(len(pad1)-5)):\n",
    "    for j in range(5,(len(pad1[i])-5)):\n",
    "        pad1[i][j]=median_filter(pad2,kernel,i,j)\n",
    "pad1=remove_padding(pad1,11)\n",
    "##\n",
    "b[:]=np.array(pad1)\n",
    "cv2.imwrite('second_analysis_ori2.jpg', (img/np.max(img)*size_local))\n",
    "cv2.imshow('Second Ori 11*11 filter ',img/np.max(img))\n",
    "cv2.waitKey(0)\n",
    "cv2.destroyAllWindows()\n",
    "cv2.imwrite('self_implemented_2.png', (b/np.max(b)*size_local))\n",
    "cv2.imshow('After Salt Pepper Noise10% 11*11   ',b/np.max(b))\n",
    "cv2.waitKey(0)\n",
    "cv2.destroyAllWindows()"
   ]
  },
  {
   "cell_type": "code",
   "execution_count": 123,
   "metadata": {},
   "outputs": [],
   "source": [
    "median = cv2.medianBlur(image_main,11)\n",
    "cv2.imwrite('builtin_grayscale_20per_median_filter11_11.jpg', (median/np.max(median)*size_local))\n",
    "cv2.imshow('After Median 11*11 filter ',median/np.max(median))\n",
    "cv2.waitKey(0)\n",
    "cv2.destroyAllWindows()"
   ]
  },
  {
   "cell_type": "code",
   "execution_count": 124,
   "metadata": {},
   "outputs": [],
   "source": [
    "resultant=b-median\n",
    "cv2.imwrite('A_Bfor_medianfilterfor10_perfilter.jpg', (resultant/np.max(resultant)*size_local))\n",
    "cv2.imshow('Median Filter  11*11 filter builtin and implemented Filter',resultant/np.max(resultant))\n",
    "cv2.waitKey(0)\n",
    "cv2.destroyAllWindows()\n"
   ]
  },
  {
   "cell_type": "code",
   "execution_count": 77,
   "metadata": {},
   "outputs": [],
   "source": [
    "#Q3 Analysis\n",
    "# Load an color image \n",
    "img = cv2.imread('image_3.png',0)\n",
    "cv2.imshow('Main Image ',img)\n",
    "cv2.waitKey(0)\n",
    "cv2.destroyAllWindows()\n",
    "image_main=copy.deepcopy(img[:])\n",
    "#15*15 gaussian filter \n",
    "h=np.array(img[::])\n",
    "k=h.shape\n",
    "image_main=img[:]\n",
    "kernel=15\n",
    "kernel_space=[]\n",
    "for i in range(kernel):\n",
    "    temp=[]\n",
    "    for j in range(kernel):\n",
    "        temp.append(gaussian_func((i-7),(j-7),1))\n",
    "    kernel_space.append(temp)\n",
    "kernel_space/=np.sum(kernel_space)\n",
    "pad1=[]\n",
    "pad1=padding(image_main,15)\n",
    "pad3=copy.deepcopy(pad1)\n",
    "for i in range(7,(len(pad1)-7)):\n",
    "    for j in range(7,(len(pad1[i])-7)):\n",
    "        pad1[i][j]=gaussian_filter(pad3,list(kernel_space),i,j)\n",
    "pad2=remove_padding(pad1,15)\n",
    "b=np.array(pad2)\n",
    "cv2.imwrite('third_analysis_ori2.jpg', (b/np.max(b)*size_local))\n",
    "cv2.imshow('Third Ori 11*11 filter ',b/np.max(b))\n",
    "cv2.waitKey(0)\n",
    "cv2.destroyAllWindows()\n",
    "cv2.imwrite('self_impleented_3.jpg', (img/np.max(img)*size_local))\n",
    "cv2.imshow('Self Ori 11*11 filter ',img/np.max(img))\n",
    "cv2.waitKey(0)\n",
    "cv2.destroyAllWindows()"
   ]
  },
  {
   "cell_type": "code",
   "execution_count": 78,
   "metadata": {},
   "outputs": [],
   "source": [
    "blur = cv2.GaussianBlur(image_main,(15,15),1)\n",
    "cv2.imwrite('builtin_grayscale_gaussian_11_11.jpg', (blur/np.max(blur)*size_local))\n",
    "cv2.imshow('After Gaissian 11*11 filter ',blur/np.max(blur))\n",
    "cv2.waitKey(0)\n",
    "cv2.destroyAllWindows()"
   ]
  },
  {
   "cell_type": "code",
   "execution_count": 79,
   "metadata": {},
   "outputs": [],
   "source": [
    "\n",
    "resultant=np.diff(b-blur)\n",
    "cv2.imwrite('A_Bfor_gaussianfilterforfilter.jpg', (resultant/np.max(resultant)*size_local))\n",
    "cv2.imshow('Gaussian Filter  15*15 filter builtin and implemented Filter',resultant/np.max(resultant))\n",
    "cv2.waitKey(0)\n",
    "cv2.destroyAllWindows()\n"
   ]
  },
  {
   "cell_type": "code",
   "execution_count": null,
   "metadata": {},
   "outputs": [],
   "source": []
  }
 ],
 "metadata": {
  "kernelspec": {
   "display_name": "Python 3",
   "language": "python",
   "name": "python3"
  },
  "language_info": {
   "codemirror_mode": {
    "name": "ipython",
    "version": 3
   },
   "file_extension": ".py",
   "mimetype": "text/x-python",
   "name": "python",
   "nbconvert_exporter": "python",
   "pygments_lexer": "ipython3",
   "version": "3.7.1"
  }
 },
 "nbformat": 4,
 "nbformat_minor": 2
}
