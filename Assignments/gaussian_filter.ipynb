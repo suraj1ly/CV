{
 "cells": [
  {
   "cell_type": "code",
   "execution_count": 2,
   "metadata": {},
   "outputs": [],
   "source": [
    "import numpy as np\n",
    "import cv2\n",
    "import random\n",
    "import math\n",
    "import copy"
   ]
  },
  {
   "cell_type": "code",
   "execution_count": 3,
   "metadata": {},
   "outputs": [],
   "source": [
    "import time"
   ]
  },
  {
   "cell_type": "code",
   "execution_count": 4,
   "metadata": {},
   "outputs": [],
   "source": [
    "def remove_padding(image,size):\n",
    "    len1=len(image)\n",
    "    len2=len(image[0])\n",
    "    size=int(size/2)\n",
    "    for i in range(size):\n",
    "        del image[0]\n",
    "        \n",
    "    for i in range(size):\n",
    "        del image[len1-2*size]\n",
    "\n",
    "    for i in range(len(image)):\n",
    "        for j in range(size):\n",
    "            del image[i][0]\n",
    "        \n",
    "        for j in range(size):\n",
    "            del image[i][len2-2*size]\n",
    "    return image\n",
    "    \n"
   ]
  },
  {
   "cell_type": "code",
   "execution_count": 5,
   "metadata": {},
   "outputs": [],
   "source": [
    "def gaussian_func(x,y,std):\n",
    "    value=(-1)*(x**2+y**2)/float(2*(std**2))\n",
    "    return math.exp(value)/float((2*math.pi*(std**2)))\n",
    "\n",
    "    "
   ]
  },
  {
   "cell_type": "code",
   "execution_count": 6,
   "metadata": {},
   "outputs": [],
   "source": [
    "def padding(image,size):\n",
    "    size=int(size/2)\n",
    "    len1,len2=image.shape\n",
    "    pad=[]\n",
    "    for i in range(0,(len1+2*size)):\n",
    "        temp=[]\n",
    "        for j in range(0,(len2+2*size)):\n",
    "            if i<size or j<size  or j>=(len2+size) or i>=(len1+size):\n",
    "                temp.append(0)\n",
    "            else:\n",
    "                temp.append(image[i-size][j-size])\n",
    "        pad.append(temp)\n",
    "    return pad\n"
   ]
  },
  {
   "cell_type": "code",
   "execution_count": 7,
   "metadata": {},
   "outputs": [],
   "source": [
    "def summing(image):\n",
    "    length1=len(image)\n",
    "    length2=len(image[0])\n",
    "    counter=0\n",
    "    for i in range(length1):\n",
    "        for j in range(length2):\n",
    "            counter=counter+image[i][j]\n",
    "    return counter\n",
    "    "
   ]
  },
  {
   "cell_type": "code",
   "execution_count": 8,
   "metadata": {},
   "outputs": [],
   "source": [
    "def gaussian_filter(image,kernel_func,i,j):\n",
    "    len1=len(kernel_func)\n",
    "    len2=len1\n",
    "    len1=int(len1/2)\n",
    "    filter_space=[]\n",
    "    for k in range((i-len1),(i+len1+1)):\n",
    "        temp=[]\n",
    "        for l in range((j-len1),(j+len1+1)):\n",
    "            temp.append(image[k][l])\n",
    "        filter_space.append(temp)\n",
    "    \n",
    "    final_array=(np.array(filter_space).reshape(len2,len2))*(np.array(kernel_func).reshape(len2,len2))\n",
    "    return summing(final_array)"
   ]
  },
  {
   "cell_type": "code",
   "execution_count": 9,
   "metadata": {},
   "outputs": [],
   "source": [
    "size_local=255"
   ]
  },
  {
   "cell_type": "code",
   "execution_count": 10,
   "metadata": {},
   "outputs": [],
   "source": [
    "# Load an color image \n",
    "img = cv2.imread('image_3.png',0)\n",
    "cv2.imshow('Main Image ',img)\n",
    "cv2.waitKey(0)\n",
    "cv2.destroyAllWindows()"
   ]
  },
  {
   "cell_type": "code",
   "execution_count": 11,
   "metadata": {},
   "outputs": [],
   "source": [
    "#Q3 for Gaussian filter \n",
    "image_main=copy.deepcopy(img[:])"
   ]
  },
  {
   "cell_type": "code",
   "execution_count": 12,
   "metadata": {},
   "outputs": [],
   "source": [
    "#3*3 gaussian filter \n",
    "kernel=3\n",
    "kernel_space=[]\n",
    "for i in range(kernel):\n",
    "    temp=[]\n",
    "    for j in range(kernel):\n",
    "        temp.append(gaussian_func((i-1),(j-1),1))\n",
    "    kernel_space.append(temp)\n",
    "kernel_space/=np.sum(kernel_space)\n",
    "pad1=[]\n",
    "pad1=padding(image_main,3)\n",
    "pad2=copy.deepcopy(pad1)\n",
    "for i in range(1,(len(pad1)-1)):\n",
    "    for j in range(1,(len(pad2[i])-1)):\n",
    "        pad1[i][j]=gaussian_filter(pad1,list(kernel_space),i,j)\n",
    "pad1=remove_padding(pad1,3)\n",
    "b=np.array(pad1)"
   ]
  },
  {
   "cell_type": "code",
   "execution_count": 13,
   "metadata": {},
   "outputs": [],
   "source": [
    "cv2.imwrite('Original_gaussian_image3.png',(img/np.max(img)*size_local))\n",
    "cv2.imshow('Oriiginal Image befor  Filter  ',img/np.max(img))\n",
    "cv2.waitKey(0)\n",
    "cv2.destroyAllWindows()\n",
    "cv2.imwrite('gaussiandistribution_3_3.png',(b/np.max(b)*size_local))\n",
    "cv2.imshow('Gaussian Filter 3*3  ',b/np.max(b))\n",
    "cv2.waitKey(0)\n",
    "cv2.destroyAllWindows()"
   ]
  },
  {
   "cell_type": "code",
   "execution_count": null,
   "metadata": {},
   "outputs": [],
   "source": []
  },
  {
   "cell_type": "code",
   "execution_count": 14,
   "metadata": {},
   "outputs": [],
   "source": [
    "#5*5 gaussian filter \n",
    "#Q3 for Gaussian filter \n",
    "image_main=copy.deepcopy(img[:])\n",
    "#5*5 gaussian filter \n",
    "kernel=5\n",
    "kernel_space=[]\n",
    "for i in range(kernel):\n",
    "    temp=[]\n",
    "    for j in range(kernel):\n",
    "        temp.append(gaussian_func((i-2),(j-2),1))\n",
    "    kernel_space.append(temp)\n",
    "# print(kernel_space)\n",
    "kernel_space/=np.sum(kernel_space)\n",
    "pad1=[]\n",
    "pad1=padding(image_main,5)\n",
    "pad2=copy.deepcopy(pad1)\n",
    "# cv2.imshow('dskjgif',np.array(pad1)/255)\n",
    "for i in range(2,(len(pad1)-2)):\n",
    "    for j in range(2,(len(pad1[i])-2)):\n",
    "        pad1[i][j]=gaussian_filter(pad2,list(kernel_space),i,j)\n",
    "pad1=remove_padding(pad1,5)\n",
    "b=np.array(pad1)"
   ]
  },
  {
   "cell_type": "code",
   "execution_count": 15,
   "metadata": {},
   "outputs": [],
   "source": [
    "cv2.imwrite('gaussiandistribution_5_5.png',(b))\n",
    "cv2.imshow('Gaussian Filter 5*5  ',b/np.max(b))\n",
    "cv2.waitKey(0)\n",
    "cv2.destroyAllWindows()"
   ]
  },
  {
   "cell_type": "code",
   "execution_count": 16,
   "metadata": {},
   "outputs": [],
   "source": [
    "#11*11 gaussian filter \n",
    "del image_main\n",
    "h=np.array(img[::])\n",
    "k=h.shape\n",
    "image_main=img[:]\n",
    "#11*11 gaussian filter \n",
    "kernel=11\n",
    "kernel_space=[]\n",
    "for i in range(kernel):\n",
    "    temp=[]\n",
    "    for j in range(kernel):\n",
    "        temp.append(gaussian_func((i-5),(j-5),1))\n",
    "    kernel_space.append(temp)\n",
    "kernel_space/=np.sum(kernel_space)\n",
    "pad1=[]\n",
    "pad1=padding(image_main,11)\n",
    "pad2=copy.deepcopy(pad1)\n",
    "for i in range(5,(len(pad1)-5)):\n",
    "    for j in range(5,(len(pad1[i])-5)):\n",
    "        pad1[i][j]=gaussian_filter(pad2,list(kernel_space),i,j)\n",
    "pad1=remove_padding(pad1,11)\n",
    "b=np.array(pad1)"
   ]
  },
  {
   "cell_type": "code",
   "execution_count": 17,
   "metadata": {},
   "outputs": [],
   "source": [
    "cv2.imwrite('gaussiandistribution_11_11.png',(b))\n",
    "cv2.imshow('Gaussian Filter 11*11  ',b/np.max(b))\n",
    "cv2.waitKey(0)\n",
    "cv2.destroyAllWindows()"
   ]
  },
  {
   "cell_type": "code",
   "execution_count": 18,
   "metadata": {},
   "outputs": [],
   "source": [
    "# blur = cv2.GaussianBlur(image_main,(11,11),0)\n",
    "# result=b-blur\n",
    "# cv2.imwrite('gaussiandist_difference.png',result)\n",
    "# cv2.imshow('Difference Filter 15*15  ',result/np.max(result))\n",
    "# cv2.waitKey(0)\n",
    "# cv2.destroyAllWindows()"
   ]
  },
  {
   "cell_type": "code",
   "execution_count": 19,
   "metadata": {},
   "outputs": [],
   "source": [
    "#15*15 gaussian filter \n",
    "del image_main\n",
    "h=np.array(img[::])\n",
    "k=h.shape\n",
    "image_main=img[:]\n",
    "#15*15 gaussian filter \n",
    "kernel=15\n",
    "kernel_space=[]\n",
    "for i in range(kernel):\n",
    "    temp=[]\n",
    "    for j in range(kernel):\n",
    "        temp.append(gaussian_func((i-7),(j-7),1))\n",
    "    kernel_space.append(temp)\n",
    "kernel_space/=np.sum(kernel_space)\n",
    "pad1=[]\n",
    "pad1=padding(image_main,15)\n",
    "pad2=copy.deepcopy(pad1)\n",
    "for i in range(7,(len(pad1)-7)):\n",
    "    for j in range(7,(len(pad1[i])-7)):\n",
    "        pad1[i][j]=gaussian_filter(pad2,list(kernel_space),i,j)\n",
    "pad1=remove_padding(pad1,15)\n",
    "b=np.array(pad1)"
   ]
  },
  {
   "cell_type": "code",
   "execution_count": 20,
   "metadata": {},
   "outputs": [],
   "source": [
    "cv2.imwrite('gaussiandistribution_15_15.png',b)\n",
    "cv2.imshow('Gaussian Filter 15*15  ',b/np.max(b))\n",
    "cv2.waitKey(0)\n",
    "cv2.destroyAllWindows()"
   ]
  },
  {
   "cell_type": "code",
   "execution_count": null,
   "metadata": {},
   "outputs": [],
   "source": []
  },
  {
   "cell_type": "code",
   "execution_count": 21,
   "metadata": {},
   "outputs": [],
   "source": [
    "#Q3 Varying sigma in kernel 11*11 \n",
    "#11*11 gaussian filter \n",
    "#Q3 for Gaussian filter \n",
    "image_main=copy.deepcopy(img[:])\n",
    "#11*11 gaussian filter \n",
    "kernel=11\n",
    "kernel_space=[]\n",
    "for i in range(kernel):\n",
    "    temp=[]\n",
    "    for j in range(kernel):\n",
    "        temp.append(gaussian_func((i-5),(j-5),1))\n",
    "    kernel_space.append(temp)\n",
    "# print(kernel_space)\n",
    "kernel_space/=np.sum(kernel_space)\n",
    "pad1=[]\n",
    "pad1=padding(image_main,11)\n",
    "pad2=copy.deepcopy(pad1)\n",
    "\n",
    "for i in range(5,(len(pad1)-5)):\n",
    "    for j in range(5,(len(pad1[i])-5)):\n",
    "        pad1[i][j]=gaussian_filter(pad2,list(kernel_space),i,j)\n",
    "pad1=remove_padding(pad1,11)\n",
    "b=np.array(pad1)\n",
    "\n",
    "cv2.imwrite('gaussiandistribution_5_5by_varyingsigma.png',b/np.max(b)*255)\n",
    "cv2.imshow('Gaussian Filter 5*5 sigma=1 ',b/np.max(b))\n",
    "cv2.waitKey(0)\n",
    "cv2.destroyAllWindows()\n",
    "\n",
    "#2\n",
    "image_main=copy.deepcopy(img[:])\n",
    "kernel_space1=[]\n",
    "for i in range(kernel):\n",
    "    temp=[]\n",
    "    for j in range(kernel):\n",
    "        temp.append(gaussian_func((i-5),(j-5),2))\n",
    "    kernel_space1.append(temp)\n",
    "# print(kernel_space)\n",
    "kernel_space1/=np.sum(kernel_space1)\n",
    "pad2=[]\n",
    "pad2=padding(image_main,11)\n",
    "pad3=copy.deepcopy(pad2)\n",
    "\n",
    "for i in range(5,(len(pad2)-5)):\n",
    "    for j in range(5,(len(pad2[i])-5)):\n",
    "        pad2[i][j]=gaussian_filter(pad3,list(kernel_space1),i,j)\n",
    "pad2=remove_padding(pad2,11)\n",
    "b1=np.array(pad2)\n",
    "cv2.imwrite('gaussiandistribution_5_5by_varyingsigma1.png',b1/np.max(b1)*255)\n",
    "cv2.imshow('Gaussian Filter 5*5 sigma=2 ',b1/np.max(b))\n",
    "cv2.waitKey(0)\n",
    "cv2.destroyAllWindows()\n",
    "\n",
    "\n",
    "#3\n",
    "image_main=copy.deepcopy(img[:])\n",
    "kernel_space2=[]\n",
    "for i in range(kernel):\n",
    "    temp=[]\n",
    "    for j in range(kernel):\n",
    "        temp.append(gaussian_func((i-5),(j-5),3))\n",
    "    kernel_space2.append(temp)\n",
    "# print(kernel_space)\n",
    "kernel_space2/=np.sum(kernel_space2)\n",
    "pad3=[]\n",
    "pad3=padding(image_main,11)\n",
    "pad4=copy.deepcopy(pad3)\n",
    "for i in range(5,(len(pad3)-5)):\n",
    "    for j in range(5,(len(pad3[i])-5)):\n",
    "        pad3[i][j]=gaussian_filter(pad4,list(kernel_space2),i,j)\n",
    "pad3=remove_padding(pad3,11)\n",
    "b2=np.array(pad3)\n",
    "cv2.imwrite('gaussiandistribution_5_5by_varyingsigma2.png',b2/np.max(b2)*255)\n",
    "cv2.imshow('Gaussian Filter 5*5 sigma=3 ',b2/np.max(b2))\n",
    "cv2.waitKey(0)\n",
    "cv2.destroyAllWindows()"
   ]
  },
  {
   "cell_type": "code",
   "execution_count": null,
   "metadata": {},
   "outputs": [],
   "source": []
  }
 ],
 "metadata": {
  "kernelspec": {
   "display_name": "Python 3",
   "language": "python",
   "name": "python3"
  },
  "language_info": {
   "codemirror_mode": {
    "name": "ipython",
    "version": 3
   },
   "file_extension": ".py",
   "mimetype": "text/x-python",
   "name": "python",
   "nbconvert_exporter": "python",
   "pygments_lexer": "ipython3",
   "version": "3.7.1"
  }
 },
 "nbformat": 4,
 "nbformat_minor": 2
}
