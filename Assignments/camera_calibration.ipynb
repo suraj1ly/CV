{
 "cells": [
  {
   "cell_type": "code",
   "execution_count": 63,
   "metadata": {},
   "outputs": [],
   "source": [
    "import numpy\n",
    "import cv2\n",
    "import copy\n",
    "import matplotlib.pyplot as plt\n",
    "import numpy as np"
   ]
  },
  {
   "cell_type": "code",
   "execution_count": 64,
   "metadata": {},
   "outputs": [],
   "source": [
    "#Range of the grayscale\n",
    "size_local=255"
   ]
  },
  {
   "cell_type": "code",
   "execution_count": 65,
   "metadata": {},
   "outputs": [],
   "source": [
    "#Declaration for the object points and Image points \n",
    "objpoints = [] \n",
    "imgpoints = []\n",
    "#Reference from dc of opencv documentation\n",
    "objp = np.zeros((12*12,3), np.float32)\n",
    "objp[:,:2] = np.mgrid[0:12,0:12].T.reshape(-1,2)\n",
    "images = [\"Left1.bmp\",\"Left2.bmp\",\"Left3.bmp\",\"Left4.bmp\",\"Left5.bmp\",\"Left6.bmp\",\"Left7.bmp\",\"Left8.bmp\",\"Left9.bmp\",\"Left10.bmp\",\"Left11.bmp\",\"Left12.bmp\",\"Left13.bmp\",\"Left14.bmp\",\"Left15.bmp\"]\n",
    "#Images of whole given in drive"
   ]
  },
  {
   "cell_type": "code",
   "execution_count": null,
   "metadata": {},
   "outputs": [],
   "source": []
  },
  {
   "cell_type": "code",
   "execution_count": 66,
   "metadata": {},
   "outputs": [
    {
     "name": "stdout",
     "output_type": "stream",
     "text": [
      "For Image  1 Flag value will be :  True\n",
      "For Image  2 Flag value will be :  True\n",
      "For Image  3 Flag value will be :  False\n",
      "For Image  4 Flag value will be :  True\n",
      "For Image  5 Flag value will be :  True\n",
      "For Image  6 Flag value will be :  True\n",
      "For Image  7 Flag value will be :  True\n",
      "For Image  8 Flag value will be :  False\n",
      "For Image  9 Flag value will be :  True\n",
      "For Image  10 Flag value will be :  False\n",
      "For Image  11 Flag value will be :  False\n",
      "For Image  12 Flag value will be :  True\n",
      "For Image  13 Flag value will be :  True\n",
      "For Image  14 Flag value will be :  True\n",
      "For Image  15 Flag value will be :  True\n"
     ]
    }
   ],
   "source": [
    "#Iterate over the images \n",
    "for i in range(len(images)):\n",
    "    img = cv2.imread(images[i])\n",
    "    gray = cv2.cvtColor(img,cv2.COLOR_BGR2GRAY)\n",
    "    #Function to detect the chessboard corners \n",
    "    flag, corners = cv2.findChessboardCorners(gray,(12,12),None)\n",
    "    print(\"For Image \",i+1,\"Flag value will be : \",flag)\n",
    "    if flag == True:\n",
    "        imgpoints.append(corners)\n",
    "        objpoints.append(objp)\n",
    "        cv2.drawChessboardCorners(img, (12,12), corners,flag)\n",
    "     \n",
    "        cv2.imwrite('Image_'+str(i+1)+'.png',(img/np.max(img)*size_local))\n",
    "        cv2.imshow('Image '+str(i+1),img)\n",
    "        cv2.waitKey(0)\n",
    "    cv2.destroyAllWindows()"
   ]
  },
  {
   "cell_type": "code",
   "execution_count": 67,
   "metadata": {},
   "outputs": [
    {
     "name": "stdout",
     "output_type": "stream",
     "text": [
      "Images that function traced for corners :  11\n"
     ]
    }
   ],
   "source": [
    "print(\"Images that function traced for corners : \",len(objpoints))"
   ]
  },
  {
   "cell_type": "code",
   "execution_count": 68,
   "metadata": {},
   "outputs": [
    {
     "name": "stdout",
     "output_type": "stream",
     "text": [
      "(11, 144, 1, 2)\n"
     ]
    }
   ],
   "source": [
    "print(np.array(imgpoints).shape)"
   ]
  },
  {
   "cell_type": "code",
   "execution_count": null,
   "metadata": {},
   "outputs": [],
   "source": []
  },
  {
   "cell_type": "code",
   "execution_count": 69,
   "metadata": {},
   "outputs": [],
   "source": [
    "flag, matrix, distortion_matrix, rotation_vector, translation_vector = cv2.calibrateCamera(objpoints, imgpoints, gray.shape[::-1],None,None)"
   ]
  },
  {
   "cell_type": "code",
   "execution_count": 77,
   "metadata": {},
   "outputs": [
    {
     "name": "stdout",
     "output_type": "stream",
     "text": [
      "Intrinsic Parameters of Camera : \n",
      "Camera Matrix: \n",
      "[[562.00180262   0.         325.2640009 ]\n",
      " [  0.         564.04378751 249.90948713]\n",
      " [  0.           0.           1.        ]]\n",
      "Focal Length , fx :  562.0018026174056\n",
      "Focal Length , fy :  564.0437875066305\n",
      "Principal point, cx :  325.2640008975456\n",
      "Principal point, cy :  249.90948713256836\n",
      "Skew Factor :  0.0\n",
      "...................................................................................\n",
      "Extrinsic Parameters of Camera : \n",
      "Rotational Matrix : \n",
      "[array([[-0.02784406],\n",
      "       [ 0.09244711],\n",
      "       [-0.01522916]]), array([[-0.03062358],\n",
      "       [ 0.10868536],\n",
      "       [-0.00480745]]), array([[-0.15808515],\n",
      "       [ 0.42993669],\n",
      "       [ 0.96765965]]), array([[ 0.50288429],\n",
      "       [-0.21962161],\n",
      "       [ 1.34183982]]), array([[0.47109189],\n",
      "       [0.55038323],\n",
      "       [1.51251259]]), array([[0.38269744],\n",
      "       [0.7639587 ],\n",
      "       [1.56541476]]), array([[ 0.04457681],\n",
      "       [-0.81806943],\n",
      "       [-0.02853173]]), array([[-0.01044308],\n",
      "       [ 0.32651577],\n",
      "       [-0.0377022 ]]), array([[-0.13658865],\n",
      "       [ 0.25494462],\n",
      "       [-0.04135692]]), array([[-0.26141779],\n",
      "       [ 0.49283007],\n",
      "       [ 0.08238267]]), array([[-0.13023509],\n",
      "       [-0.04480313],\n",
      "       [ 0.01014875]])]\n",
      "Translation Matrix : \n",
      "[array([[-4.43464479],\n",
      "       [-5.44014697],\n",
      "       [16.15179899]]), array([[-4.80706511],\n",
      "       [-5.42831294],\n",
      "       [17.05603609]]), array([[ 2.62805341],\n",
      "       [-8.2516344 ],\n",
      "       [23.42058612]]), array([[ 7.42395319],\n",
      "       [-4.38198442],\n",
      "       [17.97116699]]), array([[13.73513309],\n",
      "       [-3.65400394],\n",
      "       [27.65918344]]), array([[ 9.31615142],\n",
      "       [-0.40570633],\n",
      "       [36.06069105]]), array([[-1.55941063],\n",
      "       [-5.78004147],\n",
      "       [18.06536012]]), array([[-3.01999268],\n",
      "       [-5.83479037],\n",
      "       [19.4317992 ]]), array([[-9.42703369e-01],\n",
      "       [-2.81980457e-02],\n",
      "       [ 4.41704859e+01]]), array([[-0.92495123],\n",
      "       [-4.08517671],\n",
      "       [31.63556839]]), array([[-10.09777966],\n",
      "       [  3.53653632],\n",
      "       [ 55.32976831]])]\n",
      "...................................................................................\n",
      "Distortion Coefficients : \n",
      "[[-2.73736946e-01  7.85803339e-01  8.05336902e-03  4.95277477e-04\n",
      "  -1.51179962e+00]]\n",
      "...................................................................................\n"
     ]
    }
   ],
   "source": [
    "\n",
    "print(\"Intrinsic Parameters of Camera : \")\n",
    "print(\"Camera Matrix: \")\n",
    "print(matrix)\n",
    "print(\"Focal Length , fx : \",matrix[0][0])\n",
    "print(\"Focal Length , fy : \",matrix[1][1])\n",
    "print(\"Principal point, cx : \",matrix[0][2])\n",
    "print(\"Principal point, cy : \",matrix[1][2])\n",
    "print(\"Skew Factor : \",matrix[0][1])\n",
    "print(\"...................................................................................\")\n",
    "print(\"Extrinsic Parameters of Camera : \")\n",
    "print(\"Rotational Matrix : \")\n",
    "print(rotation_vector)\n",
    "print(\"Translation Matrix : \")\n",
    "print(translation_vector)\n",
    "print(\"...................................................................................\")\n",
    "print(\"Distortion Coefficients : \")\n",
    "print(distortion_matrix)\n",
    "print(\"...................................................................................\")\n",
    "\n"
   ]
  },
  {
   "cell_type": "code",
   "execution_count": 76,
   "metadata": {},
   "outputs": [
    {
     "name": "stdout",
     "output_type": "stream",
     "text": [
      "Errror for Image  1 :  0.0663585250999708\n",
      "Errror for Image  2 :  0.06314098210972051\n",
      "Errror for Image  3 :  0.050492999071465566\n",
      "Errror for Image  4 :  0.03946828491529261\n",
      "Errror for Image  5 :  0.029630355045710464\n",
      "Errror for Image  6 :  0.027161418412207306\n",
      "Errror for Image  7 :  0.048303458731394376\n",
      "Errror for Image  8 :  0.1165133336569239\n",
      "Errror for Image  9 :  0.01941397418550374\n",
      "Errror for Image  10 :  0.037728650702251815\n",
      "Errror for Image  11 :  0.023510447462995056\n",
      "Total Reprojection error:  0.521722429393436\n",
      "Mean Projection Error  :  0.04742931176303964\n"
     ]
    }
   ],
   "source": [
    "#Reprojection Error \n",
    "total_error=0\n",
    "for i in range(len(objpoints)):\n",
    "    image_points, _ = cv2.projectPoints(objpoints[i], rotation_vector[i], translation_vector[i], matrix, distortion_matrix)\n",
    "    error = cv2.norm(imgpoints[i],image_points, cv2.NORM_L2)/len(image_points)\n",
    "    total_error = total_error+error\n",
    "    print(\"Errror for Image  \"+str(i+1)+\" : \",error)\n",
    "\n",
    "mean_error=tot_error/len(objpoints)\n",
    "#Total and Mean Projection Error\n",
    "print(\"Total Reprojection error: \", total_error)\n",
    "print(\"Mean Projection Error  : \",mean_error)"
   ]
  },
  {
   "cell_type": "code",
   "execution_count": null,
   "metadata": {},
   "outputs": [],
   "source": []
  },
  {
   "cell_type": "code",
   "execution_count": null,
   "metadata": {},
   "outputs": [],
   "source": []
  }
 ],
 "metadata": {
  "kernelspec": {
   "display_name": "Python 3",
   "language": "python",
   "name": "python3"
  },
  "language_info": {
   "codemirror_mode": {
    "name": "ipython",
    "version": 3
   },
   "file_extension": ".py",
   "mimetype": "text/x-python",
   "name": "python",
   "nbconvert_exporter": "python",
   "pygments_lexer": "ipython3",
   "version": "3.7.1"
  }
 },
 "nbformat": 4,
 "nbformat_minor": 2
}
