{
 "cells": [
  {
   "cell_type": "code",
   "execution_count": 1,
   "metadata": {},
   "outputs": [],
   "source": [
    "import numpy as np\n",
    "import cv2\n",
    "import random\n",
    "import math\n",
    "import copy"
   ]
  },
  {
   "cell_type": "code",
   "execution_count": 2,
   "metadata": {},
   "outputs": [],
   "source": [
    "def remove_padding(image,size):\n",
    "    len1=len(image)\n",
    "    len2=len(image[0])\n",
    "    size=int(size/2)\n",
    "    for i in range(size):\n",
    "        del image[0]\n",
    "        \n",
    "    for i in range(size):\n",
    "        del image[len1-2*size]\n",
    "\n",
    "    for i in range(len(image)):\n",
    "        for j in range(size):\n",
    "            del image[i][0]\n",
    "        \n",
    "        for j in range(size):\n",
    "            del image[i][len2-2*size]\n",
    "    return image\n",
    "    \n"
   ]
  },
  {
   "cell_type": "code",
   "execution_count": 3,
   "metadata": {},
   "outputs": [],
   "source": [
    "def padding(image,size):\n",
    "    size=int(size/2)\n",
    "    len1,len2=image.shape\n",
    "    pad=[]\n",
    "    for i in range(0,(len1+2*size)):\n",
    "        temp=[]\n",
    "        for j in range(0,(len2+2*size)):\n",
    "            if i<size or j<size  or j>=(len2+size) or i>=(len1+size):\n",
    "                temp.append(0)\n",
    "            else:\n",
    "                temp.append(image[i-size][j-size])\n",
    "        pad.append(temp)\n",
    "    return pad\n"
   ]
  },
  {
   "cell_type": "code",
   "execution_count": 4,
   "metadata": {},
   "outputs": [],
   "source": [
    "def gaussian_func(x,y,std):\n",
    "    value=(-1)*(x**2+y**2)/float(2*(std**2))\n",
    "    return math.exp(value)/float((2*math.pi*(std**2)))\n",
    "\n"
   ]
  },
  {
   "cell_type": "code",
   "execution_count": 5,
   "metadata": {},
   "outputs": [],
   "source": [
    "def summing(image):\n",
    "    length1=len(image)\n",
    "    length2=len(image[0])\n",
    "    counter=0\n",
    "    for i in range(length1):\n",
    "        for j in range(length2):\n",
    "            counter=counter+image[i][j]\n",
    "    return counter\n",
    "    "
   ]
  },
  {
   "cell_type": "code",
   "execution_count": 6,
   "metadata": {},
   "outputs": [],
   "source": [
    "def gaussian_filter(image,kernel_func,i,j):\n",
    "    len1=len(kernel_func)\n",
    "    len2=len1\n",
    "    len1=int(len1/2)\n",
    "    filter_space=[]\n",
    "    for k in range((i-len1),(i+len1+1)):\n",
    "        temp=[]\n",
    "        for l in range((j-len1),(j+len1+1)):\n",
    "            temp.append(image[k][l])\n",
    "        filter_space.append(temp)\n",
    "    \n",
    "    final_array=(np.array(filter_space).reshape(len2,len2))*(np.array(kernel_func).reshape(len2,len2))\n",
    "    return summing(final_array)"
   ]
  },
  {
   "cell_type": "code",
   "execution_count": 7,
   "metadata": {},
   "outputs": [],
   "source": [
    "def gaussian_blur(kernel,image_main):\n",
    "    kernel_space=[]\n",
    "    for i in range(kernel):\n",
    "        temp=[]\n",
    "        for j in range(kernel):\n",
    "            temp.append(gaussian_func((i-1),(j-1),1))\n",
    "        kernel_space.append(temp)\n",
    "    kernel_space/=np.sum(list(kernel_space))\n",
    "    pad1=[]\n",
    "    #gaussian blur of size 3\n",
    "    pad1=padding(image_main,5)\n",
    "    pad2=copy.deepcopy(pad1)\n",
    "    for i in range(2,(len(pad1)-2)):\n",
    "        for j in range(2,(len(pad1[i])-2)):\n",
    "            pad1[i][j]=gaussian_filter(pad2,list(kernel_space),i,j)\n",
    "    pad1=remove_padding(pad1,5)\n",
    "    b=np.array(pad1)\n",
    "    return b"
   ]
  },
  {
   "cell_type": "code",
   "execution_count": 8,
   "metadata": {},
   "outputs": [],
   "source": [
    "def downgrade(image):\n",
    "    len1=len(image)\n",
    "    len2=len(image[0])\n",
    "    image_ret=[]\n",
    "    for i in range(int(len1/2)):\n",
    "        temp=[]\n",
    "        for j in range(int(len2/2)):\n",
    "            temp.append(image[i*2][j*2])\n",
    "        image_ret.append(temp)\n",
    "    return image_ret"
   ]
  },
  {
   "cell_type": "code",
   "execution_count": 9,
   "metadata": {},
   "outputs": [],
   "source": [
    "def upgrade(image):\n",
    "    len1=len(image)\n",
    "    len2=len(image[0])\n",
    "    image_ret=[]\n",
    "    for i in range(int(len1*2)):\n",
    "        temp=[]\n",
    "        for j in range(int(len2*2)):\n",
    "            temp.append(image[int(i/2)][int(j/2)])\n",
    "        image_ret.append(temp)\n",
    "    return image_ret"
   ]
  },
  {
   "cell_type": "code",
   "execution_count": 10,
   "metadata": {},
   "outputs": [],
   "source": [
    "size_local=255"
   ]
  },
  {
   "cell_type": "code",
   "execution_count": 11,
   "metadata": {},
   "outputs": [],
   "source": [
    "# Load an color image \n",
    "img = cv2.imread('image_3.png',0)\n",
    "cv2.imshow('Main Image ',img)\n",
    "cv2.waitKey(0)\n",
    "cv2.destroyAllWindows()\n"
   ]
  },
  {
   "cell_type": "code",
   "execution_count": 12,
   "metadata": {},
   "outputs": [],
   "source": [
    "image_main1=copy.deepcopy(img[:])\n",
    "image_main=copy.deepcopy(image_main1)\n",
    "image_mai2=copy.deepcopy(image_main1)"
   ]
  },
  {
   "cell_type": "code",
   "execution_count": 13,
   "metadata": {},
   "outputs": [],
   "source": [
    "gaussian_pyramid=[]\n",
    "gaussian_pyramid.append(image_main)\n",
    "for i in range(3):\n",
    "    \n",
    "    #5*5 gaussian filter \n",
    "    b=np.array\n",
    "    b=gaussian_blur(5,image_main)\n",
    "    cv2.imwrite('level'+str(i+1)+'_gaussianblur.png',(b/np.max(b)*size_local))\n",
    "    cv2.imshow('Gaussian Filter 5*5  Gaussian Blur  ',b/np.max(b))\n",
    "    cv2.waitKey(0)\n",
    "    cv2.destroyAllWindows()\n",
    "    #Level 1 downgrade\n",
    "    down1=downgrade(b)\n",
    "    gaussian_pyramid.append(down1)\n",
    "    cv2.imwrite('level'+str(i+1)+'_downgrade.png',(down1/np.max(down1)*size_local))\n",
    "    cv2.imshow('Gaussian Filter 5*5  Gaussian Blur Downgrade'+str(i+1) ,down1/np.max(down1))\n",
    "    cv2.waitKey(0)\n",
    "    cv2.destroyAllWindows()\n",
    "    image_main=np.array(down1)"
   ]
  },
  {
   "cell_type": "code",
   "execution_count": null,
   "metadata": {},
   "outputs": [],
   "source": []
  },
  {
   "cell_type": "code",
   "execution_count": 14,
   "metadata": {},
   "outputs": [],
   "source": [
    "laplacian_pyramid=[]\n",
    "laplacian_pyramid.append(gaussian_pyramid[3])\n",
    "for i in range(3):\n",
    "\n",
    "    b=upgrade(gaussian_pyramid[3-i])\n",
    "    cv2.imwrite('level'+str(i+1)+'laplacian_expand.png',(b/np.max(b)*size_local))\n",
    "    cv2.imshow('Laplacian Expand '+str(i+1) ,b/np.max(b))\n",
    "    cv2.waitKey(0)\n",
    "    cv2.destroyAllWindows()\n",
    "    result=np.subtract(gaussian_pyramid[3-i-1],b)\n",
    "    result*=np.max(result)\n",
    "#     result/=result/np.max(result)\n",
    "    laplacian_pyramid.append(result)\n",
    "    image_main1=np.array(gaussian_pyramid[3-i-1])\n",
    "    cv2.imwrite('level'+str(i+1)+'Subtraction.png',(result/np.max(result)*size_local))\n",
    "    cv2.imshow('Laplacian Formation by Subtraction'+str(i+1) ,result/np.max(result))\n",
    "    cv2.waitKey(0)\n",
    "    cv2.destroyAllWindows()\n",
    "    \n",
    "    \n",
    "    "
   ]
  },
  {
   "cell_type": "code",
   "execution_count": null,
   "metadata": {},
   "outputs": [],
   "source": []
  },
  {
   "cell_type": "code",
   "execution_count": null,
   "metadata": {},
   "outputs": [],
   "source": []
  },
  {
   "cell_type": "code",
   "execution_count": null,
   "metadata": {},
   "outputs": [],
   "source": []
  }
 ],
 "metadata": {
  "kernelspec": {
   "display_name": "Python 3",
   "language": "python",
   "name": "python3"
  },
  "language_info": {
   "codemirror_mode": {
    "name": "ipython",
    "version": 3
   },
   "file_extension": ".py",
   "mimetype": "text/x-python",
   "name": "python",
   "nbconvert_exporter": "python",
   "pygments_lexer": "ipython3",
   "version": "3.7.1"
  }
 },
 "nbformat": 4,
 "nbformat_minor": 2
}
