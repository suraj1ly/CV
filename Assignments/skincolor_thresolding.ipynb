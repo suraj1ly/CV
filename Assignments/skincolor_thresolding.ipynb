{
 "cells": [
  {
   "cell_type": "code",
   "execution_count": 172,
   "metadata": {},
   "outputs": [],
   "source": [
    "import numpy as np\n",
    "import cv2\n",
    "import copy\n",
    "import math\n",
    "import matplotlib.pyplot as plt\n",
    "import os\n",
    "import random\n",
    "import pandas as pd\n",
    "from sklearn.feature_extraction import image\n",
    "from sklearn.tree import DecisionTreeClassifier\n",
    "from numpy.random import choice"
   ]
  },
  {
   "cell_type": "code",
   "execution_count": 141,
   "metadata": {},
   "outputs": [],
   "source": [
    "import warnings\n",
    "warnings.filterwarnings('ignore')"
   ]
  },
  {
   "cell_type": "code",
   "execution_count": 142,
   "metadata": {},
   "outputs": [],
   "source": [
    "os.chdir('..')"
   ]
  },
  {
   "cell_type": "code",
   "execution_count": 143,
   "metadata": {},
   "outputs": [],
   "source": [
    "os.chdir('Q3-faces')"
   ]
  },
  {
   "cell_type": "code",
   "execution_count": 144,
   "metadata": {},
   "outputs": [],
   "source": [
    "size_local=255"
   ]
  },
  {
   "cell_type": "code",
   "execution_count": 137,
   "metadata": {},
   "outputs": [],
   "source": [
    "# Load an color image \n",
    "img = cv2.imread('face3.jpg',1)\n",
    "cv2.imshow('Main Image ',img)\n",
    "cv2.waitKey(0)\n",
    "cv2.destroyAllWindows()"
   ]
  },
  {
   "cell_type": "markdown",
   "metadata": {},
   "source": [
    "# Q3 A Skin color thresholding"
   ]
  },
  {
   "cell_type": "code",
   "execution_count": 138,
   "metadata": {},
   "outputs": [],
   "source": [
    " img = cv2.cvtColor(img, cv2.COLOR_BGR2HSV)\n",
    "upper_limit = np.array([20, 255, 255])\n",
    "lower_limit = np.array([0, 48, 80])\n",
    "\n",
    "mask1 = cv2.inRange(img, lower_limit, upper_limit)\n",
    "\n",
    "mask1 = cv2.GaussianBlur(mask1, (3, 3), 0)\n",
    "skin = cv2.bitwise_and(img, img, mask=mask1)\n",
    "img1=cv2.cvtColor(skin, cv2.COLOR_HSV2BGR)"
   ]
  },
  {
   "cell_type": "code",
   "execution_count": 139,
   "metadata": {},
   "outputs": [],
   "source": [
    "# Load an color image \n",
    "\n",
    "cv2.imshow('After Skin thresholding ',img1)\n",
    "cv2.imwrite('After_skin_threshold1.png',(img1/np.max(img1)*size_local))\n",
    "cv2.waitKey(0)\n",
    "cv2.destroyAllWindows()"
   ]
  },
  {
   "cell_type": "code",
   "execution_count": 79,
   "metadata": {},
   "outputs": [],
   "source": [
    "def patch_calc(train,size):\n",
    "    r=int(size/2)\n",
    "    split_h=np.hsplit(train,r)\n",
    "    splits_main=[]\n",
    "    for i in range(len(split_h)):\n",
    "        split_v=np.vsplit(split_h[i],r)\n",
    "        splits_main+=split_v\n",
    "    return np.array(splits_main)"
   ]
  },
  {
   "cell_type": "code",
   "execution_count": null,
   "metadata": {},
   "outputs": [],
   "source": []
  },
  {
   "cell_type": "code",
   "execution_count": null,
   "metadata": {},
   "outputs": [],
   "source": []
  },
  {
   "cell_type": "code",
   "execution_count": null,
   "metadata": {},
   "outputs": [],
   "source": []
  },
  {
   "cell_type": "code",
   "execution_count": 109,
   "metadata": {},
   "outputs": [
    {
     "data": {
      "text/plain": [
       "(400, 200, 200)"
      ]
     },
     "execution_count": 109,
     "metadata": {},
     "output_type": "execute_result"
    }
   ],
   "source": [
    "np.array(train_data).shape"
   ]
  },
  {
   "cell_type": "markdown",
   "metadata": {},
   "source": [
    "# Q3 B Adaboosting Face detector"
   ]
  },
  {
   "cell_type": "code",
   "execution_count": 188,
   "metadata": {},
   "outputs": [],
   "source": [
    "def make_train_data(train_data,feature_value):\n",
    "    train_data1=[]\n",
    "    if feature_value==0:\n",
    "        for i in range(len(train_data)):\n",
    "            temp=[]\n",
    "            for j in range(20,len(train_data[i]),20):\n",
    "                for k in range(40,len(train_data[i][j]),40):\n",
    "                    try:\n",
    "                        temp.append((train_data[i][j][k]-train_data[i][j-20][k])-(train_data[i][j][k-40]-train_data[i][j-20][k-40]))\n",
    "                    except:\n",
    "                        pass\n",
    "            train_data1.append(temp)\n",
    "    elif feature_value==1:\n",
    "        for i in range(len(train_data)):\n",
    "            temp=[]\n",
    "            for j in range(20,len(train_data[i]),20):\n",
    "                for k in range(40,len(train_data[i][j]),40):\n",
    "                    try:\n",
    "                        temp.append((train_data[i][j][k-40]-train_data[i][j-20][k-40])-(train_data[i][j][k]-train_data[i][j-20][k]))\n",
    "                    except:\n",
    "                        pass\n",
    "            train_data1.append(temp)\n",
    "    elif feature_value==2:\n",
    "        for i in range(len(train_data)):\n",
    "            temp=[]\n",
    "            for j in range(10,len(train_data[i]),10):\n",
    "                for k in range(10,len(train_data[i][j]),20):\n",
    "                    try:\n",
    "                        temp.append(((train_data[i][j][k+10]-train_data[i][j-10][k+10])-(train_data[i][j][k]-train_data[i][j-10][k]))-(((train_data[i][j][k]-train_data[i][j-10][k])-(train_data[i][j][k-10]-train_data[i][j-10][k-10]))+((train_data[i][j][k+20]-train_data[i][j-10][k+20])-(train_data[i][j][k+10]-train_data[i][j-10][k+10]))))\n",
    "                    except:\n",
    "                        pass\n",
    "            train_data1.append(temp)\n",
    "    elif feature_value==3:\n",
    "        for i in range(len(train_data)):\n",
    "            temp=[]\n",
    "            for j in range(10,len(train_data[i]),10):\n",
    "                for k in range(10,len(train_data[i][j]),20):\n",
    "                    try:\n",
    "                        temp.append((((train_data[i][j][k]-train_data[i][j-10][k])-(train_data[i][j][k-10]-train_data[i][j-10][k-10]))+((train_data[i][j][k+20]-train_data[i][j-10][k+20])-(train_data[i][j][k+10]-train_data[i][j-10][k+10])))-((train_data[i][j][k+10]-train_data[i][j-10][k+10])-(train_data[i][j][k]-train_data[i][j-10][k])))\n",
    "                    except:\n",
    "                        pass\n",
    "            train_data1.append(temp)\n",
    "    \n",
    "    return train_data1\n",
    "        "
   ]
  },
  {
   "cell_type": "code",
   "execution_count": null,
   "metadata": {},
   "outputs": [],
   "source": []
  },
  {
   "cell_type": "code",
   "execution_count": 189,
   "metadata": {},
   "outputs": [],
   "source": [
    "def calculate_feature(train_data,feature,threshold):\n",
    "    train_data1=[]\n",
    "    temp=[0]*4\n",
    "    for i in range(len(train_data)):\n",
    "       \n",
    "        for j in range(20,len(train_data[i]),20):\n",
    "            for k in range(40,len(train_data[i][j]),40):\n",
    "                try:\n",
    "                    if (train_data[i][j][k]-train_data[i][j-20][k])-(train_data[i][j][k-40]-train_data[i][j-20][k-40])>threshold:\n",
    "                        temp[0]+=1\n",
    "                except:\n",
    "                    pass\n",
    " \n",
    "   \n",
    "    for i in range(len(train_data)):\n",
    "   \n",
    "        for j in range(20,len(train_data[i]),20):\n",
    "            for k in range(40,len(train_data[i][j]),40):\n",
    "                try:\n",
    "                    if (train_data[i][j][k-40]-train_data[i][j-20][k-40])-(train_data[i][j][k]-train_data[i][j-20][k])>threshold:\n",
    "                        temp[1]+=1\n",
    "                except:\n",
    "                    pass\n",
    "  \n",
    "    for i in range(len(train_data)):\n",
    "\n",
    "        for j in range(10,len(train_data[i]),10):\n",
    "            for k in range(10,len(train_data[i][j]),20):\n",
    "                try:\n",
    "                    if (((train_data[i][j][k+10]-train_data[i][j-10][k+10])-(train_data[i][j][k]-train_data[i][j-10][k]))-(((train_data[i][j][k]-train_data[i][j-10][k])-(train_data[i][j][k-10]-train_data[i][j-10][k-10]))+((train_data[i][j][k+20]-train_data[i][j-10][k+20])-(train_data[i][j][k+10]-train_data[i][j-10][k+10]))))>threshold:\n",
    "                        temp[2]+=1\n",
    "                except:\n",
    "                    pass\n",
    "   \n",
    "    for i in range(len(train_data)):\n",
    "\n",
    "        for j in range(10,len(train_data[i]),10):\n",
    "            for k in range(10,len(train_data[i][j]),20):\n",
    "                try:\n",
    "                    if ((((train_data[i][j][k]-train_data[i][j-10][k])-(train_data[i][j][k-10]-train_data[i][j-10][k-10]))+((train_data[i][j][k+20]-train_data[i][j-10][k+20])-(train_data[i][j][k+10]-train_data[i][j-10][k+10])))-((train_data[i][j][k+10]-train_data[i][j-10][k+10])-(train_data[i][j][k]-train_data[i][j-10][k])))>threshold:\n",
    "                        temp[3]+=1\n",
    "                except:\n",
    "                    pass\n",
    "                \n",
    "    return np.argmax(np.array(temp))\n",
    "       "
   ]
  },
  {
   "cell_type": "code",
   "execution_count": null,
   "metadata": {},
   "outputs": [],
   "source": [
    "\n"
   ]
  },
  {
   "cell_type": "code",
   "execution_count": 208,
   "metadata": {},
   "outputs": [],
   "source": [
    "def adaboost(n,train_data1,train_label1,test_data,test_label,weights,d):\n",
    "    alpha_k=[]\n",
    "    Ck=[]\n",
    "    nat=[i for i in range(len(train_data1))]\n",
    "    main_data=copy.deepcopy(train_data1)\n",
    "    main_label=copy.deepcopy(train_label1)\n",
    "#     patches=[]\n",
    "#     for i in range(len(train_data1)):\n",
    "#         pat=patch_calc(train_data1[i],10)\n",
    "#         patches.append(pat)\n",
    "    main_features_set=[]\n",
    "    for i in range(n):\n",
    "        sample = choice(nat, d,p=weights,replace=False)\n",
    "        train_data=[]\n",
    "        train_label=[]\n",
    "        for j in range(len(sample)):\n",
    "            train_data.append(train_data1[sample[j]])\n",
    "            train_label.append(train_label1[sample[j]])\n",
    "        features=np.array([0]*4)\n",
    "        for j in range(4):\n",
    "            \n",
    "            \n",
    "            features[calculate_feature(train_data,j,700)]+=1\n",
    "            \n",
    "        feature_val=np.argmax(features)\n",
    "        main_features_set.append(feature_val)\n",
    "        train_data1=make_train_data(main_data,feature_val)\n",
    "        train_data2=make_train_data(train_data,feature_val)\n",
    "        print(len(train_data1))\n",
    "        clf=DecisionTreeClassifier(max_depth=2,max_leaf_nodes=5)\n",
    "        clf.fit(np.array(train_data1),np.array(main_label))\n",
    "        predict1=clf.predict(np.array(train_data2))\n",
    "        h=labelling(predict1.tolist(),train_label)\n",
    "        train_err=clf.score(np.array(train_data2),np.array(train_label))\n",
    "        train_err=1-train_err\n",
    "        alpha=0.5*np.log((1-train_err)/float(train_err))+np.log(25)\n",
    "        alpha_k.append(alpha)\n",
    "        Ck.append(clf)\n",
    "#         print(\"Hello1 : \",i)\n",
    "        for j in range(len(weights)):\n",
    "            \n",
    "            if h[j]==1:\n",
    "                \n",
    "                weights[j]=weights[j]*math.exp((-1)*alpha)\n",
    "            else:\n",
    "                weights[j]=weights[j]*math.exp(alpha)\n",
    "        w=copy.deepcopy(weights)\n",
    "        total=np.sum(w)\n",
    "        for j in range(len(weights)):\n",
    "            weights[j]=weights[j]/float(total)\n",
    "#         print(\"Hello2 : \",i)\n",
    " #For test set\n",
    "    test_predict=[]\n",
    "    for i in range(len(test_data)):\n",
    "        disc_func=[[] for i in class_label]\n",
    "        for j in range(k_max):\n",
    "            index=Ck[j].predict(np.array(test_data[i]).reshape(1,-1)).tolist()[0]\n",
    "            if disc_func[index]==[]:\n",
    "                disc_func[index].append(alpha_k[j])\n",
    "            else:\n",
    "                disc_func[index][0]+=alpha_k[j]\n",
    "        test_predict.append(disc_func.index(max(disc_func)))\n",
    "\n",
    "    test_acc=accuracy(test_predict,test_label)   \n",
    "# For train set\n",
    "    train_predict=[]\n",
    "    for i in range(len(train_data1)):\n",
    "        disc_func1=[[] for i in class_label]\n",
    "        for j in range(k_max):\n",
    "            index=Ck[j].predict(np.array(train_data1[i]).reshape(1,-1)).tolist()[0]\n",
    "            if disc_func1[index]==[]:\n",
    "                disc_func1[index].append(alpha_k[j])\n",
    "            else:\n",
    "                disc_func1[index][0]+=alpha_k[j]\n",
    "        train_predict.append(disc_func1.index(max(disc_func1)))\n",
    "\n",
    "    train_acc=accuracy(train_predict,train_label1)  \n",
    "    \n",
    "    return Ck,alpha_k,train_predict,test_predict,train_acc,test_acc,main_features_set\n",
    "            "
   ]
  },
  {
   "cell_type": "code",
   "execution_count": 184,
   "metadata": {},
   "outputs": [
    {
     "data": {
      "text/plain": [
       "'C:\\\\Users\\\\Dell-pc\\\\Desktop\\\\CV3\\\\Q3-faces\\\\Data_Set'"
      ]
     },
     "execution_count": 184,
     "metadata": {},
     "output_type": "execute_result"
    }
   ],
   "source": [
    "pwd"
   ]
  },
  {
   "cell_type": "code",
   "execution_count": null,
   "metadata": {},
   "outputs": [],
   "source": []
  },
  {
   "cell_type": "code",
   "execution_count": 149,
   "metadata": {},
   "outputs": [],
   "source": [
    "os.chdir('Data_Set')"
   ]
  },
  {
   "cell_type": "code",
   "execution_count": 150,
   "metadata": {},
   "outputs": [
    {
     "data": {
      "text/plain": [
       "['Face', 'Non_face']"
      ]
     },
     "execution_count": 150,
     "metadata": {},
     "output_type": "execute_result"
    }
   ],
   "source": [
    "os.listdir()"
   ]
  },
  {
   "cell_type": "code",
   "execution_count": 151,
   "metadata": {},
   "outputs": [],
   "source": [
    "train_data=[]\n",
    "train_label=[]\n",
    "os.chdir('Face')\n",
    "list_dir=os.listdir()\n",
    "for i in list_dir:\n",
    "    img=cv2.imread(i,0)\n",
    "    img=cv2.resize(img,(199,199))\n",
    "    img1=cv2.integral(img)\n",
    "    train_data.append(img1)\n",
    "    train_label.append(1)\n",
    "\n",
    "os.chdir('..')\n",
    "os.chdir('Non_face')\n",
    "list_dir=os.listdir()\n",
    "for i in list_dir:\n",
    "    img=cv2.imread(i,0)\n",
    "    img=cv2.resize(img,(199,199))\n",
    "    img1=cv2.integral(img)\n",
    "    train_data.append(img1)\n",
    "    train_label.append(0)\n",
    "os.chdir('..')"
   ]
  },
  {
   "cell_type": "code",
   "execution_count": 155,
   "metadata": {},
   "outputs": [],
   "source": [
    "main_data=[]\n",
    "for i in range(len(train_data)):\n",
    "    temp=[]\n",
    "    temp.append(train_data[i])\n",
    "    temp.append(train_label[i])\n",
    "    main_data.append(temp)\n",
    "    \n",
    "    "
   ]
  },
  {
   "cell_type": "code",
   "execution_count": 156,
   "metadata": {},
   "outputs": [],
   "source": [
    "data=random.sample(main_data,len(main_data))"
   ]
  },
  {
   "cell_type": "code",
   "execution_count": null,
   "metadata": {},
   "outputs": [],
   "source": []
  },
  {
   "cell_type": "code",
   "execution_count": 157,
   "metadata": {},
   "outputs": [],
   "source": [
    "X_train=data[:400]\n",
    "X_test=data[400:]"
   ]
  },
  {
   "cell_type": "code",
   "execution_count": 158,
   "metadata": {},
   "outputs": [],
   "source": [
    "train_data=[]\n",
    "train_label=[]\n",
    "test_data=[]\n",
    "test_label=[]\n",
    "for i in range(len(X_train)):\n",
    "    train_data.append(X_train[i][0])\n",
    "    train_label.append(X_train[i][1])\n",
    "for i in range(len(X_test)):\n",
    "    test_data.append(X_test[i][0])\n",
    "    test_label.append(X_test[i][1])"
   ]
  },
  {
   "cell_type": "code",
   "execution_count": null,
   "metadata": {},
   "outputs": [],
   "source": []
  },
  {
   "cell_type": "code",
   "execution_count": 209,
   "metadata": {},
   "outputs": [],
   "source": [
    "weights=[1/float(len(train_data)) for i in train_data]\n",
    "k_max=10\n",
    "d=50"
   ]
  },
  {
   "cell_type": "code",
   "execution_count": 199,
   "metadata": {},
   "outputs": [],
   "source": [
    "def accuracy(predict,true):\n",
    "    count=0\n",
    "    for i in range(len(predict)):\n",
    "        if predict[i]==(true[i]):\n",
    "            count+=1\n",
    "    return count/float(len(predict))"
   ]
  },
  {
   "cell_type": "code",
   "execution_count": 198,
   "metadata": {},
   "outputs": [],
   "source": [
    "def labelling(predict,true):\n",
    "    h=[]\n",
    "    for i in range(len(predict)):\n",
    "        if predict[i]==true[i]:\n",
    "            h.append(1)\n",
    "        else:\n",
    "            h.append(0)\n",
    "    return h"
   ]
  },
  {
   "cell_type": "code",
   "execution_count": 210,
   "metadata": {},
   "outputs": [
    {
     "name": "stdout",
     "output_type": "stream",
     "text": [
      "400\n"
     ]
    },
    {
     "ename": "IndexError",
     "evalue": "list index out of range",
     "output_type": "error",
     "traceback": [
      "\u001b[1;31m---------------------------------------------------------------------------\u001b[0m",
      "\u001b[1;31mIndexError\u001b[0m                                Traceback (most recent call last)",
      "\u001b[1;32m<ipython-input-210-4350f866238d>\u001b[0m in \u001b[0;36m<module>\u001b[1;34m\u001b[0m\n\u001b[1;32m----> 1\u001b[1;33m \u001b[0mCk\u001b[0m\u001b[1;33m,\u001b[0m\u001b[0malpha_k\u001b[0m\u001b[1;33m,\u001b[0m\u001b[0mtrain_result\u001b[0m\u001b[1;33m,\u001b[0m\u001b[0mtest_result\u001b[0m\u001b[1;33m,\u001b[0m\u001b[0mtrain_acc\u001b[0m\u001b[1;33m,\u001b[0m\u001b[0mtest_acc\u001b[0m\u001b[1;33m,\u001b[0m\u001b[0mfeature_set\u001b[0m\u001b[1;33m=\u001b[0m\u001b[0madaboost\u001b[0m\u001b[1;33m(\u001b[0m\u001b[0mk_max\u001b[0m\u001b[1;33m,\u001b[0m\u001b[0mtrain_data\u001b[0m\u001b[1;33m,\u001b[0m\u001b[0mtrain_label\u001b[0m\u001b[1;33m,\u001b[0m\u001b[0mtest_data\u001b[0m\u001b[1;33m,\u001b[0m\u001b[0mtest_label\u001b[0m\u001b[1;33m,\u001b[0m\u001b[0mweights\u001b[0m\u001b[1;33m,\u001b[0m\u001b[0md\u001b[0m\u001b[1;33m)\u001b[0m\u001b[1;33m\u001b[0m\u001b[1;33m\u001b[0m\u001b[0m\n\u001b[0m",
      "\u001b[1;32m<ipython-input-208-86e2db1ea924>\u001b[0m in \u001b[0;36madaboost\u001b[1;34m(n, train_data1, train_label1, test_data, test_label, weights, d)\u001b[0m\n\u001b[0;32m     40\u001b[0m         \u001b[1;32mfor\u001b[0m \u001b[0mj\u001b[0m \u001b[1;32min\u001b[0m \u001b[0mrange\u001b[0m\u001b[1;33m(\u001b[0m\u001b[0mlen\u001b[0m\u001b[1;33m(\u001b[0m\u001b[0mweights\u001b[0m\u001b[1;33m)\u001b[0m\u001b[1;33m)\u001b[0m\u001b[1;33m:\u001b[0m\u001b[1;33m\u001b[0m\u001b[1;33m\u001b[0m\u001b[0m\n\u001b[0;32m     41\u001b[0m \u001b[1;33m\u001b[0m\u001b[0m\n\u001b[1;32m---> 42\u001b[1;33m             \u001b[1;32mif\u001b[0m \u001b[0mh\u001b[0m\u001b[1;33m[\u001b[0m\u001b[0mj\u001b[0m\u001b[1;33m]\u001b[0m\u001b[1;33m==\u001b[0m\u001b[1;36m1\u001b[0m\u001b[1;33m:\u001b[0m\u001b[1;33m\u001b[0m\u001b[1;33m\u001b[0m\u001b[0m\n\u001b[0m\u001b[0;32m     43\u001b[0m \u001b[1;33m\u001b[0m\u001b[0m\n\u001b[0;32m     44\u001b[0m                 \u001b[0mweights\u001b[0m\u001b[1;33m[\u001b[0m\u001b[0mj\u001b[0m\u001b[1;33m]\u001b[0m\u001b[1;33m=\u001b[0m\u001b[0mweights\u001b[0m\u001b[1;33m[\u001b[0m\u001b[0mj\u001b[0m\u001b[1;33m]\u001b[0m\u001b[1;33m*\u001b[0m\u001b[0mmath\u001b[0m\u001b[1;33m.\u001b[0m\u001b[0mexp\u001b[0m\u001b[1;33m(\u001b[0m\u001b[1;33m(\u001b[0m\u001b[1;33m-\u001b[0m\u001b[1;36m1\u001b[0m\u001b[1;33m)\u001b[0m\u001b[1;33m*\u001b[0m\u001b[0malpha\u001b[0m\u001b[1;33m)\u001b[0m\u001b[1;33m\u001b[0m\u001b[1;33m\u001b[0m\u001b[0m\n",
      "\u001b[1;31mIndexError\u001b[0m: list index out of range"
     ]
    }
   ],
   "source": [
    "Ck,alpha_k,train_result,test_result,train_acc,test_acc,feature_set=adaboost(k_max,train_data,train_label,test_data,test_label,weights,d)"
   ]
  },
  {
   "cell_type": "code",
   "execution_count": null,
   "metadata": {},
   "outputs": [],
   "source": []
  },
  {
   "cell_type": "code",
   "execution_count": null,
   "metadata": {},
   "outputs": [],
   "source": []
  },
  {
   "cell_type": "markdown",
   "metadata": {},
   "source": [
    "# Seeded Segmentation"
   ]
  },
  {
   "cell_type": "code",
   "execution_count": 420,
   "metadata": {},
   "outputs": [],
   "source": [
    "gray = cv2.cvtColor(img, cv2.COLOR_BGR2GRAY)"
   ]
  },
  {
   "cell_type": "code",
   "execution_count": null,
   "metadata": {},
   "outputs": [],
   "source": []
  },
  {
   "cell_type": "code",
   "execution_count": 421,
   "metadata": {},
   "outputs": [],
   "source": [
    "gray=cv2.resize(gray,(200,200))"
   ]
  },
  {
   "cell_type": "code",
   "execution_count": 422,
   "metadata": {},
   "outputs": [],
   "source": [
    "# Point in Face region for face1 it is (100,100) and for face2, it will be(195,100) and for face3 , it is (195,145) and for face 4 it is (100,100)\n",
    "point=(195,145)"
   ]
  },
  {
   "cell_type": "code",
   "execution_count": null,
   "metadata": {},
   "outputs": [],
   "source": []
  },
  {
   "cell_type": "code",
   "execution_count": 423,
   "metadata": {},
   "outputs": [],
   "source": [
    "def neighbours(point,r,c):\n",
    "    temp=[]\n",
    "    try:\n",
    "        temp.append(((point[0]-1),(point[1]-1)))\n",
    "    except:\n",
    "        pass\n",
    "\n",
    "    try:\n",
    "        temp.append(((point[0]-1),(point[1])))\n",
    "    except:\n",
    "        pass\n",
    "    try:\n",
    "        temp.append(((point[0]-1),(point[1]+1)))\n",
    "    except:\n",
    "        pass\n",
    "    try:\n",
    "        temp.append(((point[0]),(point[1]-1)))\n",
    "    except:\n",
    "        pass\n",
    "    try:\n",
    "        temp.append(((point[0]),(point[1]+1)))\n",
    "    except:\n",
    "        pass\n",
    "    try:\n",
    "        temp.append(((point[0]+1),(point[1]-1)))\n",
    "    except:\n",
    "        pass\n",
    "    try:\n",
    "        temp.append(((point[0]+1),(point[1])))\n",
    "    except:\n",
    "        pass\n",
    "    try:\n",
    "        temp.append(((point[0]+1),(point[1]+1)))\n",
    "    except:\n",
    "        pass\n",
    "    temp1=copy.deepcopy(temp)\n",
    "    for i in range(len(temp)):\n",
    "        if temp[i][0]<0 or temp[i][1]<0 or temp[i][0]>=r or temp[i][1]>=c:\n",
    "            del temp1[temp1.index(temp[i])]\n",
    "    return temp1"
   ]
  },
  {
   "cell_type": "code",
   "execution_count": null,
   "metadata": {},
   "outputs": [],
   "source": []
  },
  {
   "cell_type": "code",
   "execution_count": 424,
   "metadata": {},
   "outputs": [
    {
     "data": {
      "text/plain": [
       "(195, 145)"
      ]
     },
     "execution_count": 424,
     "metadata": {},
     "output_type": "execute_result"
    }
   ],
   "source": [
    "point"
   ]
  },
  {
   "cell_type": "code",
   "execution_count": 425,
   "metadata": {},
   "outputs": [],
   "source": [
    "main=copy.deepcopy(gray)"
   ]
  },
  {
   "cell_type": "code",
   "execution_count": 426,
   "metadata": {},
   "outputs": [],
   "source": [
    "main[point]=255"
   ]
  },
  {
   "cell_type": "code",
   "execution_count": 427,
   "metadata": {},
   "outputs": [
    {
     "name": "stdout",
     "output_type": "stream",
     "text": [
      "Counter :  500\n",
      "Counter :  1000\n",
      "Counter :  1500\n",
      "Counter :  2000\n",
      "Counter :  2500\n",
      "Counter :  3000\n",
      "Counter :  3500\n",
      "Counter :  4000\n",
      "Counter :  4500\n",
      "Counter :  5000\n",
      "Counter :  5500\n",
      "Counter :  6000\n",
      "Counter :  6500\n",
      "Counter :  7000\n",
      "Counter :  7500\n",
      "Counter :  8000\n",
      "Counter :  8500\n",
      "Counter :  9000\n",
      "Counter :  9500\n",
      "Counter :  10000\n",
      "Counter :  10500\n",
      "Counter :  11000\n",
      "Counter :  11500\n",
      "Counter :  12000\n"
     ]
    }
   ],
   "source": [
    "stack=[]\n",
    "av=gray[point]\n",
    "stack.append(point)\n",
    "counter=0\n",
    "global_stack=copy.deepcopy(stack)\n",
    "while stack!=[]:\n",
    "    counter+=1\n",
    "    if counter%500==0:\n",
    "        print(\"Counter : \",counter)\n",
    "    neigh=neighbours(point,len(gray),len(gray[0]))\n",
    "#     print(\"FDTH\",neigh)\n",
    "    sum=0\n",
    "    for i in range(len(stack)):\n",
    "        sum+=gray[stack[i]]\n",
    "    \n",
    "    av=sum/float(len(stack))\n",
    "#     print(av)\n",
    "    for i in neigh:\n",
    "        if i not in global_stack:\n",
    "            if abs(gray[i]-av)<15:\n",
    "    #             print(\"dskfbsdjf\")\n",
    "                stack.append((i))\n",
    "                global_stack.append((i))\n",
    "                main[i]=0\n",
    "#     print(stack)\n",
    "    point=stack[0]\n",
    "    del stack[0]\n",
    "    \n",
    "        \n",
    "    \n",
    "    "
   ]
  },
  {
   "cell_type": "code",
   "execution_count": null,
   "metadata": {},
   "outputs": [],
   "source": []
  },
  {
   "cell_type": "code",
   "execution_count": 428,
   "metadata": {},
   "outputs": [],
   "source": [
    "# Load an color image \n",
    "\n",
    "cv2.imshow('After Seeded ',main)\n",
    "cv2.imwrite('After_seeded_seg3.png',(main/np.max(main)*size_local))\n",
    "cv2.waitKey(0)\n",
    "cv2.destroyAllWindows()"
   ]
  },
  {
   "cell_type": "code",
   "execution_count": null,
   "metadata": {},
   "outputs": [],
   "source": []
  },
  {
   "cell_type": "code",
   "execution_count": null,
   "metadata": {},
   "outputs": [],
   "source": []
  }
 ],
 "metadata": {
  "kernelspec": {
   "display_name": "Python 3",
   "language": "python",
   "name": "python3"
  },
  "language_info": {
   "codemirror_mode": {
    "name": "ipython",
    "version": 3
   },
   "file_extension": ".py",
   "mimetype": "text/x-python",
   "name": "python",
   "nbconvert_exporter": "python",
   "pygments_lexer": "ipython3",
   "version": "3.7.1"
  }
 },
 "nbformat": 4,
 "nbformat_minor": 2
}
