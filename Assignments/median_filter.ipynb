{
 "cells": [
  {
   "cell_type": "code",
   "execution_count": 336,
   "metadata": {},
   "outputs": [],
   "source": [
    "import numpy as np\n",
    "import cv2\n",
    "import random\n",
    "import copy"
   ]
  },
  {
   "cell_type": "code",
   "execution_count": 337,
   "metadata": {},
   "outputs": [],
   "source": [
    "def remove_padding(image,size):\n",
    "    len1=len(image)\n",
    "    len2=len(image[0])\n",
    "    size=int(size/2)\n",
    "    for i in range(size):\n",
    "        del image[0]\n",
    "        \n",
    "    for i in range(size):\n",
    "        del image[len1-2*size]\n",
    "    \n",
    "    \n",
    "    for i in range(len(image)):\n",
    "        for j in range(size):\n",
    "            del image[i][0]\n",
    "        \n",
    "        for j in range(size):\n",
    "            del image[i][len2-2*size]\n",
    "    return image\n",
    "    \n"
   ]
  },
  {
   "cell_type": "code",
   "execution_count": 338,
   "metadata": {},
   "outputs": [],
   "source": [
    "# def summing(image):\n",
    "#     length1=len(image)\n",
    "#     length2=len(image[0])\n",
    "#     counter=0\n",
    "#     for i in range(length1):\n",
    "#         for j in range(length2):\n",
    "#             counter=counter+image[i][j]\n",
    "#     return counter\n",
    "    "
   ]
  },
  {
   "cell_type": "code",
   "execution_count": 339,
   "metadata": {},
   "outputs": [],
   "source": [
    "def padding(image,size):\n",
    "    size=int(size/2)\n",
    "    len1,len2=image.shape\n",
    "    pad=[]\n",
    "    for i in range(0,(len1+2*size)):\n",
    "        temp=[]\n",
    "        for j in range(0,(len2+2*size)):\n",
    "            if i<size or j<size  or j>=(len2+size) or i>=(len1+size):\n",
    "                temp.append(0)\n",
    "            else:\n",
    "                temp.append(image[i-size][j-size])\n",
    "        pad.append(temp)\n",
    "    return pad\n"
   ]
  },
  {
   "cell_type": "code",
   "execution_count": null,
   "metadata": {},
   "outputs": [],
   "source": []
  },
  {
   "cell_type": "code",
   "execution_count": null,
   "metadata": {},
   "outputs": [],
   "source": []
  },
  {
   "cell_type": "code",
   "execution_count": null,
   "metadata": {},
   "outputs": [],
   "source": []
  },
  {
   "cell_type": "code",
   "execution_count": 340,
   "metadata": {},
   "outputs": [],
   "source": [
    "def median_calculate(image):\n",
    "    length1=len(image)\n",
    "    length2=len(image[0])\n",
    "    temp=[]\n",
    "    median_value=0\n",
    "    for i in range(length1):\n",
    "        for j in range(length2):\n",
    "            temp.append(image[i][j])\n",
    "    temp.sort()\n",
    "    l1=len(temp)\n",
    "    if len(temp)%2==0:\n",
    "        median_value=(temp[int(l1/2)]+temp[int(l1/2)-1])/float(2)\n",
    "        pass\n",
    "    else:\n",
    "        median_value=temp[int(l1/2)]\n",
    "        pass\n",
    "    return median_value\n",
    "            "
   ]
  },
  {
   "cell_type": "code",
   "execution_count": null,
   "metadata": {},
   "outputs": [],
   "source": []
  },
  {
   "cell_type": "code",
   "execution_count": 341,
   "metadata": {},
   "outputs": [],
   "source": [
    "def median_filter(image,len_kernel,i,j):\n",
    "    len1=int(len_kernel/2)\n",
    "    filter_space=[]\n",
    "    median_value1=0\n",
    "    for k in range((i-len1),(i+len1+1)):\n",
    "        temp=[]\n",
    "        for l in range((j-len1),(j+len1+1)):\n",
    "            temp.append(image[k][l])\n",
    "        filter_space.append(temp)\n",
    "#     median_value1=median_calculate(filter_space)\n",
    "    return median_calculate(filter_space)"
   ]
  },
  {
   "cell_type": "code",
   "execution_count": null,
   "metadata": {},
   "outputs": [],
   "source": []
  },
  {
   "cell_type": "code",
   "execution_count": 342,
   "metadata": {},
   "outputs": [],
   "source": [
    "# Load an color image \n",
    "img = cv2.imread('image_2.png',0)\n",
    "cv2.imshow('Main Image ',img)\n",
    "cv2.waitKey(0)\n",
    "cv2.destroyAllWindows()"
   ]
  },
  {
   "cell_type": "code",
   "execution_count": 343,
   "metadata": {},
   "outputs": [],
   "source": [
    "#Q2\n",
    "#1. Add salt pepper noise as 10%\n",
    "h=np.array(img[::])\n",
    "k=h.shape\n",
    "image_main=copy.deepcopy(img[:])\n",
    "size_image=len(image_main)*len(image_main[0])\n",
    "iteration1=int(size_image/10)\n",
    "iteration2=int(size_image/5)"
   ]
  },
  {
   "cell_type": "code",
   "execution_count": 344,
   "metadata": {},
   "outputs": [],
   "source": [
    "size_local=255"
   ]
  },
  {
   "cell_type": "code",
   "execution_count": 345,
   "metadata": {},
   "outputs": [],
   "source": [
    "for i in range(iteration1):\n",
    "    choice1=random.randint(0,(size_image-1))\n",
    "    choice2=random.randint(0,1)\n",
    "    index1=int(choice1/len(image_main[0]))\n",
    "    index2=choice1%len(image_main[0])\n",
    "    #0 means black \n",
    "    #1 means white\n",
    "    if choice2==0:\n",
    "        image_main[index1][index2]=0\n",
    "    else:\n",
    "        image_main[index1][index2]=255 \n",
    "b=np.array(image_main)"
   ]
  },
  {
   "cell_type": "code",
   "execution_count": 346,
   "metadata": {},
   "outputs": [],
   "source": [
    "cv2.imwrite('aftersaltpepper1_10_3_3.png', (b/np.max(b)*size_local))\n",
    "cv2.imshow('After Salt Pepper Noise 10% 3*3 ',b/np.max(b))\n",
    "cv2.waitKey(0)\n",
    "cv2.destroyAllWindows()"
   ]
  },
  {
   "cell_type": "code",
   "execution_count": 347,
   "metadata": {},
   "outputs": [],
   "source": [
    "#Kernel 3*3 Median filter for 10% noise\n",
    "pad1=[]\n",
    "kernel=3\n",
    "pad1=padding(image_main,3)\n",
    "pad2=copy.deepcopy(pad1)\n",
    "for i in range(1,(len(pad1)-1)):\n",
    "    for j in range(1,(len(pad1[i])-1)):\n",
    "        pad1[i][j]=median_filter(pad2,kernel,i,j)\n",
    "pad1=remove_padding(pad1,3)"
   ]
  },
  {
   "cell_type": "code",
   "execution_count": 348,
   "metadata": {},
   "outputs": [],
   "source": [
    "b[:]=np.array(pad1)\n",
    "cv2.imwrite('afterremovalsaltpepper1_10_3_3.png', (b/np.max(b)*size_local))\n",
    "cv2.imshow('After Salt Pepper Noise Removal  10% 3*3 ',b/np.max(b))\n",
    "cv2.waitKey(0)\n",
    "cv2.destroyAllWindows()"
   ]
  },
  {
   "cell_type": "code",
   "execution_count": 349,
   "metadata": {},
   "outputs": [],
   "source": [
    "#2 Salt pepper noise by 10%  with kernel 5*5\n",
    "del pad1\n",
    "del b\n",
    "pad1=[]\n",
    "kernel=5\n",
    "pad1=padding(image_main,5)\n",
    "pad2=copy.deepcopy(pad1)\n",
    "for i in range(2,(len(pad1)-2)):\n",
    "    for j in range(2,(len(pad1[i])-2)):\n",
    "        pad1[i][j]=median_filter(pad2,kernel,i,j)\n",
    "pad1=remove_padding(pad1,5)\n",
    "b=np.array(pad1)"
   ]
  },
  {
   "cell_type": "code",
   "execution_count": 350,
   "metadata": {},
   "outputs": [],
   "source": [
    "cv2.imwrite('afterremovalsaltpepper2_10_5_5.png', (b/np.max(b)*size_local))\n",
    "cv2.imshow('After Salt Pepper Noise10% 5*5   ',b/np.max(b))\n",
    "cv2.waitKey(0)\n",
    "cv2.destroyAllWindows()"
   ]
  },
  {
   "cell_type": "code",
   "execution_count": null,
   "metadata": {},
   "outputs": [],
   "source": []
  },
  {
   "cell_type": "code",
   "execution_count": 351,
   "metadata": {},
   "outputs": [],
   "source": [
    "#2 Salt pepper noise by 10%  with kernel 11*11\n",
    "del pad1\n",
    "del b\n",
    "pad1=[]\n",
    "kernel=11\n",
    "pad1=padding(image_main,11)\n",
    "pad2=copy.deepcopy(pad1)\n",
    "for i in range(5,(len(pad1)-5)):\n",
    "    for j in range(5,(len(pad1[i])-5)):\n",
    "        pad1[i][j]=median_filter(pad2,kernel,i,j)\n",
    "\n",
    "pad1=remove_padding(pad1,11)\n",
    "\n",
    "###\n",
    "b=copy.deepcopy(np.array(pad1))\n",
    "cv2.imwrite('afterremovalsaltpepper3_10_11_11.png', (b/np.max(b)*size_local))\n",
    "cv2.imshow('After Salt Pepper Noise10% 11*11   ',b/np.max(b))\n",
    "cv2.waitKey(0)\n",
    "cv2.destroyAllWindows()"
   ]
  },
  {
   "cell_type": "code",
   "execution_count": null,
   "metadata": {},
   "outputs": [],
   "source": []
  },
  {
   "cell_type": "code",
   "execution_count": 352,
   "metadata": {},
   "outputs": [],
   "source": [
    "#For 20% Salt Pepper Noise\n",
    "# Load an color image \n",
    "del img\n",
    "img = cv2.imread('image_2.png',0)\n",
    "cv2.imshow('Main Image ',img)\n",
    "cv2.waitKey(0)\n",
    "cv2.destroyAllWindows()"
   ]
  },
  {
   "cell_type": "code",
   "execution_count": 353,
   "metadata": {},
   "outputs": [],
   "source": [
    "# For 20% Salt pepper Noise \n",
    "#Q2\n",
    "del image_main\n",
    "h=np.array(img[::])\n",
    "k=h.shape\n",
    "image_main=img[:]\n",
    "size_image=len(image_main)*len(image_main[0])\n",
    "iteration1=int(size_image/10)\n",
    "iteration2=int(size_image/5)"
   ]
  },
  {
   "cell_type": "code",
   "execution_count": 354,
   "metadata": {},
   "outputs": [],
   "source": [
    "for i in range(iteration2):\n",
    "    choice1=random.randint(0,(size_image-1))\n",
    "    choice2=random.randint(0,1)\n",
    "    index1=int(choice1/len(image_main[0]))\n",
    "    index2=choice1%len(image_main[0])\n",
    "    #0 means black \n",
    "    #1 means white\n",
    "    if choice2==0:\n",
    "        image_main[index1][index2]=0\n",
    "    else:\n",
    "        image_main[index1][index2]=255\n",
    "b=np.array(image_main)\n",
    "image_main=copy.deepcopy(b)"
   ]
  },
  {
   "cell_type": "code",
   "execution_count": 355,
   "metadata": {},
   "outputs": [],
   "source": [
    "cv2.imwrite('aftersaltpepper1_20.png', (b/np.max(b)*size_local))\n",
    "cv2.imshow('After Salt Pepper Noise 20% 3*3 ',b/np.max(b))\n",
    "cv2.waitKey(0)\n",
    "cv2.destroyAllWindows()"
   ]
  },
  {
   "cell_type": "code",
   "execution_count": 356,
   "metadata": {},
   "outputs": [],
   "source": [
    "#Kernel 3*3 Median filter for 20% noise\n",
    "del pad1\n",
    "pad1=[]\n",
    "kernel=3\n",
    "pad1=padding(image_main,3)\n",
    "pad2=copy.deepcopy(pad1)\n",
    "for i in range(1,(len(pad1)-1)):\n",
    "    for j in range(1,(len(pad1[i])-1)):\n",
    "        pad1[i][j]=median_filter(pad2,kernel,i,j)\n",
    "pad1=remove_padding(pad1,3)"
   ]
  },
  {
   "cell_type": "code",
   "execution_count": 357,
   "metadata": {},
   "outputs": [],
   "source": [
    "b=np.array(pad1)\n",
    "cv2.imwrite('afterremovalsaltpepper1_1_20_3_3.png', (b/np.max(b)*size_local))\n",
    "cv2.imshow('After Salt Pepper Noise Removal  20% 3*3 ',b/np.max(b))\n",
    "cv2.waitKey(0)\n",
    "cv2.destroyAllWindows()"
   ]
  },
  {
   "cell_type": "code",
   "execution_count": 358,
   "metadata": {},
   "outputs": [],
   "source": [
    "#2 Salt pepper noise by 20%  with kernel 5*5\n",
    "pad1=[]\n",
    "kernel=5\n",
    "pad1=padding(image_main,5)\n",
    "pad2=copy.deepcopy(pad1)\n",
    "for i in range(2,(len(pad1)-2)):\n",
    "    for j in range(2,(len(pad1[i])-2)):\n",
    "        pad1[i][j]=median_filter(pad2,kernel,i,j)\n",
    "pad1=remove_padding(pad1,5)\n",
    "b=np.array(pad1)"
   ]
  },
  {
   "cell_type": "code",
   "execution_count": 359,
   "metadata": {},
   "outputs": [],
   "source": [
    "cv2.imwrite('afterremovalsaltpepper2_1_20_5_5.png',(b/np.max(b)*size_local))\n",
    "cv2.imshow('After Salt Pepper Noise20% 5*5   ',b/np.max(b))\n",
    "cv2.waitKey(0)\n",
    "cv2.destroyAllWindows()"
   ]
  },
  {
   "cell_type": "code",
   "execution_count": 360,
   "metadata": {},
   "outputs": [],
   "source": [
    "#2 Salt pepper noise by 20%  with kernel 11*11\n",
    "pad1=[]\n",
    "kernel=11\n",
    "pad1=padding(image_main,11)\n",
    "pad2=copy.deepcopy(pad1)\n",
    "for i in range(5,(len(pad1)-5)):\n",
    "    for j in range(5,(len(pad1[i])-5)):\n",
    "        pad1[i][j]=median_filter(pad2,kernel,i,j)\n",
    "pad1=remove_padding(pad1,11)\n",
    "b=np.array(pad1)\n",
    "cv2.imwrite('afterremovalsaltpepper3_1_20_11_11.png', (b/np.max(b)*size_local))\n",
    "cv2.imshow('After Salt Pepper Noise20% 11*11   ',b/np.max(b))\n",
    "cv2.waitKey(0)\n",
    "cv2.destroyAllWindows()"
   ]
  },
  {
   "cell_type": "code",
   "execution_count": 361,
   "metadata": {},
   "outputs": [],
   "source": [
    "median1 = cv2.medianBlur(image_main,11)\n",
    "median1=np.array(median1)"
   ]
  },
  {
   "cell_type": "code",
   "execution_count": 362,
   "metadata": {},
   "outputs": [],
   "source": [
    "cv2.imshow('Demo',median1)\n",
    "cv2.waitKey(0)\n",
    "cv2.destroyAllWindows()"
   ]
  },
  {
   "cell_type": "code",
   "execution_count": null,
   "metadata": {},
   "outputs": [],
   "source": []
  }
 ],
 "metadata": {
  "kernelspec": {
   "display_name": "Python 3",
   "language": "python",
   "name": "python3"
  },
  "language_info": {
   "codemirror_mode": {
    "name": "ipython",
    "version": 3
   },
   "file_extension": ".py",
   "mimetype": "text/x-python",
   "name": "python",
   "nbconvert_exporter": "python",
   "pygments_lexer": "ipython3",
   "version": "3.7.1"
  }
 },
 "nbformat": 4,
 "nbformat_minor": 2
}
