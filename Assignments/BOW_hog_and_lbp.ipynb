{
 "cells": [
  {
   "cell_type": "code",
   "execution_count": 41,
   "metadata": {},
   "outputs": [],
   "source": [
    "import numpy as np\n",
    "import cv2\n",
    "import copy\n",
    "import math\n",
    "import matplotlib.pyplot as plt\n",
    "import os\n",
    "import random\n",
    "import pandas as pd\n",
    "import warnings\n",
    "warnings.filterwarnings('ignore')\n",
    "import numpy.linalg as linalg\n",
    "from sklearn.model_selection import train_test_split\n",
    "from random import shuffle\n",
    "from sklearn.linear_model import LogisticRegressionCV\n",
    "from skimage.feature import hog\n",
    "from sklearn.cluster import KMeans\n",
    "from sklearn.metrics.pairwise import euclidean_distances\n",
    "from sklearn.naive_bayes import GaussianNB\n",
    "from skimage.feature import local_binary_pattern\n",
    "import seaborn"
   ]
  },
  {
   "cell_type": "code",
   "execution_count": null,
   "metadata": {},
   "outputs": [],
   "source": []
  },
  {
   "cell_type": "code",
   "execution_count": 42,
   "metadata": {},
   "outputs": [],
   "source": [
    "#geeks for geeks \n",
    "def sort_list(list1, list2): \n",
    "  \n",
    "    zipped_pairs = zip(list2, list1) \n",
    "  \n",
    "    z = [x for _, x in sorted(zipped_pairs)] \n",
    "      \n",
    "    return z "
   ]
  },
  {
   "cell_type": "code",
   "execution_count": 43,
   "metadata": {},
   "outputs": [],
   "source": [
    "def find_tpr_fpr(predict,real,checker):\n",
    "    tp=0\n",
    "    tn=0\n",
    "    fp=0\n",
    "#     print(\"find_tpr_fpr\")\n",
    "    fn=0\n",
    "    voc=copy.deepcopy([0,1,2,3,4,5,6,7,8,9])\n",
    "    v=voc.index(checker)\n",
    "    del voc[v]\n",
    "    for i in range(len(predict)):\n",
    "        if predict[i]==checker and real[i]==checker:\n",
    "            tp=tp+1\n",
    "        if (predict[i] in voc ) and real[i]==checker:\n",
    "            fn=fn+1\n",
    "        if predict[i]==checker and (real[i] in voc):\n",
    "            fp=fp+1\n",
    "        if (predict[i] in voc) and (real[i] in voc):\n",
    "            tn=tn+1\n",
    "    tpr2=0\n",
    "    fpr2=0\n",
    "#     print(\"Total :\",(tp+fp+tn+fn))\n",
    "    tpr2=float(tp/float(tp+fn))   \n",
    "    fpr2=float(fp/float(fp+tn))\n",
    "    \n",
    "    return tpr2,fpr2"
   ]
  },
  {
   "cell_type": "code",
   "execution_count": 44,
   "metadata": {},
   "outputs": [],
   "source": [
    "def roc_design(prob_dist,testdata,checker):\n",
    "    aux1=[]\n",
    "    aux2=[]\n",
    "    testdata1=copy.deepcopy(testdata)\n",
    "    for i in range(len(testdata)):\n",
    "        \n",
    "        aux1.append(prob_dist[i])\n",
    "        aux2.append(testdata[i])\n",
    "    main1=sort_list(aux2, aux1)\n",
    "#     print(\"Probability in incresing order : \",main1)\n",
    "    \n",
    "    tpr=[]\n",
    "    fpr=[]\n",
    "    #aux1 has prob_distribution and main1 has testlabel in sorted order\n",
    "   \n",
    "    main2=[]\n",
    "    j=0\n",
    "    for j in range(len(prob_dist)):\n",
    "        main2.append(checker)\n",
    "    i=0\n",
    "    #Logic \n",
    "    if (checker+1)==9:\n",
    "        flag=checker-1\n",
    "    else:\n",
    "        flag=checker+1\n",
    "        \n",
    "    while i <len(prob_dist):\n",
    "        tpr1=0\n",
    "        fpr1=0\n",
    "        j=0\n",
    "        \n",
    "        while (j  <= i):\n",
    "            main2[j]=flag\n",
    "            j=j+1\n",
    "#         j=i\n",
    "#         while j <len(prob_dist):\n",
    "#             main1[j]=2\n",
    "#             j=j+1\n",
    "#         print(main1)\n",
    "#         m=[]\n",
    "#         tpr.append(tpr1)\n",
    "#         fpr.append(fpr1)\n",
    "        tpr1,fpr1=find_tpr_fpr(copy.deepcopy(main2),copy.deepcopy(main1),checker)\n",
    "#         e.append(testdata)\n",
    "#         d.append(main1)\n",
    "        fpr.append(fpr1)\n",
    "        tpr.append(tpr1)\n",
    "        \n",
    "        i=i+25\n",
    "    return tpr,fpr\n"
   ]
  },
  {
   "cell_type": "code",
   "execution_count": 45,
   "metadata": {},
   "outputs": [],
   "source": [
    "#Cross validation \n",
    "def cross_validation_logistic(train_new,train_label2,train_size):\n",
    "    train_label2=np.array(train_label2)\n",
    "    fold=5\n",
    "    model=[]\n",
    "    score_set1=[]\n",
    "    if len(train_new)%5==0:\n",
    "        length=int(len(train_new)/5)\n",
    "    else:\n",
    "        length=int(len(train_new)/5)+1\n",
    "    newlength=length\n",
    "    counter=0\n",
    "    for q in range(fold):\n",
    "\n",
    "        if (max(len(train_new),length)==length):\n",
    "            length=len(train_new)\n",
    "\n",
    "        label=range(counter,length)\n",
    "        counter=counter+newlength\n",
    "        length=length+newlength\n",
    "        a=[]\n",
    "        for j in range(len(train_new)):\n",
    "            if j not in label:\n",
    "                a.append(j)\n",
    "\n",
    "        valid_test_data=copy.deepcopy(train_new[label])\n",
    "        valid_test_label=copy.deepcopy(train_label2[label])\n",
    "        valid_train_data=[train_new[i] for i in a]\n",
    "        valid_train_label=[train_label2[i] for i in a]\n",
    "#         print(len(valid_train_data))\n",
    "#         print(counter)\n",
    "        clf = LogisticRegressionCV(random_state=0, solver='lbfgs',multi_class='multinomial').fit(np.array(valid_train_data), np.array(valid_train_label))\n",
    "        \n",
    "#         clf = LogisticRegressionCV().fit(np.array(valid_train_data),np.array(valid_train_label))\n",
    "#         print(np.array(valid_train_data))\n",
    "#         print(\"hello\")\n",
    "        b=clf.predict(np.array(valid_test_data))\n",
    "        score1=clf.score(valid_test_data,valid_test_label)\n",
    "        score_set1.append(score1)\n",
    "        model.append(clf) \n",
    "\n",
    "    return model,score_set1\n",
    "    \n",
    "    "
   ]
  },
  {
   "cell_type": "code",
   "execution_count": 46,
   "metadata": {},
   "outputs": [],
   "source": [
    "#Cross validation \n",
    "def cross_validation_gaussian(train_new,train_label2,train_size):\n",
    "    train_label2=np.array(train_label2)\n",
    "    fold=5\n",
    "    model=[]\n",
    "    score_set1=[]\n",
    "    if len(train_new)%5==0:\n",
    "        length=int(len(train_new)/5)\n",
    "    else:\n",
    "        length=int(len(train_new)/5)+1\n",
    "    newlength=length\n",
    "    counter=0\n",
    "    for q in range(fold):\n",
    "\n",
    "        if (max(len(train_new),length)==length):\n",
    "            length=len(train_new)\n",
    "\n",
    "        label=range(counter,length)\n",
    "        counter=counter+newlength\n",
    "        length=length+newlength\n",
    "        a=[]\n",
    "        for j in range(len(train_new)):\n",
    "            if j not in label:\n",
    "                a.append(j)\n",
    "\n",
    "        valid_test_data=copy.deepcopy(train_new[label])\n",
    "        valid_test_label=copy.deepcopy(train_label2[label])\n",
    "        valid_train_data=[train_new[i] for i in a]\n",
    "        valid_train_label=[train_label2[i] for i in a]\n",
    "#         print(len(valid_train_data))\n",
    "#         print(counter)\n",
    "        clf = GaussianNB().fit(np.array(valid_train_data),np.array(valid_train_label))\n",
    "#         print(np.array(valid_train_data))\n",
    "#         print(\"hello\")\n",
    "        b=clf.predict(np.array(valid_test_data))\n",
    "        score1=clf.score(valid_test_data,valid_test_label)\n",
    "        score_set1.append(score1)\n",
    "        model.append(clf) \n",
    "\n",
    "    return model,score_set1\n",
    "    \n",
    "    "
   ]
  },
  {
   "cell_type": "code",
   "execution_count": 47,
   "metadata": {},
   "outputs": [],
   "source": [
    "size_local=255"
   ]
  },
  {
   "cell_type": "code",
   "execution_count": 48,
   "metadata": {},
   "outputs": [],
   "source": [
    "def find_tpr_fpr(predict,real,checker):\n",
    "    tp=0\n",
    "    tn=0\n",
    "    fp=0\n",
    "#     print(\"find_tpr_fpr\")\n",
    "    fn=0\n",
    "    voc=copy.deepcopy([0,1,2,3,4,5,6,7,8,9])\n",
    "    v=voc.index(checker)\n",
    "    del voc[v]\n",
    "    for i in range(len(predict)):\n",
    "        if predict[i]==checker and real[i]==checker:\n",
    "            tp=tp+1\n",
    "        if (predict[i] in voc ) and real[i]==checker:\n",
    "            fn=fn+1\n",
    "        if predict[i]==checker and (real[i] in voc):\n",
    "            fp=fp+1\n",
    "        if (predict[i] in voc) and (real[i] in voc):\n",
    "            tn=tn+1\n",
    "    tpr2=0\n",
    "    fpr2=0\n",
    "#     print(\"Total :\",(tp+fp+tn+fn))\n",
    "    tpr2=float(tp/float(tp+fn))   \n",
    "    fpr2=float(fp/float(fp+tn))\n",
    "    \n",
    "    return tpr2,fpr2"
   ]
  },
  {
   "cell_type": "code",
   "execution_count": 49,
   "metadata": {},
   "outputs": [],
   "source": [
    "def roc_design(prob_dist,testdata,checker):\n",
    "    aux1=[]\n",
    "    aux2=[]\n",
    "    testdata1=copy.deepcopy(testdata)\n",
    "    for i in range(len(testdata)):\n",
    "        \n",
    "        aux1.append(prob_dist[i])\n",
    "        aux2.append(testdata[i])\n",
    "    main1=sort_list(aux2, aux1)\n",
    "#     print(\"Probability in incresing order : \",main1)\n",
    "    \n",
    "    tpr=[]\n",
    "    fpr=[]\n",
    "    main2=[]\n",
    "    j=0\n",
    "    for j in range(len(prob_dist)):\n",
    "        main2.append(checker)\n",
    "    i=0\n",
    "    #Logic \n",
    "    if (checker+1)==10:\n",
    "        flag=checker-1\n",
    "    else:\n",
    "        flag=checker+1\n",
    "        \n",
    "    while i <len(prob_dist):\n",
    "        tpr1=0\n",
    "        fpr1=0\n",
    "        j=0\n",
    "        \n",
    "        while (j  <= i):\n",
    "            main2[j]=flag\n",
    "            j=j+1\n",
    "\n",
    "        tpr1,fpr1=find_tpr_fpr(copy.deepcopy(main2),copy.deepcopy(main1),checker)\n",
    "        fpr.append(fpr1)\n",
    "        tpr.append(tpr1)\n",
    "        \n",
    "        i=i+10\n",
    "    return tpr,fpr\n"
   ]
  },
  {
   "cell_type": "code",
   "execution_count": 50,
   "metadata": {},
   "outputs": [],
   "source": [
    "def unpickle(file):\n",
    "    import pickle\n",
    "    with open(file, 'rb') as fo:\n",
    "        dict = pickle.load(fo, encoding='bytes')\n",
    "    return dict"
   ]
  },
  {
   "cell_type": "code",
   "execution_count": null,
   "metadata": {},
   "outputs": [],
   "source": []
  },
  {
   "cell_type": "code",
   "execution_count": 51,
   "metadata": {},
   "outputs": [],
   "source": [
    "#geeks for geeks \n",
    "def sort_list(list1, list2): \n",
    "  \n",
    "    zipped_pairs = zip(list2, list1) \n",
    "  \n",
    "    z = [x for _, x in sorted(zipped_pairs)] \n",
    "      \n",
    "    return z "
   ]
  },
  {
   "cell_type": "code",
   "execution_count": 52,
   "metadata": {},
   "outputs": [
    {
     "data": {
      "text/plain": [
       "'C:\\\\Users\\\\Dell-pc\\\\Desktop\\\\SML3\\\\cifar'"
      ]
     },
     "execution_count": 52,
     "metadata": {},
     "output_type": "execute_result"
    }
   ],
   "source": [
    "pwd"
   ]
  },
  {
   "cell_type": "code",
   "execution_count": 53,
   "metadata": {},
   "outputs": [],
   "source": [
    "os.chdir('C:/Users/Dell-pc/Desktop/SML3/cifar')"
   ]
  },
  {
   "cell_type": "code",
   "execution_count": 54,
   "metadata": {},
   "outputs": [],
   "source": [
    "list_dir=os.listdir()"
   ]
  },
  {
   "cell_type": "code",
   "execution_count": 55,
   "metadata": {},
   "outputs": [],
   "source": [
    "test_data2=unpickle('test_batch')\n",
    "train1=unpickle('data_batch_1')\n",
    "train2=unpickle('data_batch_2')\n",
    "train3=unpickle('data_batch_3')\n",
    "train4=unpickle('data_batch_4')\n",
    "train5=unpickle('data_batch_5')"
   ]
  },
  {
   "cell_type": "code",
   "execution_count": 56,
   "metadata": {},
   "outputs": [],
   "source": [
    "length=10\n",
    "data_set=[]\n",
    "for i in range(length):\n",
    "    data_set.append([])"
   ]
  },
  {
   "cell_type": "code",
   "execution_count": 57,
   "metadata": {},
   "outputs": [],
   "source": [
    "test_label=[]\n",
    "for i in range(len(test_data2[b'labels'])):\n",
    "    test_label.append(int(test_data2[b'labels'][i]))\n"
   ]
  },
  {
   "cell_type": "code",
   "execution_count": 58,
   "metadata": {},
   "outputs": [],
   "source": [
    "test_data=[]\n",
    "for i in range(len(test_data2[b'data'])):\n",
    "    img = np.reshape(test_data2[b'data'][i], (3, 32, 32))\n",
    "    rgb = np.moveaxis(img, 0, 2)\n",
    "#     r, g, b = rgb[:,:,0], rgb[:,:,1], rgb[:,:,2]\n",
    "#     gray = 0.2989 * r + 0.5870 * g + 0.1140 * b\n",
    "#     gray=np.round(gray)\n",
    "#     gray=gray.ravel().tolist()\n",
    "    test_data.append(rgb)"
   ]
  },
  {
   "cell_type": "code",
   "execution_count": null,
   "metadata": {},
   "outputs": [],
   "source": []
  },
  {
   "cell_type": "code",
   "execution_count": 111,
   "metadata": {},
   "outputs": [],
   "source": [
    "train_data=[]\n",
    "train_label=[]\n",
    "for i in range(len(train1[b'data'])):\n",
    "    img = np.reshape(train1[b'data'][i], (3, 32, 32))\n",
    "    rgb = np.moveaxis(img, 0, 2)\n",
    "#     r, g, b = rgb[:,:,0], rgb[:,:,1], rgb[:,:,2]\n",
    "#     gray = 0.2989 * r + 0.5870 * g + 0.1140 * b\n",
    "# #     gray=np.round(gray)\n",
    "#     gray=gray.ravel()\n",
    "#     data_set[train1[b'labels'][i]].append(gray)\n",
    "    train_data.append(rgb)\n",
    "    train_label.append(train1[b'labels'][i])\n",
    "\n",
    "for i in range(len(train2[b'data'])):\n",
    "    img = np.reshape(train2[b'data'][i], (3, 32, 32))\n",
    "    rgb = np.moveaxis(img, 0, 2)\n",
    "#     r, g, b = rgb[:,:,0], rgb[:,:,1], rgb[:,:,2]\n",
    "#     gray = 0.2989 * r + 0.5870 * g + 0.1140 * b\n",
    "# #     gray=np.round(gray)\n",
    "#     gray=gray.ravel()\n",
    "#     data_set[train2[b'labels'][i]].append(gray)\n",
    "    train_data.append(rgb)\n",
    "    train_label.append(train2[b'labels'][i])\n",
    "\n",
    "for i in range(len(train3[b'data'])):\n",
    "    img = np.reshape(train3[b'data'][i], (3, 32, 32))\n",
    "    rgb = np.moveaxis(img, 0, 2)\n",
    "#     r, g, b = rgb[:,:,0], rgb[:,:,1], rgb[:,:,2]\n",
    "#     gray = 0.2989 * r + 0.5870 * g + 0.1140 * b\n",
    "# #     gray=np.round(gray)\n",
    "#     gray=gray.ravel()\n",
    "#     data_set[train3[b'labels'][i]].append(gray)\n",
    "    train_data.append(rgb)\n",
    "    train_label.append(train3[b'labels'][i])\n",
    "    \n",
    "\n",
    "for i in range(len(train4[b'data'])):\n",
    "    img = np.reshape(train4[b'data'][i], (3, 32, 32))\n",
    "    rgb = np.moveaxis(img, 0, 2)\n",
    "#     r, g, b = rgb[:,:,0], rgb[:,:,1], rgb[:,:,2]\n",
    "#     gray = 0.2989 * r + 0.5870 * g + 0.1140 * b\n",
    "# #     gray=np.round(gray)\n",
    "#     gray=gray.ravel()\n",
    "#     data_set[train4[b'labels'][i]].append(gray)\n",
    "    train_data.append(rgb)\n",
    "    train_label.append(train4[b'labels'][i])\n",
    "\n",
    "\n",
    "for i in range(len(train5[b'data'])):\n",
    "    img = np.reshape(train5[b'data'][i], (3, 32, 32))\n",
    "    rgb = np.moveaxis(img, 0, 2)\n",
    "#     r, g, b = rgb[:,:,0], rgb[:,:,1], rgb[:,:,2]\n",
    "#     gray = 0.2989 * r + 0.5870 * g + 0.1140 * b\n",
    "#     gray=np.round(gray)\n",
    "#     gray=gray.ravel()\n",
    "#     data_set[train5[b'labels'][i]].append(gray)\n",
    "    train_data.append(rgb)\n",
    "    train_label.append(train5[b'labels'][i])\n",
    "    \n",
    "    \n",
    "    \n",
    "        \n",
    "  "
   ]
  },
  {
   "cell_type": "code",
   "execution_count": 112,
   "metadata": {},
   "outputs": [],
   "source": [
    "train_data=np.array(train_data)"
   ]
  },
  {
   "cell_type": "code",
   "execution_count": 113,
   "metadata": {},
   "outputs": [
    {
     "data": {
      "text/plain": [
       "(32, 32, 3)"
      ]
     },
     "execution_count": 113,
     "metadata": {},
     "output_type": "execute_result"
    }
   ],
   "source": [
    "train_data[0].shape"
   ]
  },
  {
   "cell_type": "code",
   "execution_count": 114,
   "metadata": {},
   "outputs": [
    {
     "data": {
      "text/plain": [
       "{0, 1, 2, 3, 4, 5, 6, 7, 8, 9}"
      ]
     },
     "execution_count": 114,
     "metadata": {},
     "output_type": "execute_result"
    }
   ],
   "source": [
    "set(train_label)"
   ]
  },
  {
   "cell_type": "code",
   "execution_count": 115,
   "metadata": {},
   "outputs": [],
   "source": [
    "radius=3\n",
    "n_points=8*radius\n",
    "METHOD=\"uniform\""
   ]
  },
  {
   "cell_type": "code",
   "execution_count": 120,
   "metadata": {},
   "outputs": [
    {
     "data": {
      "text/plain": [
       "(32, 32, 3)"
      ]
     },
     "execution_count": 120,
     "metadata": {},
     "output_type": "execute_result"
    }
   ],
   "source": [
    "train_data[0].shape"
   ]
  },
  {
   "cell_type": "code",
   "execution_count": 117,
   "metadata": {},
   "outputs": [
    {
     "data": {
      "image/png": "[encoded data removed]",
      "text/plain": [
       "<Figure size 432x288 with 1 Axes>"
      ]
     },
     "metadata": {
      "needs_background": "light"
     },
     "output_type": "display_data"
    }
   ],
   "source": [
    "plt.imshow(train_data[0])\n",
    "plt.show()"
   ]
  },
  {
   "cell_type": "code",
   "execution_count": null,
   "metadata": {},
   "outputs": [],
   "source": []
  },
  {
   "cell_type": "code",
   "execution_count": 125,
   "metadata": {},
   "outputs": [
    {
     "data": {
      "image/png": "[encoded data removed]",
      "text/plain": [
       "<Figure size 432x288 with 1 Axes>"
      ]
     },
     "metadata": {
      "needs_background": "light"
     },
     "output_type": "display_data"
    }
   ],
   "source": [
    "gray== cv2.cvtColor(train_data[0], cv2.COLOR_BGR2GRAY)\n",
    "fd, hog_image = hog(gray, orientations=9, pixels_per_cell=(16, 16),cells_per_block=(2, 2), visualize=True)\n",
    "plt.imshow(hog_image.reshape(16,16))\n",
    "plt.show()"
   ]
  },
  {
   "cell_type": "code",
   "execution_count": 123,
   "metadata": {},
   "outputs": [
    {
     "data": {
      "image/png": "[encoded data removed]",
      "text/plain": [
       "<Figure size 432x288 with 1 Axes>"
      ]
     },
     "metadata": {
      "needs_background": "light"
     },
     "output_type": "display_data"
    }
   ],
   "source": [
    "gray== cv2.cvtColor(train_data[0], cv2.COLOR_BGR2GRAY)\n",
    "lbp = local_binary_pattern(gray, n_points, radius, METHOD)\n",
    "plt.imshow(lbp.reshape(16,16))\n",
    "plt.show()"
   ]
  },
  {
   "cell_type": "code",
   "execution_count": 63,
   "metadata": {},
   "outputs": [],
   "source": [
    "def patch_calc(train,size):\n",
    "    r=int(size/2)\n",
    "    split_h=np.hsplit(train,r)\n",
    "    splits_main=[]\n",
    "    for i in range(len(split_h)):\n",
    "        split_v=np.vsplit(split_h[i],r)\n",
    "        splits_main+=split_v\n",
    "    return np.array(splits_main)"
   ]
  },
  {
   "cell_type": "code",
   "execution_count": null,
   "metadata": {},
   "outputs": [],
   "source": []
  },
  {
   "cell_type": "code",
   "execution_count": 64,
   "metadata": {},
   "outputs": [],
   "source": [
    "patches=[]\n",
    "for i in range(len(set(train_label))):\n",
    "    patches.append([])\n",
    "for i in range(len(train_data)):\n",
    "    pat=patch_calc(train_data[i],4)\n",
    "    patches[train_label[i]].append(pat)"
   ]
  },
  {
   "cell_type": "code",
   "execution_count": 65,
   "metadata": {},
   "outputs": [],
   "source": [
    "patches_test=[]\n",
    "for i in range(len(set(test_label))):\n",
    "    patches_test.append([])\n",
    "for i in range(len(test_label)):\n",
    "    pat=patch_calc(test_data[i],4)\n",
    "    patches_test[test_label[i]].append(pat)"
   ]
  },
  {
   "cell_type": "code",
   "execution_count": 66,
   "metadata": {},
   "outputs": [],
   "source": [
    "patches=np.array(patches)\n",
    "patches_test=np.array(patches_test)"
   ]
  },
  {
   "cell_type": "code",
   "execution_count": null,
   "metadata": {},
   "outputs": [],
   "source": []
  },
  {
   "cell_type": "markdown",
   "metadata": {},
   "source": [
    "# For HOG Feature"
   ]
  },
  {
   "cell_type": "code",
   "execution_count": null,
   "metadata": {},
   "outputs": [],
   "source": []
  },
  {
   "cell_type": "code",
   "execution_count": null,
   "metadata": {},
   "outputs": [],
   "source": []
  },
  {
   "cell_type": "code",
   "execution_count": null,
   "metadata": {},
   "outputs": [],
   "source": []
  },
  {
   "cell_type": "markdown",
   "metadata": {},
   "source": [
    "# Bag of Words"
   ]
  },
  {
   "cell_type": "code",
   "execution_count": 138,
   "metadata": {},
   "outputs": [],
   "source": [
    "bow=[]\n",
    "for i in range(len(patches)):\n",
    "    temp2=[]\n",
    "    for j in range(len(patches[i])):\n",
    "        temp1=[]\n",
    "        for k in range(len(patches[i][j])):\n",
    "            gray = cv2.cvtColor(patches[i][j][k], cv2.COLOR_BGR2GRAY)\n",
    "            fd, hog_image = hog(gray, orientations=9, pixels_per_cell=(8, 8),cells_per_block=(2, 2), visualize=True)\n",
    "            temp1.append(fd.tolist())\n",
    "#             temp1.append(i)\n",
    "        temp2.append(np.array(temp1))\n",
    "    bow.append(np.array(temp2))\n",
    "bow=np.array(bow)"
   ]
  },
  {
   "cell_type": "code",
   "execution_count": 139,
   "metadata": {},
   "outputs": [
    {
     "data": {
      "text/plain": [
       "(10, 5000, 4, 36)"
      ]
     },
     "execution_count": 139,
     "metadata": {},
     "output_type": "execute_result"
    }
   ],
   "source": [
    "bow.shape"
   ]
  },
  {
   "cell_type": "code",
   "execution_count": 141,
   "metadata": {},
   "outputs": [],
   "source": [
    "bow=bow.reshape(10*5000*4,36)"
   ]
  },
  {
   "cell_type": "code",
   "execution_count": 142,
   "metadata": {},
   "outputs": [],
   "source": [
    "kmeans = KMeans(n_clusters=30, random_state=0).fit(bow)"
   ]
  },
  {
   "cell_type": "code",
   "execution_count": null,
   "metadata": {},
   "outputs": [],
   "source": []
  },
  {
   "cell_type": "code",
   "execution_count": 143,
   "metadata": {},
   "outputs": [],
   "source": [
    "representatives=kmeans.cluster_centers_"
   ]
  },
  {
   "cell_type": "code",
   "execution_count": null,
   "metadata": {},
   "outputs": [],
   "source": []
  },
  {
   "cell_type": "code",
   "execution_count": null,
   "metadata": {},
   "outputs": [],
   "source": []
  },
  {
   "cell_type": "markdown",
   "metadata": {},
   "source": [
    "# Making training set"
   ]
  },
  {
   "cell_type": "code",
   "execution_count": 144,
   "metadata": {},
   "outputs": [],
   "source": [
    "train_data=[]\n",
    "train_label=[]\n",
    "flag=0\n",
    "show=[]\n",
    "counter=0\n",
    "for i in range(len(patches)):\n",
    "    for j in range(len(patches[i])):\n",
    "        main=[0]*50\n",
    "        if flag==1:\n",
    "            break\n",
    "        for k in range(len(patches[i][j])):\n",
    "            gray = cv2.cvtColor(patches[i][j][k], cv2.COLOR_BGR2GRAY)\n",
    "            fd, hog_image = hog(gray, orientations=9, pixels_per_cell=(8, 8),cells_per_block=(2, 2), visualize=True)\n",
    "            if counter<10:\n",
    "                \n",
    "                show.append(hog_image)\n",
    "            euc=euclidean_distances(representatives, [fd])\n",
    "            counter+=1\n",
    "#             main.append(euc.ravel())\n",
    "            main[np.argmax(euc)]+=1\n",
    "            \n",
    "            \n",
    "            \n",
    "#             temp1.append(i)\n",
    "#         main=np.array(main)\n",
    "        train_label.append(i)\n",
    "        train_data.append(main)\n",
    "       \n",
    "            \n"
   ]
  },
  {
   "cell_type": "code",
   "execution_count": null,
   "metadata": {},
   "outputs": [],
   "source": [
    "# for i in range(len(show)):\n",
    "#     plt.imshow(show[i])\n",
    "#     plt.show()\n"
   ]
  },
  {
   "cell_type": "code",
   "execution_count": null,
   "metadata": {},
   "outputs": [],
   "source": []
  },
  {
   "cell_type": "code",
   "execution_count": null,
   "metadata": {},
   "outputs": [],
   "source": []
  },
  {
   "cell_type": "code",
   "execution_count": 145,
   "metadata": {},
   "outputs": [],
   "source": [
    "train_size=len(train_data)\n",
    "fold=5"
   ]
  },
  {
   "cell_type": "code",
   "execution_count": null,
   "metadata": {},
   "outputs": [],
   "source": []
  },
  {
   "cell_type": "code",
   "execution_count": 146,
   "metadata": {},
   "outputs": [],
   "source": [
    "X_train=[]\n",
    "for i in range(len(train_data)):\n",
    "    temp=[]\n",
    "    temp.append(train_data[i])\n",
    "    temp.append(train_label[i])\n",
    "    X_train.append(temp)\n",
    "shuffled_data=random.sample(X_train, len(X_train))"
   ]
  },
  {
   "cell_type": "code",
   "execution_count": null,
   "metadata": {},
   "outputs": [],
   "source": []
  },
  {
   "cell_type": "code",
   "execution_count": 147,
   "metadata": {},
   "outputs": [],
   "source": [
    "train_data=[]\n",
    "train_label=[]\n",
    "for i in range(len(shuffled_data)):\n",
    "    train_data.append(shuffled_data[i][0])\n",
    "    train_label.append(shuffled_data[i][1])"
   ]
  },
  {
   "cell_type": "code",
   "execution_count": 148,
   "metadata": {},
   "outputs": [
    {
     "data": {
      "text/plain": [
       "(50000, 50)"
      ]
     },
     "execution_count": 148,
     "metadata": {},
     "output_type": "execute_result"
    }
   ],
   "source": [
    "np.array(train_data).shape"
   ]
  },
  {
   "cell_type": "markdown",
   "metadata": {},
   "source": [
    "# Making Test set"
   ]
  },
  {
   "cell_type": "code",
   "execution_count": 149,
   "metadata": {},
   "outputs": [],
   "source": [
    "test_data=[]\n",
    "test_label=[]\n",
    "for i in range(len(patches_test)):\n",
    " \n",
    "    for j in range(len(patches_test[i])):\n",
    "        main=[0]*50\n",
    "        for k in range(len(patches_test[i][j])):\n",
    "            gray = cv2.cvtColor(patches[i][j][k], cv2.COLOR_BGR2GRAY)\n",
    "            fd, hog_image = hog(gray, orientations=9, pixels_per_cell=(8, 8),cells_per_block=(2, 2), visualize=True)\n",
    "            euc=euclidean_distances(representatives, [fd])\n",
    "#             main.append(euc.ravel())\n",
    "            main[np.argmax(euc)]+=1\n",
    "            \n",
    "            \n",
    "            \n",
    "#             temp1.append(i)\n",
    "#         main=np.array(main)\n",
    "        test_label.append(i)\n",
    "        test_data.append(main)\n",
    "       \n",
    "            \n"
   ]
  },
  {
   "cell_type": "code",
   "execution_count": null,
   "metadata": {},
   "outputs": [],
   "source": []
  },
  {
   "cell_type": "code",
   "execution_count": 150,
   "metadata": {},
   "outputs": [],
   "source": [
    "model,score_set=cross_validation_logistic(np.array(train_data),np.array(train_label),train_size)"
   ]
  },
  {
   "cell_type": "code",
   "execution_count": 151,
   "metadata": {},
   "outputs": [
    {
     "name": "stdout",
     "output_type": "stream",
     "text": [
      "Standard deviation :  0.004128728617867732\n",
      "Mean of accuracy : 0.12806\n",
      "Accuracy for each validation :  [0.1293, 0.123, 0.1308, 0.1336, 0.1236]\n"
     ]
    }
   ],
   "source": [
    "score_mean=np.mean(score_set)\n",
    "standard_dev=np.std(score_set)\n",
    "print(\"Standard deviation : \",standard_dev)\n",
    "print(\"Mean of accuracy :\",score_mean)\n",
    "print(\"Accuracy for each validation : \",score_set)"
   ]
  },
  {
   "cell_type": "code",
   "execution_count": null,
   "metadata": {},
   "outputs": [],
   "source": []
  },
  {
   "cell_type": "code",
   "execution_count": null,
   "metadata": {},
   "outputs": [],
   "source": []
  },
  {
   "cell_type": "code",
   "execution_count": 152,
   "metadata": {},
   "outputs": [
    {
     "name": "stdout",
     "output_type": "stream",
     "text": [
      "Test Accuracy by best model in cross validation :  0.1287\n"
     ]
    }
   ],
   "source": [
    "best=model[np.argmax(score_set)]\n",
    "best_score=best.score(test_data,test_label)\n",
    "prob_dist=best.predict_proba(test_data).tolist()\n",
    "label_pred=best.predict(test_data).tolist()\n",
    "print(\"Test Accuracy by best model in cross validation : \",best_score)"
   ]
  },
  {
   "cell_type": "code",
   "execution_count": 153,
   "metadata": {},
   "outputs": [
    {
     "data": {
      "text/plain": [
       "<matplotlib.axes._subplots.AxesSubplot at 0x14e838973c8>"
      ]
     },
     "execution_count": 153,
     "metadata": {},
     "output_type": "execute_result"
    },
    {
     "data": {
      "image/png": "[encoded data removed]",
      "text/plain": [
       "<Figure size 432x288 with 2 Axes>"
      ]
     },
     "metadata": {
      "needs_background": "light"
     },
     "output_type": "display_data"
    }
   ],
   "source": [
    "#Confusion Matrix\n",
    "confusionmatrix=[]\n",
    "temp=[0,0,0,0,0,0,0,0,0,0,0]\n",
    "for i in range(len(data_set)):\n",
    "    confusionmatrix.append(temp)\n",
    "    temp=copy.deepcopy(temp)\n",
    "for i in range(len(test_label)):\n",
    "    confusionmatrix[test_label[i]][label_pred[i]]=confusionmatrix[test_label[i]][label_pred[i]]+1\n",
    "seaborn.heatmap(confusionmatrix,annot=True,fmt=\"d\")   "
   ]
  },
  {
   "cell_type": "code",
   "execution_count": 98,
   "metadata": {},
   "outputs": [
    {
     "ename": "KeyboardInterrupt",
     "evalue": "",
     "output_type": "error",
     "traceback": [
      "\u001b[1;31m---------------------------------------------------------------------------\u001b[0m",
      "\u001b[1;31mKeyboardInterrupt\u001b[0m                         Traceback (most recent call last)",
      "\u001b[1;32m<ipython-input-98-7b7081d53a0f>\u001b[0m in \u001b[0;36m<module>\u001b[1;34m\u001b[0m\n\u001b[0;32m      2\u001b[0m \u001b[0mprob_dist\u001b[0m\u001b[1;33m=\u001b[0m\u001b[0mnp\u001b[0m\u001b[1;33m.\u001b[0m\u001b[0mtranspose\u001b[0m\u001b[1;33m(\u001b[0m\u001b[0mprob_dist\u001b[0m\u001b[1;33m)\u001b[0m\u001b[1;33m\u001b[0m\u001b[1;33m\u001b[0m\u001b[0m\n\u001b[0;32m      3\u001b[0m \u001b[1;32mfor\u001b[0m \u001b[0mi\u001b[0m \u001b[1;32min\u001b[0m \u001b[0mrange\u001b[0m\u001b[1;33m(\u001b[0m\u001b[1;36m10\u001b[0m\u001b[1;33m)\u001b[0m\u001b[1;33m:\u001b[0m\u001b[1;33m\u001b[0m\u001b[1;33m\u001b[0m\u001b[0m\n\u001b[1;32m----> 4\u001b[1;33m     \u001b[0mtpr\u001b[0m\u001b[1;33m,\u001b[0m\u001b[0mfpr\u001b[0m\u001b[1;33m=\u001b[0m\u001b[0mroc_design\u001b[0m\u001b[1;33m(\u001b[0m\u001b[0mprob_dist\u001b[0m\u001b[1;33m[\u001b[0m\u001b[0mi\u001b[0m\u001b[1;33m]\u001b[0m\u001b[1;33m,\u001b[0m\u001b[0mtest_label\u001b[0m\u001b[1;33m,\u001b[0m\u001b[0mi\u001b[0m\u001b[1;33m)\u001b[0m\u001b[1;33m\u001b[0m\u001b[1;33m\u001b[0m\u001b[0m\n\u001b[0m\u001b[0;32m      5\u001b[0m     \u001b[0mplt\u001b[0m\u001b[1;33m.\u001b[0m\u001b[0mplot\u001b[0m\u001b[1;33m(\u001b[0m\u001b[0mfpr\u001b[0m\u001b[1;33m,\u001b[0m \u001b[0mtpr\u001b[0m \u001b[1;33m,\u001b[0m\u001b[0mlabel\u001b[0m\u001b[1;33m=\u001b[0m\u001b[1;34m\"Class\"\u001b[0m\u001b[1;33m+\u001b[0m\u001b[0mstr\u001b[0m\u001b[1;33m(\u001b[0m\u001b[0mi\u001b[0m\u001b[1;33m+\u001b[0m\u001b[1;36m1\u001b[0m\u001b[1;33m)\u001b[0m\u001b[1;33m)\u001b[0m\u001b[1;33m\u001b[0m\u001b[1;33m\u001b[0m\u001b[0m\n\u001b[0;32m      6\u001b[0m \u001b[1;31m# roccurve(prob_dist,test_label)\u001b[0m\u001b[1;33m\u001b[0m\u001b[1;33m\u001b[0m\u001b[1;33m\u001b[0m\u001b[0m\n",
      "\u001b[1;32m<ipython-input-49-f08b35285c57>\u001b[0m in \u001b[0;36mroc_design\u001b[1;34m(prob_dist, testdata, checker)\u001b[0m\n\u001b[0;32m     32\u001b[0m             \u001b[0mj\u001b[0m\u001b[1;33m=\u001b[0m\u001b[0mj\u001b[0m\u001b[1;33m+\u001b[0m\u001b[1;36m1\u001b[0m\u001b[1;33m\u001b[0m\u001b[1;33m\u001b[0m\u001b[0m\n\u001b[0;32m     33\u001b[0m \u001b[1;33m\u001b[0m\u001b[0m\n\u001b[1;32m---> 34\u001b[1;33m         \u001b[0mtpr1\u001b[0m\u001b[1;33m,\u001b[0m\u001b[0mfpr1\u001b[0m\u001b[1;33m=\u001b[0m\u001b[0mfind_tpr_fpr\u001b[0m\u001b[1;33m(\u001b[0m\u001b[0mcopy\u001b[0m\u001b[1;33m.\u001b[0m\u001b[0mdeepcopy\u001b[0m\u001b[1;33m(\u001b[0m\u001b[0mmain2\u001b[0m\u001b[1;33m)\u001b[0m\u001b[1;33m,\u001b[0m\u001b[0mcopy\u001b[0m\u001b[1;33m.\u001b[0m\u001b[0mdeepcopy\u001b[0m\u001b[1;33m(\u001b[0m\u001b[0mmain1\u001b[0m\u001b[1;33m)\u001b[0m\u001b[1;33m,\u001b[0m\u001b[0mchecker\u001b[0m\u001b[1;33m)\u001b[0m\u001b[1;33m\u001b[0m\u001b[1;33m\u001b[0m\u001b[0m\n\u001b[0m\u001b[0;32m     35\u001b[0m         \u001b[0mfpr\u001b[0m\u001b[1;33m.\u001b[0m\u001b[0mappend\u001b[0m\u001b[1;33m(\u001b[0m\u001b[0mfpr1\u001b[0m\u001b[1;33m)\u001b[0m\u001b[1;33m\u001b[0m\u001b[1;33m\u001b[0m\u001b[0m\n\u001b[0;32m     36\u001b[0m         \u001b[0mtpr\u001b[0m\u001b[1;33m.\u001b[0m\u001b[0mappend\u001b[0m\u001b[1;33m(\u001b[0m\u001b[0mtpr1\u001b[0m\u001b[1;33m)\u001b[0m\u001b[1;33m\u001b[0m\u001b[1;33m\u001b[0m\u001b[0m\n",
      "\u001b[1;32m~\\Anaconda3\\lib\\copy.py\u001b[0m in \u001b[0;36mdeepcopy\u001b[1;34m(x, memo, _nil)\u001b[0m\n\u001b[0;32m    148\u001b[0m     \u001b[0mcopier\u001b[0m \u001b[1;33m=\u001b[0m \u001b[0m_deepcopy_dispatch\u001b[0m\u001b[1;33m.\u001b[0m\u001b[0mget\u001b[0m\u001b[1;33m(\u001b[0m\u001b[0mcls\u001b[0m\u001b[1;33m)\u001b[0m\u001b[1;33m\u001b[0m\u001b[1;33m\u001b[0m\u001b[0m\n\u001b[0;32m    149\u001b[0m     \u001b[1;32mif\u001b[0m \u001b[0mcopier\u001b[0m\u001b[1;33m:\u001b[0m\u001b[1;33m\u001b[0m\u001b[1;33m\u001b[0m\u001b[0m\n\u001b[1;32m--> 150\u001b[1;33m         \u001b[0my\u001b[0m \u001b[1;33m=\u001b[0m \u001b[0mcopier\u001b[0m\u001b[1;33m(\u001b[0m\u001b[0mx\u001b[0m\u001b[1;33m,\u001b[0m \u001b[0mmemo\u001b[0m\u001b[1;33m)\u001b[0m\u001b[1;33m\u001b[0m\u001b[1;33m\u001b[0m\u001b[0m\n\u001b[0m\u001b[0;32m    151\u001b[0m     \u001b[1;32melse\u001b[0m\u001b[1;33m:\u001b[0m\u001b[1;33m\u001b[0m\u001b[1;33m\u001b[0m\u001b[0m\n\u001b[0;32m    152\u001b[0m         \u001b[1;32mtry\u001b[0m\u001b[1;33m:\u001b[0m\u001b[1;33m\u001b[0m\u001b[1;33m\u001b[0m\u001b[0m\n",
      "\u001b[1;32m~\\Anaconda3\\lib\\copy.py\u001b[0m in \u001b[0;36m_deepcopy_list\u001b[1;34m(x, memo, deepcopy)\u001b[0m\n\u001b[0;32m    213\u001b[0m     \u001b[0mappend\u001b[0m \u001b[1;33m=\u001b[0m \u001b[0my\u001b[0m\u001b[1;33m.\u001b[0m\u001b[0mappend\u001b[0m\u001b[1;33m\u001b[0m\u001b[1;33m\u001b[0m\u001b[0m\n\u001b[0;32m    214\u001b[0m     \u001b[1;32mfor\u001b[0m \u001b[0ma\u001b[0m \u001b[1;32min\u001b[0m \u001b[0mx\u001b[0m\u001b[1;33m:\u001b[0m\u001b[1;33m\u001b[0m\u001b[1;33m\u001b[0m\u001b[0m\n\u001b[1;32m--> 215\u001b[1;33m         \u001b[0mappend\u001b[0m\u001b[1;33m(\u001b[0m\u001b[0mdeepcopy\u001b[0m\u001b[1;33m(\u001b[0m\u001b[0ma\u001b[0m\u001b[1;33m,\u001b[0m \u001b[0mmemo\u001b[0m\u001b[1;33m)\u001b[0m\u001b[1;33m)\u001b[0m\u001b[1;33m\u001b[0m\u001b[1;33m\u001b[0m\u001b[0m\n\u001b[0m\u001b[0;32m    216\u001b[0m     \u001b[1;32mreturn\u001b[0m \u001b[0my\u001b[0m\u001b[1;33m\u001b[0m\u001b[1;33m\u001b[0m\u001b[0m\n\u001b[0;32m    217\u001b[0m \u001b[0md\u001b[0m\u001b[1;33m[\u001b[0m\u001b[0mlist\u001b[0m\u001b[1;33m]\u001b[0m \u001b[1;33m=\u001b[0m \u001b[0m_deepcopy_list\u001b[0m\u001b[1;33m\u001b[0m\u001b[1;33m\u001b[0m\u001b[0m\n",
      "\u001b[1;31mKeyboardInterrupt\u001b[0m: "
     ]
    },
    {
     "data": {
      "image/png": "[encoded data removed]",
      "text/plain": [
       "<Figure size 432x288 with 1 Axes>"
      ]
     },
     "metadata": {
      "needs_background": "light"
     },
     "output_type": "display_data"
    }
   ],
   "source": [
    "# ROC Curve \n",
    "prob_dist=np.transpose(prob_dist)\n",
    "for i in range(10):\n",
    "    tpr,fpr=roc_design(prob_dist[i],test_label,i)\n",
    "    plt.plot(fpr, tpr ,label=\"Class\"+str(i+1))\n",
    "# roccurve(prob_dist,test_label)\n",
    "plt.xlabel(\"False +ve Rate\")\n",
    "plt.ylabel(\"True +ve Rate\")\n",
    "plt.legend()\n",
    "plt.title(\"ROC Curve for Class 1 to 10\")\n",
    "plt.show()"
   ]
  },
  {
   "cell_type": "code",
   "execution_count": null,
   "metadata": {},
   "outputs": [],
   "source": []
  },
  {
   "cell_type": "markdown",
   "metadata": {},
   "source": [
    "# LBP feature set"
   ]
  },
  {
   "cell_type": "code",
   "execution_count": 102,
   "metadata": {},
   "outputs": [],
   "source": []
  },
  {
   "cell_type": "markdown",
   "metadata": {},
   "source": [
    "# Bag of Words"
   ]
  },
  {
   "cell_type": "code",
   "execution_count": 103,
   "metadata": {},
   "outputs": [],
   "source": [
    "bow_lbp=[]\n",
    "for i in range(len(patches)):\n",
    "    temp2=[]\n",
    "    for j in range(len(patches[i])):\n",
    "        temp1=[]\n",
    "        for k in range(len(patches[i][j])):\n",
    "            gray = cv2.cvtColor(patches[i][j][k], cv2.COLOR_BGR2GRAY)\n",
    "            lbp = local_binary_pattern(gray, n_points, radius, METHOD)\n",
    "#             fd, hog_image = hog(patches[i][j][k], orientations=8, pixels_per_cell=(16, 16),cells_per_block=(1, 1), visualize=True, multichannel=True)\n",
    "            temp1.append(lbp.ravel().tolist())\n",
    "#             temp1.append(i)\n",
    "        temp2.append(np.array(temp1))\n",
    "    bow_lbp.append(np.array(temp2))\n",
    "bow_lbp=np.array(bow_lbp)"
   ]
  },
  {
   "cell_type": "code",
   "execution_count": 104,
   "metadata": {},
   "outputs": [],
   "source": [
    "bow_lbp=bow_lbp.reshape(10*5000*4,256)"
   ]
  },
  {
   "cell_type": "code",
   "execution_count": 126,
   "metadata": {},
   "outputs": [],
   "source": [
    "kmeans_lbp = KMeans(n_clusters=40, random_state=0).fit(bow_lbp)"
   ]
  },
  {
   "cell_type": "code",
   "execution_count": 127,
   "metadata": {},
   "outputs": [],
   "source": [
    "representatives_lbp=kmeans_lbp.cluster_centers_"
   ]
  },
  {
   "cell_type": "code",
   "execution_count": null,
   "metadata": {},
   "outputs": [],
   "source": []
  },
  {
   "cell_type": "code",
   "execution_count": 128,
   "metadata": {},
   "outputs": [],
   "source": [
    "train_data=[]\n",
    "train_label=[]\n",
    "show=[]\n",
    "counter=0\n",
    "for i in range(len(patches)):\n",
    "\n",
    "    for j in range(len(patches[i])):\n",
    "        main=[0]*50\n",
    "        for k in range(len(patches[i][j])):\n",
    "            gray = cv2.cvtColor(patches[i][j][k], cv2.COLOR_BGR2GRAY)\n",
    "            lbp = local_binary_pattern(gray, n_points, radius, METHOD)\n",
    "            if counter<10:\n",
    "                \n",
    "                show.append(lbp)\n",
    "            counter+=1\n",
    "            euc=euclidean_distances(representatives_lbp, [lbp.ravel()])\n",
    "#             main.append(euc.ravel())\n",
    "            main[np.argmax(euc)]+=1\n",
    "        train_label.append(i)\n",
    "        train_data.append(main)\n",
    "       \n",
    "            \n"
   ]
  },
  {
   "cell_type": "code",
   "execution_count": 129,
   "metadata": {},
   "outputs": [
    {
     "data": {
      "image/png": "[encoded data removed]",
      "text/plain": [
       "<Figure size 432x288 with 1 Axes>"
      ]
     },
     "metadata": {
      "needs_background": "light"
     },
     "output_type": "display_data"
    },
    {
     "data": {
      "image/png": "[encoded data removed]",
      "text/plain": [
       "<Figure size 432x288 with 1 Axes>"
      ]
     },
     "metadata": {
      "needs_background": "light"
     },
     "output_type": "display_data"
    },
    {
     "data": {
      "image/png": "[encoded data removed]",
      "text/plain": [
       "<Figure size 432x288 with 1 Axes>"
      ]
     },
     "metadata": {
      "needs_background": "light"
     },
     "output_type": "display_data"
    },
    {
     "data": {
      "image/png": "[encoded data removed]",
      "text/plain": [
       "<Figure size 432x288 with 1 Axes>"
      ]
     },
     "metadata": {
      "needs_background": "light"
     },
     "output_type": "display_data"
    },
    {
     "data": {
      "image/png": "[encoded data removed]",
      "text/plain": [
       "<Figure size 432x288 with 1 Axes>"
      ]
     },
     "metadata": {
      "needs_background": "light"
     },
     "output_type": "display_data"
    },
    {
     "data": {
      "image/png": "[encoded data removed]",
      "text/plain": [
       "<Figure size 432x288 with 1 Axes>"
      ]
     },
     "metadata": {
      "needs_background": "light"
     },
     "output_type": "display_data"
    },
    {
     "data": {
      "image/png": "[encoded data removed]",
      "text/plain": [
       "<Figure size 432x288 with 1 Axes>"
      ]
     },
     "metadata": {
      "needs_background": "light"
     },
     "output_type": "display_data"
    },
    {
     "data": {
      "image/png": "[encoded data removed]",
      "text/plain": [
       "<Figure size 432x288 with 1 Axes>"
      ]
     },
     "metadata": {
      "needs_background": "light"
     },
     "output_type": "display_data"
    },
    {
     "data": {
      "image/png": "[encoded data removed]",
      "text/plain": [
       "<Figure size 432x288 with 1 Axes>"
      ]
     },
     "metadata": {
      "needs_background": "light"
     },
     "output_type": "display_data"
    },
    {
     "data": {
      "image/png": "[encoded data removed]",
      "text/plain": [
       "<Figure size 432x288 with 1 Axes>"
      ]
     },
     "metadata": {
      "needs_background": "light"
     },
     "output_type": "display_data"
    }
   ],
   "source": [
    "for i in range(len(show)):\n",
    "    plt.imshow(show[i])\n",
    "    plt.show()\n"
   ]
  },
  {
   "cell_type": "code",
   "execution_count": 130,
   "metadata": {},
   "outputs": [],
   "source": [
    "train_size=len(train_data)\n",
    "fold=5"
   ]
  },
  {
   "cell_type": "code",
   "execution_count": 131,
   "metadata": {},
   "outputs": [],
   "source": [
    "X_train=[]\n",
    "for i in range(len(train_data)):\n",
    "    temp=[]\n",
    "    temp.append(train_data[i])\n",
    "    temp.append(train_label[i])\n",
    "    X_train.append(temp)\n",
    "shuffled_data=random.sample(X_train, len(X_train))"
   ]
  },
  {
   "cell_type": "code",
   "execution_count": 132,
   "metadata": {},
   "outputs": [],
   "source": [
    "train_data=[]\n",
    "train_label=[]\n",
    "for i in range(len(shuffled_data)):\n",
    "    train_data.append(shuffled_data[i][0])\n",
    "    train_label.append(shuffled_data[i][1])"
   ]
  },
  {
   "cell_type": "markdown",
   "metadata": {},
   "source": [
    "# Making Test set"
   ]
  },
  {
   "cell_type": "code",
   "execution_count": 133,
   "metadata": {},
   "outputs": [],
   "source": [
    "test_data_lbp=[]\n",
    "test_label_lbp=[]\n",
    "for i in range(len(patches_test)):\n",
    " \n",
    "    for j in range(len(patches_test[i])):\n",
    "        main=[0]*50\n",
    "        for k in range(len(patches_test[i][j])):\n",
    "            gray = cv2.cvtColor(patches[i][j][k], cv2.COLOR_BGR2GRAY)\n",
    "            lbp = local_binary_pattern(gray, n_points, radius, METHOD)\n",
    "            euc=euclidean_distances(representatives_lbp, [lbp.ravel()])\n",
    "#             main.append(euc.ravel())\n",
    "            main[np.argmax(euc)]+=1\n",
    "            \n",
    "            \n",
    "            \n",
    "#             temp1.append(i)\n",
    "#         main=np.array(main)\n",
    "        test_label_lbp.append(i)\n",
    "        test_data_lbp.append(main)\n",
    "       \n",
    "            \n"
   ]
  },
  {
   "cell_type": "code",
   "execution_count": 134,
   "metadata": {},
   "outputs": [],
   "source": [
    "model,score_set=cross_validation_logistic(np.array(train_data),np.array(train_label),train_size)"
   ]
  },
  {
   "cell_type": "code",
   "execution_count": 135,
   "metadata": {},
   "outputs": [
    {
     "name": "stdout",
     "output_type": "stream",
     "text": [
      "Standard deviation :  0.0024730547911439352\n",
      "Mean of accuracy : 0.1819\n",
      "Accuracy for each validation :  [0.1781, 0.1809, 0.1831, 0.1818, 0.1856]\n",
      "Test Accuracy by best model in cross validation :  0.1828\n"
     ]
    }
   ],
   "source": [
    "score_mean=np.mean(score_set)\n",
    "standard_dev=np.std(score_set)\n",
    "print(\"Standard deviation : \",standard_dev)\n",
    "print(\"Mean of accuracy :\",score_mean)\n",
    "print(\"Accuracy for each validation : \",score_set)\n",
    "best=model[np.argmax(score_set)]\n",
    "best_score=best.score(test_data_lbp,test_label_lbp)\n",
    "prob_dist=best.predict_proba(test_data_lbp).tolist()\n",
    "label_pred=best.predict(test_data_lbp).tolist()\n",
    "print(\"Test Accuracy by best model in cross validation : \",best_score)"
   ]
  },
  {
   "cell_type": "code",
   "execution_count": 136,
   "metadata": {},
   "outputs": [
    {
     "data": {
      "text/plain": [
       "<matplotlib.axes._subplots.AxesSubplot at 0x14e837e4588>"
      ]
     },
     "execution_count": 136,
     "metadata": {},
     "output_type": "execute_result"
    },
    {
     "data": {
      "image/png": "[encoded data removed]",
      "text/plain": [
       "<Figure size 432x288 with 2 Axes>"
      ]
     },
     "metadata": {
      "needs_background": "light"
     },
     "output_type": "display_data"
    }
   ],
   "source": [
    "#Confusion Matrix\n",
    "confusionmatrix=[]\n",
    "temp=[0,0,0,0,0,0,0,0,0,0,0]\n",
    "for i in range(len(data_set)):\n",
    "    confusionmatrix.append(temp)\n",
    "    temp=copy.deepcopy(temp)\n",
    "for i in range(len(test_label)):\n",
    "    confusionmatrix[test_label_lbp[i]][label_pred[i]]=confusionmatrix[test_label_lbp[i]][label_pred[i]]+1\n",
    "seaborn.heatmap(confusionmatrix,annot=True,fmt=\"d\")   "
   ]
  },
  {
   "cell_type": "code",
   "execution_count": 154,
   "metadata": {},
   "outputs": [
    {
     "data": {
      "text/plain": [
       "<matplotlib.axes._subplots.AxesSubplot at 0x14e839eb2e8>"
      ]
     },
     "execution_count": 154,
     "metadata": {},
     "output_type": "execute_result"
    },
    {
     "data": {
      "image/png": "[encoded data removed]",
      "text/plain": [
       "<Figure size 432x288 with 2 Axes>"
      ]
     },
     "metadata": {
      "needs_background": "light"
     },
     "output_type": "display_data"
    }
   ],
   "source": [
    "confusionmatrix=[[180,220],[214,186]]\n",
    "seaborn.heatmap(confusionmatrix,annot=True,fmt=\"d\")   "
   ]
  },
  {
   "cell_type": "code",
   "execution_count": 284,
   "metadata": {},
   "outputs": [
    {
     "data": {
      "image/png": "[encoded data removed]",
      "text/plain": [
       "<Figure size 432x288 with 1 Axes>"
      ]
     },
     "metadata": {
      "needs_background": "light"
     },
     "output_type": "display_data"
    }
   ],
   "source": [
    "# ROC Curve \n",
    "prob_dist=np.transpose(prob_dist)\n",
    "for i in range(10):\n",
    "    tpr,fpr=roc_design(prob_dist[i],test_label_lbp,i)\n",
    "    plt.plot(fpr, tpr ,label=\"Class\"+str(i+1))\n",
    "# roccurve(prob_dist,test_label)\n",
    "plt.xlabel(\"False +ve Rate\")\n",
    "plt.ylabel(\"True +ve Rate\")\n",
    "plt.legend()\n",
    "plt.title(\"ROC Curve for Class 1 to 10\")\n",
    "plt.show()"
   ]
  },
  {
   "cell_type": "code",
   "execution_count": null,
   "metadata": {},
   "outputs": [],
   "source": []
  },
  {
   "cell_type": "code",
   "execution_count": null,
   "metadata": {},
   "outputs": [],
   "source": []
  }
 ],
 "metadata": {
  "kernelspec": {
   "display_name": "Python 3",
   "language": "python",
   "name": "python3"
  },
  "language_info": {
   "codemirror_mode": {
    "name": "ipython",
    "version": 3
   },
   "file_extension": ".py",
   "mimetype": "text/x-python",
   "name": "python",
   "nbconvert_exporter": "python",
   "pygments_lexer": "ipython3",
   "version": "3.7.1"
  }
 },
 "nbformat": 4,
 "nbformat_minor": 2
}
