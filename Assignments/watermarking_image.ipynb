{
 "cells": [
  {
   "cell_type": "code",
   "execution_count": 79,
   "metadata": {},
   "outputs": [],
   "source": [
    "import numpy as np\n",
    "import cv2\n",
    "import random\n",
    "import math\n",
    "import copy\n",
    "import pywt"
   ]
  },
  {
   "cell_type": "code",
   "execution_count": 80,
   "metadata": {},
   "outputs": [],
   "source": [
    "def padding(image,size):\n",
    "    size=int(size/2)\n",
    "    len1,len2=image.shape\n",
    "    pad=[]\n",
    "    for i in range(0,(len1+2*size)):\n",
    "        temp=[]\n",
    "        for j in range(0,(len2+2*size)):\n",
    "            if i<size or j<size  or j>=(len2+size) or i>=(len1+size):\n",
    "                temp.append(0)\n",
    "            else:\n",
    "                temp.append(image[i-size][j-size])\n",
    "        pad.append(temp)\n",
    "    return pad\n",
    "    pass"
   ]
  },
  {
   "cell_type": "code",
   "execution_count": 81,
   "metadata": {},
   "outputs": [],
   "source": [
    "# Load an color image \n",
    "img = cv2.imread('image_3.png',0)\n",
    "cv2.imwrite('before_watermarking.png',(img))\n",
    "cv2.imshow('Main Image ',img)\n",
    "cv2.waitKey(0)\n",
    "cv2.destroyAllWindows()\n",
    "resultant=copy.deepcopy(img)"
   ]
  },
  {
   "cell_type": "code",
   "execution_count": 82,
   "metadata": {},
   "outputs": [],
   "source": [
    "# Haar Wavelet Decomposition\n",
    "sigma=np.std(resultant)\n",
    "length1,length2=resultant.shape\n",
    "constant1=sigma*(math.sqrt(2*math.log(length1*length2)))\n",
    "haar_res1=pywt.dwt2(resultant,'haar')\n",
    "ll1,(lh1,hl1,hh1)=haar_res1"
   ]
  },
  {
   "cell_type": "code",
   "execution_count": 83,
   "metadata": {},
   "outputs": [],
   "source": [
    "# Load an color image \n",
    "img1 = cv2.imread('watermark.jpeg',0)\n",
    "cv2.imshow('Main Watermark Image ',img1)\n",
    "cv2.waitKey(0)\n",
    "cv2.destroyAllWindows()\n",
    "img_cv = cv2.resize(img1,(length1,length2))\n",
    "resultant1=copy.deepcopy(img_cv)"
   ]
  },
  {
   "cell_type": "code",
   "execution_count": 84,
   "metadata": {},
   "outputs": [],
   "source": [
    "# Haar Wavelet Decomposition\n",
    "sigma=np.std(resultant1)\n",
    "length1,length2=resultant1.shape\n",
    "constant2=sigma*math.sqrt(2*math.log(length1*length2))\n",
    "haar_res2=pywt.dwt2(resultant1,'haar')\n",
    "ll2,(lh2,hl2,hh2)=haar_res2\n",
    "hh3=hh1+hh2\n",
    "coeffs=ll1,((lh1+lh2),(hl1+hl2),hh3)\n",
    "coeffs3=pywt.idwt2(coeffs, 'haar')\n",
    "cv2.imwrite('after_watermarking.png',(coeffs3))\n",
    "cv2.imshow('After Watermarking in Q 6  ',coeffs3/np.max(coeffs3))\n",
    "cv2.waitKey(0)\n",
    "cv2.destroyAllWindows()"
   ]
  }
 ],
 "metadata": {
  "kernelspec": {
   "display_name": "Python 3",
   "language": "python",
   "name": "python3"
  },
  "language_info": {
   "codemirror_mode": {
    "name": "ipython",
    "version": 3
   },
   "file_extension": ".py",
   "mimetype": "text/x-python",
   "name": "python",
   "nbconvert_exporter": "python",
   "pygments_lexer": "ipython3",
   "version": "3.7.1"
  }
 },
 "nbformat": 4,
 "nbformat_minor": 2
}
