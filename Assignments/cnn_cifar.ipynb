{
 "cells": [
  {
   "cell_type": "code",
   "execution_count": 21,
   "metadata": {},
   "outputs": [
    {
     "ename": "ModuleNotFoundError",
     "evalue": "No module named 'torchvision'",
     "output_type": "error",
     "traceback": [
      "\u001b[1;31m---------------------------------------------------------------------------\u001b[0m",
      "\u001b[1;31mModuleNotFoundError\u001b[0m                       Traceback (most recent call last)",
      "\u001b[1;32m<ipython-input-21-559c0e48a6db>\u001b[0m in \u001b[0;36m<module>\u001b[1;34m\u001b[0m\n\u001b[0;32m     14\u001b[0m \u001b[1;32mimport\u001b[0m \u001b[0mwarnings\u001b[0m\u001b[1;33m\u001b[0m\u001b[1;33m\u001b[0m\u001b[0m\n\u001b[0;32m     15\u001b[0m \u001b[0mwarnings\u001b[0m\u001b[1;33m.\u001b[0m\u001b[0mfilterwarnings\u001b[0m\u001b[1;33m(\u001b[0m\u001b[1;34m'ignore'\u001b[0m\u001b[1;33m)\u001b[0m\u001b[1;33m\u001b[0m\u001b[1;33m\u001b[0m\u001b[0m\n\u001b[1;32m---> 16\u001b[1;33m \u001b[1;32mimport\u001b[0m \u001b[0mtorchvision\u001b[0m\u001b[1;33m.\u001b[0m\u001b[0mmodels\u001b[0m \u001b[1;32mas\u001b[0m \u001b[0mmodels\u001b[0m\u001b[1;33m\u001b[0m\u001b[1;33m\u001b[0m\u001b[0m\n\u001b[0m",
      "\u001b[1;31mModuleNotFoundError\u001b[0m: No module named 'torchvision'"
     ]
    }
   ],
   "source": [
    "import cv2\n",
    "import random\n",
    "import numpy as np\n",
    "import matplotlib.pyplot as plt\n",
    "import copy\n",
    "import os\n",
    "import pickle\n",
    "import numpy.linalg as linalg\n",
    "from sklearn.model_selection import train_test_split\n",
    "from random import shuffle\n",
    "from sklearn.linear_model import LogisticRegressionCV\n",
    "from sklearn.naive_bayes import GaussianNB\n",
    "import seaborn\n",
    "import warnings\n",
    "warnings.filterwarnings('ignore')\n",
    "import torchvision.models as models"
   ]
  },
  {
   "cell_type": "code",
   "execution_count": 2,
   "metadata": {},
   "outputs": [],
   "source": [
    "def unpickle(file):\n",
    "    import pickle\n",
    "    with open(file, 'rb') as fo:\n",
    "        dict = pickle.load(fo, encoding='bytes')\n",
    "    return dict"
   ]
  },
  {
   "cell_type": "code",
   "execution_count": 3,
   "metadata": {},
   "outputs": [],
   "source": [
    "#geeks for geeks \n",
    "def sort_list(list1, list2): \n",
    "  \n",
    "    zipped_pairs = zip(list2, list1) \n",
    "  \n",
    "    z = [x for _, x in sorted(zipped_pairs)] \n",
    "      \n",
    "    return z "
   ]
  },
  {
   "cell_type": "code",
   "execution_count": 4,
   "metadata": {},
   "outputs": [],
   "source": [
    "def find_tpr_fpr(predict,real,checker):\n",
    "    tp=0\n",
    "    tn=0\n",
    "    fp=0\n",
    "#     print(\"find_tpr_fpr\")\n",
    "    fn=0\n",
    "    voc=copy.deepcopy([0,1,2,3,4,5,6,7,8,9])\n",
    "    v=voc.index(checker)\n",
    "    del voc[v]\n",
    "    for i in range(len(predict)):\n",
    "        if predict[i]==checker and real[i]==checker:\n",
    "            tp=tp+1\n",
    "        if (predict[i] in voc ) and real[i]==checker:\n",
    "            fn=fn+1\n",
    "        if predict[i]==checker and (real[i] in voc):\n",
    "            fp=fp+1\n",
    "        if (predict[i] in voc) and (real[i] in voc):\n",
    "            tn=tn+1\n",
    "    tpr2=0\n",
    "    fpr2=0\n",
    "#     print(\"Total :\",(tp+fp+tn+fn))\n",
    "    tpr2=float(tp/float(tp+fn))   \n",
    "    fpr2=float(fp/float(fp+tn))\n",
    "    \n",
    "    return tpr2,fpr2"
   ]
  },
  {
   "cell_type": "code",
   "execution_count": 5,
   "metadata": {},
   "outputs": [],
   "source": [
    "def roc_design(prob_dist,testdata,checker):\n",
    "    aux1=[]\n",
    "    aux2=[]\n",
    "    testdata1=copy.deepcopy(testdata)\n",
    "    for i in range(len(testdata)):\n",
    "        \n",
    "        aux1.append(prob_dist[i])\n",
    "        aux2.append(testdata[i])\n",
    "    main1=sort_list(aux2, aux1)\n",
    "#     print(\"Probability in incresing order : \",main1)\n",
    "    \n",
    "    tpr=[]\n",
    "    fpr=[]\n",
    "    main2=[]\n",
    "    j=0\n",
    "    for j in range(len(prob_dist)):\n",
    "        main2.append(checker)\n",
    "    i=0\n",
    "    #Logic \n",
    "    if (checker+1)==10:\n",
    "        flag=checker-1\n",
    "    else:\n",
    "        flag=checker+1\n",
    "        \n",
    "    while i <len(prob_dist):\n",
    "        tpr1=0\n",
    "        fpr1=0\n",
    "        j=0\n",
    "        \n",
    "        while (j  <= i):\n",
    "            main2[j]=flag\n",
    "            j=j+1\n",
    "\n",
    "        tpr1,fpr1=find_tpr_fpr(copy.deepcopy(main2),copy.deepcopy(main1),checker)\n",
    "        fpr.append(fpr1)\n",
    "        tpr.append(tpr1)\n",
    "        \n",
    "        i=i+10\n",
    "    return tpr,fpr\n"
   ]
  },
  {
   "cell_type": "code",
   "execution_count": 6,
   "metadata": {},
   "outputs": [
    {
     "data": {
      "text/plain": [
       "'C:\\\\Users\\\\Dell-pc\\\\Desktop\\\\CV4'"
      ]
     },
     "execution_count": 6,
     "metadata": {},
     "output_type": "execute_result"
    }
   ],
   "source": [
    "pwd"
   ]
  },
  {
   "cell_type": "code",
   "execution_count": 8,
   "metadata": {},
   "outputs": [],
   "source": [
    "os.chdir('C:/Users/Dell-pc/Desktop/SML3/cifar')"
   ]
  },
  {
   "cell_type": "code",
   "execution_count": 9,
   "metadata": {},
   "outputs": [],
   "source": [
    "list_dir=os.listdir()"
   ]
  },
  {
   "cell_type": "code",
   "execution_count": 10,
   "metadata": {},
   "outputs": [],
   "source": [
    "test_data2=unpickle('test_batch')\n",
    "train1=unpickle('data_batch_1')\n",
    "train2=unpickle('data_batch_2')\n",
    "train3=unpickle('data_batch_3')\n",
    "train4=unpickle('data_batch_4')\n",
    "train5=unpickle('data_batch_5')"
   ]
  },
  {
   "cell_type": "code",
   "execution_count": 11,
   "metadata": {},
   "outputs": [],
   "source": [
    "length=10\n",
    "data_set=[]\n",
    "for i in range(length):\n",
    "    data_set.append([])"
   ]
  },
  {
   "cell_type": "code",
   "execution_count": 12,
   "metadata": {},
   "outputs": [],
   "source": [
    "test_label=[]\n",
    "for i in range(len(test_data2[b'labels'])):\n",
    "    test_label.append(int(test_data2[b'labels'][i]))\n"
   ]
  },
  {
   "cell_type": "code",
   "execution_count": 13,
   "metadata": {},
   "outputs": [],
   "source": [
    "test_data=[]\n",
    "for i in range(len(test_data2[b'data'])):\n",
    "    img = np.reshape(test_data2[b'data'][i], (3, 32, 32))\n",
    "    rgb = np.moveaxis(img, 0, 2)\n",
    "    r, g, b = rgb[:,:,0], rgb[:,:,1], rgb[:,:,2]\n",
    "    gray = 0.2989 * r + 0.5870 * g + 0.1140 * b\n",
    "#     gray=np.round(gray)\n",
    "    gray=gray.ravel().tolist()\n",
    "    test_data.append(gray)"
   ]
  },
  {
   "cell_type": "code",
   "execution_count": 14,
   "metadata": {},
   "outputs": [],
   "source": [
    "train_data=[]\n",
    "train_label=[]\n",
    "for i in range(len(train1[b'data'])):\n",
    "    img = np.reshape(train1[b'data'][i], (3, 32, 32))\n",
    "    rgb = np.moveaxis(img, 0, 2)\n",
    "    r, g, b = rgb[:,:,0], rgb[:,:,1], rgb[:,:,2]\n",
    "    gray = 0.2989 * r + 0.5870 * g + 0.1140 * b\n",
    "#     gray=np.round(gray)\n",
    "    gray=gray.ravel()\n",
    "    data_set[train1[b'labels'][i]].append(gray)\n",
    "    train_data.append(gray)\n",
    "    train_label.append(train1[b'labels'][i])\n",
    "\n",
    "for i in range(len(train2[b'data'])):\n",
    "    img = np.reshape(train2[b'data'][i], (3, 32, 32))\n",
    "    rgb = np.moveaxis(img, 0, 2)\n",
    "    r, g, b = rgb[:,:,0], rgb[:,:,1], rgb[:,:,2]\n",
    "    gray = 0.2989 * r + 0.5870 * g + 0.1140 * b\n",
    "#     gray=np.round(gray)\n",
    "    gray=gray.ravel()\n",
    "    data_set[train2[b'labels'][i]].append(gray)\n",
    "    train_data.append(gray)\n",
    "    train_label.append(train2[b'labels'][i])\n",
    "\n",
    "for i in range(len(train3[b'data'])):\n",
    "    img = np.reshape(train3[b'data'][i], (3, 32, 32))\n",
    "    rgb = np.moveaxis(img, 0, 2)\n",
    "    r, g, b = rgb[:,:,0], rgb[:,:,1], rgb[:,:,2]\n",
    "    gray = 0.2989 * r + 0.5870 * g + 0.1140 * b\n",
    "#     gray=np.round(gray)\n",
    "    gray=gray.ravel()\n",
    "    data_set[train3[b'labels'][i]].append(gray)\n",
    "    train_data.append(gray)\n",
    "    train_label.append(train3[b'labels'][i])\n",
    "    \n",
    "\n",
    "for i in range(len(train4[b'data'])):\n",
    "    img = np.reshape(train4[b'data'][i], (3, 32, 32))\n",
    "    rgb = np.moveaxis(img, 0, 2)\n",
    "    r, g, b = rgb[:,:,0], rgb[:,:,1], rgb[:,:,2]\n",
    "    gray = 0.2989 * r + 0.5870 * g + 0.1140 * b\n",
    "#     gray=np.round(gray)\n",
    "    gray=gray.ravel()\n",
    "    data_set[train4[b'labels'][i]].append(gray)\n",
    "    train_data.append(gray)\n",
    "    train_label.append(train4[b'labels'][i])\n",
    "\n",
    "\n",
    "for i in range(len(train5[b'data'])):\n",
    "    img = np.reshape(train5[b'data'][i], (3, 32, 32))\n",
    "    rgb = np.moveaxis(img, 0, 2)\n",
    "    r, g, b = rgb[:,:,0], rgb[:,:,1], rgb[:,:,2]\n",
    "    gray = 0.2989 * r + 0.5870 * g + 0.1140 * b\n",
    "    gray=np.round(gray)\n",
    "    gray=gray.ravel()\n",
    "    data_set[train5[b'labels'][i]].append(gray)\n",
    "    train_data.append(gray)\n",
    "    train_label.append(train5[b'labels'][i])"
   ]
  },
  {
   "cell_type": "code",
   "execution_count": 15,
   "metadata": {},
   "outputs": [],
   "source": [
    "train_data=np.array(train_data)"
   ]
  },
  {
   "cell_type": "code",
   "execution_count": null,
   "metadata": {},
   "outputs": [],
   "source": []
  },
  {
   "cell_type": "code",
   "execution_count": null,
   "metadata": {},
   "outputs": [],
   "source": []
  },
  {
   "cell_type": "code",
   "execution_count": null,
   "metadata": {},
   "outputs": [],
   "source": []
  }
 ],
 "metadata": {
  "kernelspec": {
   "display_name": "Python 3",
   "language": "python",
   "name": "python3"
  },
  "language_info": {
   "codemirror_mode": {
    "name": "ipython",
    "version": 3
   },
   "file_extension": ".py",
   "mimetype": "text/x-python",
   "name": "python",
   "nbconvert_exporter": "python",
   "pygments_lexer": "ipython3",
   "version": "3.7.1"
  }
 },
 "nbformat": 4,
 "nbformat_minor": 2
}
